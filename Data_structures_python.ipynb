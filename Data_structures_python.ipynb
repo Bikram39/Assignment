{
  "nbformat": 4,
  "nbformat_minor": 0,
  "metadata": {
    "colab": {
      "provenance": []
    },
    "kernelspec": {
      "name": "python3",
      "display_name": "Python 3"
    },
    "language_info": {
      "name": "python"
    }
  },
  "cells": [
    {
      "cell_type": "markdown",
      "source": [
        "1. **write a code to reverse a string.**\n",
        "\n",
        "Ans:"
      ],
      "metadata": {
        "id": "q3FW_ABuHaSx"
      }
    },
    {
      "cell_type": "code",
      "source": [
        "str_1 = \"Bikram\"\n",
        "reverse = str_1[::-1]\n",
        "print(reverse)"
      ],
      "metadata": {
        "colab": {
          "base_uri": "https://localhost:8080/"
        },
        "id": "wPalxyfMIE_K",
        "outputId": "1cfcf965-a7f5-49ce-b189-2d54950f9846"
      },
      "execution_count": 4,
      "outputs": [
        {
          "output_type": "stream",
          "name": "stdout",
          "text": [
            "markiB\n"
          ]
        }
      ]
    },
    {
      "cell_type": "markdown",
      "source": [
        "2. **write a code to count the number of vowels in a string. **\n",
        "\n",
        "Ans:"
      ],
      "metadata": {
        "id": "I69MWQEoJ19y"
      }
    },
    {
      "cell_type": "code",
      "source": [
        "string = \"Bikram\"\n",
        "vowels = \"aeiouAEIOU\"\n",
        "count = sum(string.count(vowel) for vowel in vowels)\n",
        "print(count)"
      ],
      "metadata": {
        "colab": {
          "base_uri": "https://localhost:8080/"
        },
        "id": "BeB4HwUfKRU-",
        "outputId": "3ff9f10a-5abe-48fc-985a-32f1ebce9ab6"
      },
      "execution_count": 5,
      "outputs": [
        {
          "output_type": "stream",
          "name": "stdout",
          "text": [
            "2\n"
          ]
        }
      ]
    },
    {
      "cell_type": "markdown",
      "source": [
        "3. ** write a code to check if a given string is a palindrome or not.**"
      ],
      "metadata": {
        "id": "NMHo-hKcKYtp"
      }
    },
    {
      "cell_type": "code",
      "source": [
        "def is_palindrome(s):\n",
        "    return s == s[::-1]\n",
        "\n",
        "string = \"Bikram\"\n",
        "if is_palindrome(string):\n",
        "    print(f\"{string} is a palindrome.\")\n",
        "else:\n",
        "    print(f\"{string} is not a palindrome.\")"
      ],
      "metadata": {
        "colab": {
          "base_uri": "https://localhost:8080/"
        },
        "id": "C-zueFOiKtQE",
        "outputId": "7babc3da-83cc-4da5-9616-8aeb3d59f084"
      },
      "execution_count": 6,
      "outputs": [
        {
          "output_type": "stream",
          "name": "stdout",
          "text": [
            "Bikram is not a palindrome.\n"
          ]
        }
      ]
    },
    {
      "cell_type": "markdown",
      "source": [
        "4. ** write a code to check if two given strings are anagrams of each other.**"
      ],
      "metadata": {
        "id": "NSvGj5oiK--y"
      }
    },
    {
      "cell_type": "code",
      "source": [
        "# Function to check if two strings are anagrams\n",
        "def anagrams(s1, s2):\n",
        "    # Sort both strings and compare\n",
        "    return sorted(s1) == sorted(s2)\n",
        "\n",
        "\n",
        "\n",
        "if __name__ == \"__main__\":\n",
        "    str1 = \"Bikram\"\n",
        "    str2 = \"Bidisha\"\n",
        "\n",
        "    if anagrams(str1, str2):\n",
        "        print(\"True\")\n",
        "    else:\n",
        "        print(\"False\")\n",
        "\n",
        "    str1 = \"gram\"\n",
        "    str2 = \"arm\"\n",
        "\n",
        "    if anagrams(str1, str2):\n",
        "        print(\"True\")\n",
        "    else:\n",
        "        print(\"False\")\n"
      ],
      "metadata": {
        "colab": {
          "base_uri": "https://localhost:8080/"
        },
        "id": "NlW_tLoYLSoD",
        "outputId": "a01e951b-b5f9-4efe-a87e-8cfcd13356e1"
      },
      "execution_count": 10,
      "outputs": [
        {
          "output_type": "stream",
          "name": "stdout",
          "text": [
            "False\n",
            "False\n"
          ]
        }
      ]
    },
    {
      "cell_type": "markdown",
      "source": [
        "5. **write a code to find all occurences of a given substring within another string.**"
      ],
      "metadata": {
        "id": "Vej4QPalMj5J"
      }
    },
    {
      "cell_type": "code",
      "source": [
        "def find_substrings(string, substring):\n",
        "    indices = []\n",
        "    start = 0\n",
        "    while True:\n",
        "        index = string.find(substring, start)\n",
        "        if index == -1:\n",
        "            break\n",
        "        indices.append(index)\n",
        "        start +=1\n",
        "    return indices\n",
        "\n",
        "string = \"Bikram\"\n",
        "substring = \"i\"\n",
        "indices = find_substrings(string, substring)\n",
        "print(indices)"
      ],
      "metadata": {
        "colab": {
          "base_uri": "https://localhost:8080/"
        },
        "id": "zg9Xhih0NAq_",
        "outputId": "ea795c41-2810-4fd1-f9da-1ec8b0e0ab30"
      },
      "execution_count": 11,
      "outputs": [
        {
          "output_type": "stream",
          "name": "stdout",
          "text": [
            "[1, 1]\n"
          ]
        }
      ]
    },
    {
      "cell_type": "markdown",
      "source": [
        "6. **write a code to perfrom basic string compression using the counts of repeted charracters.**"
      ],
      "metadata": {
        "id": "0n_biLH9g87K"
      }
    },
    {
      "cell_type": "code",
      "source": [
        "def compress_str(x):\n",
        "  res = \"\"\n",
        "  count = 1\n",
        "  for i in range (1, len(x)):\n",
        "    if x[i] == x[i-1]:\n",
        "      count += 1\n",
        "    else:\n",
        "      res = res + x[i-1]\n",
        "      if count > 1:\n",
        "        res = res + str(count)\n",
        "      count = 1\n",
        "  res = res + x[-1]\n",
        "  if count > 1:\n",
        "    res = res + str(count)\n",
        "  return res\n",
        "x = \"bikrambikkibidisha\"\n",
        "print(compress_str(x))"
      ],
      "metadata": {
        "colab": {
          "base_uri": "https://localhost:8080/"
        },
        "id": "K_P7A0RnhYnf",
        "outputId": "c23e21b5-a3ec-43aa-e89c-1a5d223d82da"
      },
      "execution_count": 3,
      "outputs": [
        {
          "output_type": "stream",
          "name": "stdout",
          "text": [
            "bikrambik2ibidisha\n"
          ]
        }
      ]
    },
    {
      "cell_type": "markdown",
      "source": [
        "7. **write a code to determine if a string has all unique characters.**"
      ],
      "metadata": {
        "id": "zK1rr3Kmi2aM"
      }
    },
    {
      "cell_type": "code",
      "source": [
        "def unique_characters(str):\n",
        "   if len(str) > 256:\n",
        "    return  False\n",
        "   char_set = [False] * 128\n",
        "   for char in str:\n",
        "    if char_set[ord(char)]:\n",
        "     return False\n",
        "    char_set[ord(char)] = True\n",
        "   return True\n",
        "\n",
        "str = \"Bikram\"\n",
        "if unique_characters(str):\n",
        "    print(\"True\")\n",
        "else:\n",
        "    print(\"False\")\n",
        "\n"
      ],
      "metadata": {
        "colab": {
          "base_uri": "https://localhost:8080/"
        },
        "id": "-Zw7Z_DHjIOV",
        "outputId": "d0ef5061-8625-433f-d662-b33d2e500d29"
      },
      "execution_count": 4,
      "outputs": [
        {
          "output_type": "stream",
          "name": "stdout",
          "text": [
            "True\n"
          ]
        }
      ]
    },
    {
      "cell_type": "markdown",
      "source": [
        "8. ** write a code to convert a given string to uppercase or lowercase.**"
      ],
      "metadata": {
        "id": "ZiwKyIS1kNsK"
      }
    },
    {
      "cell_type": "code",
      "source": [
        "from re import S\n",
        "def convert(input):\n",
        "  input_char = ord(input[0])\n",
        "\n",
        "  if((input_char >= 65 and input_char <= 90) or (input_char >=97 and input_char <=122)):\n",
        "    return True\n",
        "  else:\n",
        "    return False\n",
        "\n",
        "def toggleChars(S):\n",
        "    s = \"\"\n",
        "\n",
        "    for it in range(len(S)):\n",
        "\n",
        "        if(convert(S[it])):\n",
        "            s += chr(ord(S[it]) ^ (1 << 5))\n",
        "        else:\n",
        "            s += S[it]\n",
        "\n",
        "    return s\n",
        "\n",
        "S = \"Bikram\"\n",
        "print(toggleChars(S))\n",
        ""
      ],
      "metadata": {
        "colab": {
          "base_uri": "https://localhost:8080/"
        },
        "id": "_46vLmJ-lnb_",
        "outputId": "56248e3e-2510-4eb5-d73d-3b47196b5f11"
      },
      "execution_count": 6,
      "outputs": [
        {
          "output_type": "stream",
          "name": "stdout",
          "text": [
            "bIKRAM\n"
          ]
        }
      ]
    },
    {
      "cell_type": "markdown",
      "source": [
        "9. ** write a code to count the number of words in a string.**"
      ],
      "metadata": {
        "id": "Eng7CL1omr84"
      }
    },
    {
      "cell_type": "code",
      "source": [
        "import re\n",
        "\n",
        "def count_words(string):\n",
        "    word_count = 0\n",
        "    state = 0\n",
        "\n",
        "    for char in re.findall(r\"\\\\.|[\\w]\", string):\n",
        "        # Check for backslash first\n",
        "        if char == '\\\\':\n",
        "            continue\n",
        "\n",
        "\n",
        "        if char.isalnum():\n",
        "\n",
        "            if state == 0:\n",
        "                word_count += 1\n",
        "                state = 1\n",
        "\n",
        "        else:\n",
        "            # Change state to OUT\n",
        "            state = 0\n",
        "\n",
        "    return word_count\n",
        "\n",
        "\n",
        "string = \"abc\\\\p\\\"\" # Input string\n",
        "print(\"No of words:\", count_words(string)) # Count words\n",
        "\n"
      ],
      "metadata": {
        "colab": {
          "base_uri": "https://localhost:8080/"
        },
        "id": "tnsOAKL1nGOl",
        "outputId": "c2b059c2-b034-4d88-8256-f107d50d2771"
      },
      "execution_count": 7,
      "outputs": [
        {
          "output_type": "stream",
          "name": "stdout",
          "text": [
            "No of words: 1\n"
          ]
        }
      ]
    },
    {
      "cell_type": "markdown",
      "source": [
        "10. ** write a code to concatenate two string without using the + operator.**"
      ],
      "metadata": {
        "id": "cJxfBhhRn8bG"
      }
    },
    {
      "cell_type": "code",
      "source": [
        "var_1 = \"Bikram\"\n",
        "var_2 = \"Bidisha\"\n",
        "print(\"\".join([var_1, var_2]))\n",
        "\n",
        "var_3 = \" \".join([var_1, var_2])\n",
        "print(var_3)\n"
      ],
      "metadata": {
        "colab": {
          "base_uri": "https://localhost:8080/"
        },
        "id": "HB7QIT4PoZZp",
        "outputId": "beb64001-462d-4e7f-da71-d363ffe63541"
      },
      "execution_count": 8,
      "outputs": [
        {
          "output_type": "stream",
          "name": "stdout",
          "text": [
            "BikramBidisha\n",
            "Bikram Bidisha\n"
          ]
        }
      ]
    },
    {
      "cell_type": "markdown",
      "source": [
        "11. ** write a code to remove all occurences of a specific element from a list.**"
      ],
      "metadata": {
        "id": "iRhBIiBbpP0f"
      }
    },
    {
      "cell_type": "code",
      "source": [
        "def remove_element(lst, element):\n",
        "    element_count = lst.count(element)\n",
        "    for i  in range(element_count):\n",
        "        lst.remove(element)\n",
        "    return lst\n",
        "\n",
        "if __name__==\"__main__\":\n",
        "  lst = [10, 20, 10, 30, 10, 40, 10, 50]\n",
        "  element = 10\n",
        "  print(\"the list before removal:\")\n",
        "  print(lst)\n",
        "  result = remove_element(lst, element)\n",
        "  print(\"the list after removal:\")\n",
        "  print(result)"
      ],
      "metadata": {
        "colab": {
          "base_uri": "https://localhost:8080/"
        },
        "id": "XHve09cMsSsO",
        "outputId": "2f790d63-4353-4db5-bae0-a933bcb8553b"
      },
      "execution_count": 15,
      "outputs": [
        {
          "output_type": "stream",
          "name": "stdout",
          "text": [
            "the list before removal:\n",
            "[10, 20, 10, 30, 10, 40, 10, 50]\n",
            "the list after removal:\n",
            "[20, 30, 40, 50]\n"
          ]
        }
      ]
    },
    {
      "cell_type": "markdown",
      "source": [
        "12. ** implement to code to find the second largest number in a given list of integers.\n",
        "**"
      ],
      "metadata": {
        "id": "jw7URW5atEg7"
      }
    },
    {
      "cell_type": "code",
      "source": [
        "def find_largest(numbers):\n",
        "  unique_num = list(set(numbers))\n",
        "\n",
        "  if len(unique_num) <2:\n",
        "    return \"not unique number\"\n",
        "  return sorted(inique_num)[-2]\n",
        "\n",
        "numbers = [99,99]\n",
        "second_largest = find_largest(numbers)\n",
        "print(second_largest)"
      ],
      "metadata": {
        "colab": {
          "base_uri": "https://localhost:8080/"
        },
        "id": "Fk6kHW0vtdSN",
        "outputId": "c186c3e1-a921-4d5d-f8eb-9bf64857b709"
      },
      "execution_count": 1,
      "outputs": [
        {
          "output_type": "stream",
          "name": "stdout",
          "text": [
            "not unique number\n"
          ]
        }
      ]
    },
    {
      "cell_type": "markdown",
      "source": [
        "13. ** Create a code to count the occurence of each element in a list and return a dictionary with element as keys and their counts as values.**"
      ],
      "metadata": {
        "id": "sVDTIbdAMrfM"
      }
    },
    {
      "cell_type": "code",
      "source": [
        "def count(list):\n",
        "  element_count = {}\n",
        "  for element in list:\n",
        "    if element in element_count:\n",
        "      element_count[element] +=1\n",
        "    else:\n",
        "      element_count[element] = 1\n",
        "  return element_count\n",
        "\n",
        "my_list = [1,2,3,4,5,6,7,8.92,3,6,6]\n",
        "count = count(my_list)\n",
        "print(count)\n"
      ],
      "metadata": {
        "colab": {
          "base_uri": "https://localhost:8080/"
        },
        "id": "wrX_Tb6PNIJA",
        "outputId": "abfeebcb-7329-4af8-fd59-30e47ca69806"
      },
      "execution_count": 3,
      "outputs": [
        {
          "output_type": "stream",
          "name": "stdout",
          "text": [
            "{1: 1, 2: 1, 3: 2, 4: 1, 5: 1, 6: 3, 7: 1, 8.92: 1}\n"
          ]
        }
      ]
    },
    {
      "cell_type": "markdown",
      "source": [
        "14. **write a code to reverse a list in place without using any built in reverse functions.**"
      ],
      "metadata": {
        "id": "SavqbzpaNzOy"
      }
    },
    {
      "cell_type": "code",
      "source": [
        "def reverse(lst):\n",
        "  left,right = 0 ,len(lst) -1\n",
        "  while left < right:\n",
        "    lst[left],lst[right] = lst[right],lst[left]\n",
        "    left += 1\n",
        "    right -= 1\n",
        "\n",
        "  my_list = [1,2,3,4,5,6,7,8]\n",
        "  reverse(my_list)\n",
        "  print(my_list)"
      ],
      "metadata": {
        "id": "ybfl4ZNEOP8f"
      },
      "execution_count": 5,
      "outputs": []
    },
    {
      "cell_type": "markdown",
      "source": [
        "15. **implement a code to find and remove duplicates from a list while preserving the original order of elements. **"
      ],
      "metadata": {
        "id": "d1pVr4_BOk7a"
      }
    },
    {
      "cell_type": "code",
      "source": [
        "def remove_duplicate(lst):\n",
        "  seen = set()\n",
        "  result = []\n",
        "  for item in lst:\n",
        "    if item not in seen:\n",
        "      seen.add(item)\n",
        "      result.append(item)\n",
        "  return result\n",
        "\n",
        "my_list = [1,2,3,4,5,6,5,5,7,8,9,10]\n",
        "uni_list = remove_duplicate(my_list)\n",
        "print(uni_list)"
      ],
      "metadata": {
        "colab": {
          "base_uri": "https://localhost:8080/"
        },
        "id": "SYqfGxqwPE5i",
        "outputId": "da9cab2f-77e6-4d8c-fcfa-835f6cfcc003"
      },
      "execution_count": 8,
      "outputs": [
        {
          "output_type": "stream",
          "name": "stdout",
          "text": [
            "[1, 2, 3, 4, 5, 6, 7, 8, 9, 10]\n"
          ]
        }
      ]
    },
    {
      "cell_type": "markdown",
      "source": [
        "16. **create a code to check if a given list is sorted(either in asending or desending order) or not.**"
      ],
      "metadata": {
        "id": "E4Q3MNOZPvca"
      }
    },
    {
      "cell_type": "code",
      "source": [
        "def sorted(lst):\n",
        "  if all(lst[i] <= lst[i+1] for i in range(len(lst)-1)):\n",
        "    return \"Asending\"\n",
        "  elif all(lst[i] >= lst[i+1] for i in range(len(lst)-1)):\n",
        "    return \"Desending\"\n",
        "  else:\n",
        "    return \"Not sorted\"\n",
        "\n",
        "list_1 = [1,2,3,4,5]\n",
        "list_2 = [5,4,6,3,2,1]\n",
        "list_3 = [1,3,2,4,5]\n",
        "print(sorted(list_1))\n",
        "print(sorted(list_2))\n",
        "print(sorted(list_3))"
      ],
      "metadata": {
        "colab": {
          "base_uri": "https://localhost:8080/"
        },
        "id": "kVInsk-0QURy",
        "outputId": "459c5e4c-62b7-4e1e-d5d0-53b4acec8e34"
      },
      "execution_count": 10,
      "outputs": [
        {
          "output_type": "stream",
          "name": "stdout",
          "text": [
            "Asending\n",
            "Not sorted\n",
            "Not sorted\n"
          ]
        }
      ]
    },
    {
      "cell_type": "markdown",
      "source": [
        "17. ** write a code to merge two sorted list into a single sorted list.**"
      ],
      "metadata": {
        "id": "xXvwpXoPRAPu"
      }
    },
    {
      "cell_type": "code",
      "source": [
        "list_1 = [1,2,3,4,5]\n",
        "list_2 = [6,7,8,9,10]\n",
        "num1 = int(input(\"entr number of element for list:\"))\n",
        "for i in range (1, num1+1):\n",
        "  b = int(input(\"enter element:\"))\n",
        "  list_1.append(b)\n",
        "num2 = int(input(\"entr number of element for list:\"))\n",
        "for i in range (1, num2+1):\n",
        "  d = int(input(\"enter element:\"))\n",
        "  list_2.append(d)\n",
        "new_list = list_1 + list_2\n",
        "new_list.sort()\n",
        "print(new_list)"
      ],
      "metadata": {
        "colab": {
          "base_uri": "https://localhost:8080/"
        },
        "id": "hBtd8GfhRTW6",
        "outputId": "e87d8776-31de-4e23-f0f4-6717c74a7d4d"
      },
      "execution_count": 11,
      "outputs": [
        {
          "output_type": "stream",
          "name": "stdout",
          "text": [
            "entr number of element for list:5\n",
            "enter element:2\n",
            "enter element:3\n",
            "enter element:10\n",
            "enter element:3\n",
            "enter element:14\n",
            "entr number of element for list:10\n",
            "enter element:20\n",
            "enter element:12\n",
            "enter element:12\n",
            "enter element:21\n",
            "enter element:14\n",
            "enter element:5\n",
            "enter element:3\n",
            "enter element:2\n",
            "enter element:21\n",
            "enter element:3\n",
            "[1, 2, 2, 2, 3, 3, 3, 3, 3, 4, 5, 5, 6, 7, 8, 9, 10, 10, 12, 12, 14, 14, 20, 21, 21]\n"
          ]
        }
      ]
    },
    {
      "cell_type": "markdown",
      "source": [
        "18. ** implement a code to find the the intersection of two given lists.**"
      ],
      "metadata": {
        "id": "UcdDC-WvcyRA"
      }
    },
    {
      "cell_type": "code",
      "source": [
        "def intersection_list(list1 , list2):\n",
        "  list_3 = [value for value in list1 if value in list2]\n",
        "  return list_3\n",
        "\n",
        "list_1 = [1,2,3,4,5]\n",
        "list_2 = [3,4,5,6,7]\n",
        "print(intersection_list(list_1,list_2))"
      ],
      "metadata": {
        "colab": {
          "base_uri": "https://localhost:8080/"
        },
        "id": "ZKXcO5I6dJe9",
        "outputId": "acae8d30-2fce-4f5d-f2c6-5f6d4d310f81"
      },
      "execution_count": 12,
      "outputs": [
        {
          "output_type": "stream",
          "name": "stdout",
          "text": [
            "[3, 4, 5]\n"
          ]
        }
      ]
    },
    {
      "cell_type": "markdown",
      "source": [
        "19. ** create a code to find the union of two lists without duplicates.**"
      ],
      "metadata": {
        "id": "6EMxmRnrdgPI"
      }
    },
    {
      "cell_type": "code",
      "source": [
        "list1 = [10,23,45,19,20,45,1]\n",
        "list2 = [67,35,17,19,36,9,10]\n",
        "ans = []\n",
        "for i in list1:\n",
        "  if i not in list2:\n",
        "    ans.append(i)\n",
        "for j in list2:\n",
        "  if j not in list1:\n",
        "    ans.append(j)\n",
        "print(ans)\n"
      ],
      "metadata": {
        "colab": {
          "base_uri": "https://localhost:8080/"
        },
        "id": "Oh4w52NKdwym",
        "outputId": "f0f52405-b458-4072-8c83-47072645d513"
      },
      "execution_count": 14,
      "outputs": [
        {
          "output_type": "stream",
          "name": "stdout",
          "text": [
            "[23, 45, 20, 45, 1, 67, 35, 17, 36, 9]\n"
          ]
        }
      ]
    },
    {
      "cell_type": "markdown",
      "source": [
        "20. ** write a code to shuffle a given list randomly without using only built in shuffle functions.**"
      ],
      "metadata": {
        "id": "uob1eIe5fgz_"
      }
    },
    {
      "cell_type": "code",
      "source": [
        "import random\n",
        "\n",
        "my_list = [1,2,3,4,5]\n",
        "shuffled_list = sorted(my_list, key=lambda x:random.random())\n",
        "print(\"original list:\", my_list)\n",
        "print(\"shuffled list:\", shuffled_list)"
      ],
      "metadata": {
        "colab": {
          "base_uri": "https://localhost:8080/"
        },
        "id": "C9VokC_x39qC",
        "outputId": "5df99729-5bf5-4a56-e547-3fee862c3a17"
      },
      "execution_count": 1,
      "outputs": [
        {
          "output_type": "stream",
          "name": "stdout",
          "text": [
            "original list: [1, 2, 3, 4, 5]\n",
            "shuffled list: [4, 5, 3, 2, 1]\n"
          ]
        }
      ]
    },
    {
      "cell_type": "markdown",
      "source": [
        "21. **write a code that takes two tuples as input and returns a new tuple containing elements that are common to both input tuples.**"
      ],
      "metadata": {
        "id": "HCps632I4ccH"
      }
    },
    {
      "cell_type": "code",
      "source": [
        "def common_element(tup1,tup2):\n",
        "  common = tuple(set(tup1) & set(tup2))\n",
        "  return common\n",
        "\n",
        "tup1 = (1,2,3,4,5)\n",
        "tup2 = (4,5,6,7,8)\n",
        "result = common_element(tup1,tup2)\n",
        "print(result)\n",
        "\n"
      ],
      "metadata": {
        "colab": {
          "base_uri": "https://localhost:8080/"
        },
        "id": "5f--dD624yiH",
        "outputId": "f9e441d7-fd68-47ae-d1ae-df33c571c416"
      },
      "execution_count": 2,
      "outputs": [
        {
          "output_type": "stream",
          "name": "stdout",
          "text": [
            "(4, 5)\n"
          ]
        }
      ]
    },
    {
      "cell_type": "markdown",
      "source": [
        "22. **create a code that prompts the user to enter two sets of integers separated by commas. then print the intersection of these two sets.**"
      ],
      "metadata": {
        "id": "lg8juQaE5KXa"
      }
    },
    {
      "cell_type": "code",
      "source": [
        "def get_input(prompt):\n",
        "  return set(map(int, input(prompt).split(\",\")))\n",
        "\n",
        "set1 = get_input(\"enter first set of integers separated by commas:\")\n",
        "set2 = get_input(\"enter second set of integers separated by commas:\")\n",
        "\n",
        "intersection = set1 and set2\n",
        "\n",
        "print(intersection)\n"
      ],
      "metadata": {
        "colab": {
          "base_uri": "https://localhost:8080/"
        },
        "id": "yimsYEIn5rE3",
        "outputId": "d972252f-ee67-438b-a31d-5ff334c515a9"
      },
      "execution_count": 3,
      "outputs": [
        {
          "output_type": "stream",
          "name": "stdout",
          "text": [
            "enter first set of integers separated by commas:1,2,3,4,5\n",
            "enter second set of integers separated by commas:3,4,2,1,6,7\n",
            "{1, 2, 3, 4, 6, 7}\n"
          ]
        }
      ]
    },
    {
      "cell_type": "markdown",
      "source": [
        "23. ** write a code to concatenate two tuples. the function should take two tuples as input and return a new tuple contaning element from both input tuples.**"
      ],
      "metadata": {
        "id": "qztWgtmA6XSJ"
      }
    },
    {
      "cell_type": "code",
      "source": [
        "def concatenate_tuple(tup1,tup2):\n",
        "  new_tup = tup1 + tup2\n",
        "  return new_tup\n",
        "\n",
        "tup1 = (1,2,3,4,5)\n",
        "tup2 = (6,7,8,9,10)\n",
        "result = concatenate_tuple(tup1,tup2)\n",
        "print(result)"
      ],
      "metadata": {
        "colab": {
          "base_uri": "https://localhost:8080/"
        },
        "id": "tn9FU1Ko6-U_",
        "outputId": "3e8a6581-5bdf-498a-b984-5b71aadd655e"
      },
      "execution_count": 4,
      "outputs": [
        {
          "output_type": "stream",
          "name": "stdout",
          "text": [
            "(1, 2, 3, 4, 5, 6, 7, 8, 9, 10)\n"
          ]
        }
      ]
    },
    {
      "cell_type": "markdown",
      "source": [
        "24. ** Develop a code that prompts the user to input two sets strings. then print the element that are present in the first set but not in the second set.**"
      ],
      "metadata": {
        "id": "c0zkXegR7ItP"
      }
    },
    {
      "cell_type": "code",
      "source": [
        "def get_input(prompt):\n",
        "  return set(input(prompt).split(\",\"))\n",
        "\n",
        "set1 = get_input(\"enter first set of strings separated by commas:\")\n",
        "set2 = get_input(\"enter second set of strings separated by commas:\")\n",
        "\n",
        "difference = set1 - set2\n",
        "\n",
        "print(difference)"
      ],
      "metadata": {
        "colab": {
          "base_uri": "https://localhost:8080/"
        },
        "id": "CsALAtqm7h04",
        "outputId": "b082d757-f247-4faa-e0d0-9798576560af"
      },
      "execution_count": 5,
      "outputs": [
        {
          "output_type": "stream",
          "name": "stdout",
          "text": [
            "enter first set of strings separated by commas:dog,cow,fish,monkey\n",
            "enter second set of strings separated by commas:cow,dog,bird\n",
            "{'fish', 'monkey'}\n"
          ]
        }
      ]
    },
    {
      "cell_type": "markdown",
      "source": [
        "25. ** create a code that takes a tuple and two integers as input. the function should return a new tuple contaning element from the original tuple within the specified range of indices.**"
      ],
      "metadata": {
        "id": "SAZiSUBt7-j5"
      }
    },
    {
      "cell_type": "code",
      "source": [
        "def tuple_slice(tup,start,end):\n",
        "  return tup[start:end+1]\n",
        "\n",
        "original_tup = (1,2,3,4,5,6,7,8,9,10)\n",
        "start = int(input(\"enter start index:\"))\n",
        "end = int(input(\"enter end index:\"))\n",
        "\n",
        "tuple_slice = tuple_slice(original_tup,start,end)\n",
        "print(tuple_slice)\n",
        "\n"
      ],
      "metadata": {
        "colab": {
          "base_uri": "https://localhost:8080/"
        },
        "id": "v0pp5-HL8gin",
        "outputId": "28bfca1a-74da-46cc-af59-6e26165b2968"
      },
      "execution_count": 6,
      "outputs": [
        {
          "output_type": "stream",
          "name": "stdout",
          "text": [
            "enter start index:3\n",
            "enter end index:5\n",
            "(4, 5, 6)\n"
          ]
        }
      ]
    },
    {
      "cell_type": "markdown",
      "source": [
        "26. ** write a code that prompts the user to input two sets of characters. then, print the union of these two sets.**"
      ],
      "metadata": {
        "id": "4BdOtl_P9DSr"
      }
    },
    {
      "cell_type": "code",
      "source": [
        "def get_input(prompt):\n",
        "  return set(input(prompt).split(\",\"))\n",
        "\n",
        "set1 = get_input(\"enter first set of characters separated by commas:\")\n",
        "set2 = get_input(\"enter second set of characters separated by commas:\")\n",
        "\n",
        "union = set1 | set2\n",
        "\n",
        "print(union)"
      ],
      "metadata": {
        "colab": {
          "base_uri": "https://localhost:8080/"
        },
        "id": "r7xi667e-GEK",
        "outputId": "faaf33a7-0149-4df0-d19c-d597aa2508d2"
      },
      "execution_count": 10,
      "outputs": [
        {
          "output_type": "stream",
          "name": "stdout",
          "text": [
            "enter first set of characters separated by commas:a,b,c,d\n",
            "enter second set of characters separated by commas:a,d,e,f\n",
            "{'d', 'a', 'b', 'e', 'c', 'f'}\n"
          ]
        }
      ]
    },
    {
      "cell_type": "markdown",
      "source": [
        "27. **develop a code that takes a tuple of intergers as input.the function should return the maximum and minimum values from the tuple using tuple unpacking.**"
      ],
      "metadata": {
        "id": "-G9VouOa_T6Q"
      }
    },
    {
      "cell_type": "code",
      "source": [
        "def max_min(t):\n",
        "  min_val , max_val = min(t),max(t)\n",
        "  return min_val,max_val\n",
        "\n",
        "original_tup = (1,2,3,4,5,6,7,8,9,10)\n",
        "\n",
        "min_val,max_val = max_min(original_tup)\n",
        "\n",
        "input_tuple = tuple(map(int,input(\"enter intergers:\").split(\",\")))\n",
        "\n",
        "min_val1,max_val1 = max_min(input_tuple)\n",
        "\n",
        "print(min_val1)\n",
        "print(max_val1)"
      ],
      "metadata": {
        "colab": {
          "base_uri": "https://localhost:8080/"
        },
        "id": "gxo79_zH_y5A",
        "outputId": "5805b9a6-321a-4198-d3f1-a7614a37171f"
      },
      "execution_count": 11,
      "outputs": [
        {
          "output_type": "stream",
          "name": "stdout",
          "text": [
            "enter intergers:1,2,3,4,5,6\n",
            "1\n",
            "6\n"
          ]
        }
      ]
    },
    {
      "cell_type": "markdown",
      "source": [
        "28. ** Create a code that defines two sets of integers. then print the union, intersection and difference of these two sets.**"
      ],
      "metadata": {
        "id": "LNXFQW6bDnMS"
      }
    },
    {
      "cell_type": "code",
      "source": [
        "a = {1,2,3,4,5};\n",
        "b = {4,5,6,7,8};\n",
        "print(\"union:\", a|b)\n",
        "print(\"intersection:\" ,a & b)\n",
        "print(\"difference\",a-b)"
      ],
      "metadata": {
        "colab": {
          "base_uri": "https://localhost:8080/"
        },
        "id": "POlzHIOeEUMW",
        "outputId": "742a7c40-b5f9-4f2e-af91-be3b0bc25375"
      },
      "execution_count": 13,
      "outputs": [
        {
          "output_type": "stream",
          "name": "stdout",
          "text": [
            "union: {1, 2, 3, 4, 5, 6, 7, 8}\n",
            "intersection: {4, 5}\n",
            "difference {1, 2, 3}\n"
          ]
        }
      ]
    },
    {
      "cell_type": "markdown",
      "source": [
        "29. ** write a code that takes a tuple and an element as input. the function should return the count of occurence of the given element in the tuple.**"
      ],
      "metadata": {
        "id": "KnLtJeVbFlKu"
      }
    },
    {
      "cell_type": "code",
      "source": [
        "def count_occurrences(t, element):\n",
        "    return t.count(element)\n",
        "\n",
        "# Example usage\n",
        "input_tuple = tuple(map(int, input(\"Enter integers (comma-separated): \").split(',')))\n",
        "element = int(input(\"Enter the element to count: \"))\n",
        "\n",
        "# Get the count of the element in the tuple\n",
        "occurrences = count_occurrences(input_tuple, element)\n",
        "\n",
        "print(f\"The element {element} occurs {occurrences} times in the tuple.\")\n"
      ],
      "metadata": {
        "colab": {
          "base_uri": "https://localhost:8080/"
        },
        "id": "-BxKLrvuGg6u",
        "outputId": "81851d53-466a-440e-ec66-b5a1ab841dd8"
      },
      "execution_count": 15,
      "outputs": [
        {
          "output_type": "stream",
          "name": "stdout",
          "text": [
            "Enter integers (comma-separated): 1,2,3,4,5,1\n",
            "Enter the element to count: 3\n",
            "The element 3 occurs 1 times in the tuple.\n"
          ]
        }
      ]
    },
    {
      "cell_type": "markdown",
      "source": [
        "30. ** devlop a code that prompts the user to input two sets of strings. then print the symmetric difference of these two sets.**"
      ],
      "metadata": {
        "id": "mncDEwJaHFEK"
      }
    },
    {
      "cell_type": "code",
      "source": [
        "def get_input(prompt):\n",
        "  return set(input(prompt).replace(\" \",\"\").split(\",\"))\n",
        "\n",
        "set1 = get_input(\"enter first set of strings separated by commas:\")\n",
        "set2 = get_input(\"enter second set of strings separated by commas:\")\n",
        "\n",
        "difference = set1 ^ set2\n",
        "\n",
        "print(difference)"
      ],
      "metadata": {
        "colab": {
          "base_uri": "https://localhost:8080/"
        },
        "id": "kDp_iR8oHeX6",
        "outputId": "3ef943c6-4f9f-4346-c66d-48c45cd1a6c7"
      },
      "execution_count": 16,
      "outputs": [
        {
          "output_type": "stream",
          "name": "stdout",
          "text": [
            "enter first set of strings separated by commas:virat,rohit,dhoni\n",
            "enter second set of strings separated by commas:dhoni,sachin,kapil\n",
            "{'sachin', 'kapil', 'virat', 'rohit'}\n"
          ]
        }
      ]
    },
    {
      "cell_type": "markdown",
      "source": [
        "31. **Write a code that takes a list of words as input and returns a dictionary where the keys are unique words\n",
        "and the values are the frequencies of those words in the input list. **"
      ],
      "metadata": {
        "id": "pESijdW_IPKr"
      }
    },
    {
      "cell_type": "code",
      "source": [
        "def frequencies(words):\n",
        "  freq = {}\n",
        "  for word in words:\n",
        "    if word in freq:\n",
        "      freq[word] += 1\n",
        "    else:\n",
        "      freq[word] = 1\n",
        "  return freq\n",
        "\n",
        "input_words = input(\"enter words separated by commas:\").split()\n",
        "word_freq = frequencies(input_words)\n",
        "print(word_freq)"
      ],
      "metadata": {
        "colab": {
          "base_uri": "https://localhost:8080/"
        },
        "id": "onFewv7WIisA",
        "outputId": "ae387dc0-5bd7-4dbe-c8ab-75ad7b945bed"
      },
      "execution_count": 18,
      "outputs": [
        {
          "output_type": "stream",
          "name": "stdout",
          "text": [
            "enter words separated by commas:banana apple orange apple banana\n",
            "{'banana': 2, 'apple': 2, 'orange': 1}\n"
          ]
        }
      ]
    },
    {
      "cell_type": "markdown",
      "source": [
        "32. ** Write a code that takes two dictionaries as input and merges them into a single dictionary. If there are\n",
        "common keys, the values should be added together.**"
      ],
      "metadata": {
        "id": "HKO9L-v_JPMy"
      }
    },
    {
      "cell_type": "code",
      "source": [
        "def merge_dic(dic1,dic2):\n",
        "  merged_dic = dic1.copy()\n",
        "  for key,value in dic2.items():\n",
        "    if key in merged_dic:\n",
        "      merged_dic[key] += value\n",
        "    else:\n",
        "      merged_dic[key] = value\n",
        "  return merged_dic\n",
        "\n",
        "dic1 = eval(input(\"enter the 1st dic:\"))\n",
        "dic2 = eval (input(\"enter the 2nd dic:\"))\n",
        "result = merge_dic(dic1,dic2)\n",
        "print(result)"
      ],
      "metadata": {
        "colab": {
          "base_uri": "https://localhost:8080/"
        },
        "id": "uCHbI8SWJejL",
        "outputId": "ce67e7da-826a-4e20-90bf-7cb51fa00355"
      },
      "execution_count": 20,
      "outputs": [
        {
          "output_type": "stream",
          "name": "stdout",
          "text": [
            "enter the 1st dic:{'a':1 , 'b':2}\n",
            "enter the 2nd dic:{'b':3 , 'c':5}\n",
            "{'a': 1, 'b': 5, 'c': 5}\n"
          ]
        }
      ]
    },
    {
      "cell_type": "markdown",
      "source": [
        "33. **Write a code to access a value in a nested dictionary. The function should take the dictionary and a list of\n",
        "keys as input, and return the corresponding value. If any of the keys do not exist in the dictionary, the\n",
        "function should return None.**"
      ],
      "metadata": {
        "id": "IZlqc673KbYt"
      }
    },
    {
      "cell_type": "code",
      "source": [
        "def access_nested_value(nested_dict, keys):\n",
        "    current_value = nested_dict\n",
        "    for key in keys:\n",
        "        if isinstance(current_value, dict) and key in current_value:\n",
        "            current_value = current_value[key]\n",
        "        else:\n",
        "            return None  # Return None if the key does not exist\n",
        "    return current_value\n",
        "\n",
        "# Example usage\n",
        "nested_dict = {\n",
        "    'a': {\n",
        "        'b': {\n",
        "            'c': 1\n",
        "        }\n",
        "    },\n",
        "    'x': {\n",
        "        'y': 2\n",
        "    }\n",
        "}\n",
        "\n",
        "keys = input(\"Enter the list of keys separated by commas: \").split(',')\n",
        "keys = [key.strip() for key in keys]  # Remove any extra spaces\n",
        "\n",
        "# Access the value in the nested dictionary\n",
        "result = access_nested_value(nested_dict, keys)\n",
        "\n",
        "if result is not None:\n",
        "    print(f\"The value for the keys {keys} is: {result}\")\n",
        "else:\n",
        "    print(f\"One or more keys do not exist: {keys}\")\n"
      ],
      "metadata": {
        "colab": {
          "base_uri": "https://localhost:8080/"
        },
        "id": "pATp0eZGKo__",
        "outputId": "edc7722d-53f9-4a1e-f61d-0f3adc40a7c6"
      },
      "execution_count": 21,
      "outputs": [
        {
          "output_type": "stream",
          "name": "stdout",
          "text": [
            "Enter the list of keys separated by commas: a,b,c,d\n",
            "One or more keys do not exist: ['a', 'b', 'c', 'd']\n"
          ]
        }
      ]
    },
    {
      "cell_type": "markdown",
      "source": [
        "34. **Write a code that takes a dictionary as input and returns a sorted version of it based on the values. You\n",
        "can choose whether to sort in ascending or descending order.**"
      ],
      "metadata": {
        "id": "-Dt13-eAKvUx"
      }
    },
    {
      "cell_type": "code",
      "source": [
        "def sort_dict_by_values(input_dict, descending=False):\n",
        "    # Sort the dictionary by its values and return a new sorted dictionary\n",
        "    sorted_dict = dict(sorted(input_dict.items(), key=lambda item: item[1], reverse=descending))\n",
        "    return sorted_dict\n",
        "\n",
        "# Example usage\n",
        "input_dict = eval(input(\"Enter a dictionary (e.g., {'a': 3, 'b': 1, 'c': 2}): \"))\n",
        "order = input(\"Do you want to sort in ascending (a) or descending (d) order? \").lower()\n",
        "\n",
        "# Determine sorting order\n",
        "if order == 'd':\n",
        "    descending = True\n",
        "else:\n",
        "    descending = False\n",
        "\n",
        "# Get the sorted dictionary\n",
        "sorted_dictionary = sort_dict_by_values(input_dict, descending)\n",
        "\n",
        "print(f\"Sorted dictionary: {sorted_dictionary}\")\n"
      ],
      "metadata": {
        "colab": {
          "base_uri": "https://localhost:8080/"
        },
        "id": "oKLLOBwWK5_x",
        "outputId": "59234720-a10c-471a-e741-0c5333f64e0b"
      },
      "execution_count": 22,
      "outputs": [
        {
          "output_type": "stream",
          "name": "stdout",
          "text": [
            "Enter a dictionary (e.g., {'a': 3, 'b': 1, 'c': 2}): {'a':2,'b':1, 'c':3}\n",
            "Do you want to sort in ascending (a) or descending (d) order? a\n",
            "Sorted dictionary: {'b': 1, 'a': 2, 'c': 3}\n"
          ]
        }
      ]
    },
    {
      "cell_type": "markdown",
      "source": [
        "35. **Write a code that inverts a dictionary, swapping keys and values. Ensure that the inverted dictionary\n",
        "correctly handles cases where multiple keys have the same value by storing the keys as a list in the\n",
        "inverted dictionary.**"
      ],
      "metadata": {
        "id": "Zyb5IbLSLJj_"
      }
    },
    {
      "cell_type": "code",
      "source": [
        "def dict_invert(input_dict):\n",
        "  dict_invert = {}\n",
        "\n",
        "  for key,value in input_dict.items():\n",
        "    if value in dict_invert:\n",
        "      dict_invert[value].append(key)\n",
        "    else:\n",
        "      dict_invert[value] = [key]\n",
        "  return dict_invert\n",
        "\n",
        "input_dict = eval(input(\"enter a dictionary:\"))\n",
        "inverted_dict = dict_invert(input_dict)\n",
        "print(inverted_dict)"
      ],
      "metadata": {
        "colab": {
          "base_uri": "https://localhost:8080/"
        },
        "id": "dKwHSJlGLVlC",
        "outputId": "d0a3b50a-b4d3-4c97-e125-f92abc057e47"
      },
      "execution_count": 24,
      "outputs": [
        {
          "output_type": "stream",
          "name": "stdout",
          "text": [
            "enter a dictionary:{'a':2 , 'b':5 , 'c': 4}\n",
            "{2: ['a'], 5: ['b'], 4: ['c']}\n"
          ]
        }
      ]
    },
    {
      "cell_type": "code",
      "source": [],
      "metadata": {
        "id": "-tHw8vxCLkGM"
      },
      "execution_count": null,
      "outputs": []
    }
  ]
}