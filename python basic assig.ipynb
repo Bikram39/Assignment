{
  "nbformat": 4,
  "nbformat_minor": 0,
  "metadata": {
    "colab": {
      "provenance": []
    },
    "kernelspec": {
      "name": "python3",
      "display_name": "Python 3"
    },
    "language_info": {
      "name": "python"
    }
  },
  "cells": [
    {
      "cell_type": "code",
      "execution_count": null,
      "metadata": {
        "id": "k_IbSoMMGJbN"
      },
      "outputs": [],
      "source": []
    },
    {
      "cell_type": "markdown",
      "source": [
        "1. Explain that key features of python that make it a populer choice for programming.\n",
        "\n",
        "ans:  **easy to learn and use:** python is very easy to learn and use it is devlopment friendly language.\n",
        "\n",
        "**HIgh level language and interpreted language:**  python is an interpreated language i.e. interpreted excuted to code line by line as a time. the debugging easy and suitable for beginners.\n",
        "\n",
        "**Free and open sourse : **  python is an free installation and open sours.\n",
        "\n",
        "**Board level library:**  python has a largeand bored library and provides rich set of modules and function for rapid application devlopment.\n",
        "\n",
        "**GUI programming:**  graphical user interface can be devlpoment using python.\n",
        "\n"
      ],
      "metadata": {
        "id": "6sUiv75GHIuq"
      }
    },
    {
      "cell_type": "markdown",
      "source": [
        "2. Describe the role of predefined keywords in python and provide example of how they are used in a program?\n",
        "\n",
        "Ans:  pyhton keyword are some predefined and reserved words in python that have special meaning. keyword are used to defined the syntax os coding. python keyword can not be used as an identifier, function or variable.\n",
        "```\n",
        "\n"
      ],
      "metadata": {
        "id": "DP1b5rCqI7IC"
      }
    },
    {
      "cell_type": "code",
      "source": [
        "10 and 12.3"
      ],
      "metadata": {
        "colab": {
          "base_uri": "https://localhost:8080/"
        },
        "id": "hzPNtfcvKDNk",
        "outputId": "da525d8f-21a5-4f10-9034-0f9e79d87b2a"
      },
      "execution_count": null,
      "outputs": [
        {
          "output_type": "execute_result",
          "data": {
            "text/plain": [
              "12.3"
            ]
          },
          "metadata": {},
          "execution_count": 1
        }
      ]
    },
    {
      "cell_type": "markdown",
      "source": [],
      "metadata": {
        "id": "SRJIzZ60IyJ7"
      }
    },
    {
      "cell_type": "code",
      "source": [
        "12.3 and 'Bikram'"
      ],
      "metadata": {
        "colab": {
          "base_uri": "https://localhost:8080/",
          "height": 36
        },
        "id": "OZd49mEzKL4t",
        "outputId": "f91caa6b-e01e-42b5-bd2a-e4d52290c439"
      },
      "execution_count": null,
      "outputs": [
        {
          "output_type": "execute_result",
          "data": {
            "text/plain": [
              "'Bikram'"
            ],
            "application/vnd.google.colaboratory.intrinsic+json": {
              "type": "string"
            }
          },
          "metadata": {},
          "execution_count": 2
        }
      ]
    },
    {
      "cell_type": "code",
      "source": [
        "10 or \"bikram\""
      ],
      "metadata": {
        "colab": {
          "base_uri": "https://localhost:8080/"
        },
        "id": "RHsXzfyRKTPw",
        "outputId": "6ddb1ae8-bca9-48a2-b4b8-4da0911f8e39"
      },
      "execution_count": null,
      "outputs": [
        {
          "output_type": "execute_result",
          "data": {
            "text/plain": [
              "10"
            ]
          },
          "metadata": {},
          "execution_count": 3
        }
      ]
    },
    {
      "cell_type": "code",
      "source": [
        "not ('bikram')"
      ],
      "metadata": {
        "colab": {
          "base_uri": "https://localhost:8080/"
        },
        "id": "cYcjV889KfAP",
        "outputId": "91c2513c-97d1-4fd3-b462-1de95368d5fc"
      },
      "execution_count": null,
      "outputs": [
        {
          "output_type": "execute_result",
          "data": {
            "text/plain": [
              "False"
            ]
          },
          "metadata": {},
          "execution_count": 4
        }
      ]
    },
    {
      "cell_type": "code",
      "source": [
        "a = \"Bikram\"\n",
        "b = \"Bikram\"\n",
        "a is b"
      ],
      "metadata": {
        "id": "g8uKDxyvKjxC",
        "colab": {
          "base_uri": "https://localhost:8080/"
        },
        "outputId": "227d9307-4ba7-4f55-c736-2290a2d2f498"
      },
      "execution_count": 5,
      "outputs": [
        {
          "output_type": "execute_result",
          "data": {
            "text/plain": [
              "True"
            ]
          },
          "metadata": {},
          "execution_count": 5
        }
      ]
    },
    {
      "cell_type": "code",
      "source": [
        "S = \"bikram\"\n",
        "\"m\" in \"bikram\""
      ],
      "metadata": {
        "id": "xgCvXjfrK1ar",
        "colab": {
          "base_uri": "https://localhost:8080/"
        },
        "outputId": "e0d5cd93-d8ef-4554-9d2f-eeec4f8eb643"
      },
      "execution_count": 7,
      "outputs": [
        {
          "output_type": "execute_result",
          "data": {
            "text/plain": [
              "True"
            ]
          },
          "metadata": {},
          "execution_count": 6
        },
        {
          "output_type": "execute_result",
          "data": {
            "text/plain": [
              "True"
            ]
          },
          "metadata": {},
          "execution_count": 7
        }
      ]
    },
    {
      "cell_type": "markdown",
      "source": [
        "if , for , while , break , def , as , return , try , class , from , else , elif , etc."
      ],
      "metadata": {
        "id": "1jrR0hsfMOo1"
      }
    },
    {
      "cell_type": "markdown",
      "source": [
        "3. Copare and contrast mutable and immutable object in python with example.\n",
        "\n",
        "\n",
        "Ans:  **Mutable object : **  \n",
        "(a) object can be changed after creation.\n",
        "(b) changing mutable object is easy and efficient.\n",
        "example:  List , set , dictionary.\n",
        "\n",
        "**Immutable object : **\n",
        "(a) object can not be changed agter creation.\n",
        "(b) quciker to access compared to mutable object.\n",
        "(c) expensive or can not be changed.\n",
        "\n",
        "example: interger , boolean , string, tuples , float."
      ],
      "metadata": {
        "id": "thaOAs6IMiNR"
      }
    },
    {
      "cell_type": "markdown",
      "source": [
        "4. Describe the different types of opreators in python and provide examples of how they are used.\n",
        "\n",
        "Ans:   **Arithmatic operators:**\n",
        "+ , - , * , / , % (modulus) , ** (exponetial) , //"
      ],
      "metadata": {
        "id": "zIZv3c6tQhkE"
      }
    },
    {
      "cell_type": "code",
      "source": [
        "a = 10\n",
        "b = 20\n",
        "a+b"
      ],
      "metadata": {
        "id": "3NIDSuYuRS-5",
        "outputId": "1e23664c-269c-442f-cbd0-c2b78d056d05",
        "colab": {
          "base_uri": "https://localhost:8080/"
        }
      },
      "execution_count": 8,
      "outputs": [
        {
          "output_type": "execute_result",
          "data": {
            "text/plain": [
              "30"
            ]
          },
          "metadata": {},
          "execution_count": 8
        }
      ]
    },
    {
      "cell_type": "code",
      "source": [
        "a = 50\n",
        "b = 30\n",
        "print(a-b)"
      ],
      "metadata": {
        "id": "Ibb1j8h6RXj4",
        "outputId": "c8028acd-935f-4d07-a8ad-4f0a283a5b2b",
        "colab": {
          "base_uri": "https://localhost:8080/"
        }
      },
      "execution_count": 9,
      "outputs": [
        {
          "output_type": "stream",
          "name": "stdout",
          "text": [
            "20\n"
          ]
        }
      ]
    },
    {
      "cell_type": "code",
      "source": [
        "a = 3\n",
        "b = 5\n",
        "print(a*b)"
      ],
      "metadata": {
        "id": "stKisHbXReYz",
        "outputId": "65d11e3e-853e-445e-aa04-eac4055dd5bf",
        "colab": {
          "base_uri": "https://localhost:8080/"
        }
      },
      "execution_count": 10,
      "outputs": [
        {
          "output_type": "stream",
          "name": "stdout",
          "text": [
            "15\n"
          ]
        }
      ]
    },
    {
      "cell_type": "code",
      "source": [
        "a = 2\n",
        "b = 3\n",
        "print(a**b)"
      ],
      "metadata": {
        "id": "EDlVybKIRklB",
        "outputId": "07588394-9b23-4885-8eea-3cac03ce1c9b",
        "colab": {
          "base_uri": "https://localhost:8080/"
        }
      },
      "execution_count": 11,
      "outputs": [
        {
          "output_type": "stream",
          "name": "stdout",
          "text": [
            "8\n"
          ]
        }
      ]
    },
    {
      "cell_type": "code",
      "source": [
        "a = 10\n",
        "b = 10\n",
        "print(a/b)\n",
        "print(a//b)\n",
        "print(a%b)"
      ],
      "metadata": {
        "id": "WNiaay6GRptY",
        "outputId": "0d7b3cda-2ae9-448c-93cb-409e3315eaee",
        "colab": {
          "base_uri": "https://localhost:8080/"
        }
      },
      "execution_count": 14,
      "outputs": [
        {
          "output_type": "stream",
          "name": "stdout",
          "text": [
            "1.0\n",
            "1\n",
            "0\n"
          ]
        }
      ]
    },
    {
      "cell_type": "markdown",
      "source": [
        "**Relation operator:**  \n",
        "<  , >  , ="
      ],
      "metadata": {
        "id": "o1YYbdDqSJw4"
      }
    },
    {
      "cell_type": "code",
      "source": [
        "a = 20\n",
        "b = 10\n",
        "print(a>b)\n",
        "print(a<b)\n",
        "print(a<=b)\n",
        "print(a>=b)\n",
        "print(a==b)"
      ],
      "metadata": {
        "id": "l2GnjSO_SVYH",
        "outputId": "4c7a6d2f-3206-47c8-ac3a-4e8eaf9393b2",
        "colab": {
          "base_uri": "https://localhost:8080/"
        }
      },
      "execution_count": 15,
      "outputs": [
        {
          "output_type": "stream",
          "name": "stdout",
          "text": [
            "True\n",
            "False\n",
            "False\n",
            "True\n",
            "False\n"
          ]
        }
      ]
    },
    {
      "cell_type": "code",
      "source": [],
      "metadata": {
        "id": "37PN1_quSkWv"
      },
      "execution_count": null,
      "outputs": []
    },
    {
      "cell_type": "markdown",
      "source": [
        "**Logical operator:**\n",
        "\n",
        "and , or , not ,"
      ],
      "metadata": {
        "id": "e9NqkuFvSmpi"
      }
    },
    {
      "cell_type": "code",
      "source": [
        "a = 50.5\n",
        "b = 120\n",
        "print(a and b)"
      ],
      "metadata": {
        "id": "EjVeQIdRS29p",
        "outputId": "214d38b2-7c22-41f3-bd1f-dcfa8c6313fd",
        "colab": {
          "base_uri": "https://localhost:8080/"
        }
      },
      "execution_count": 16,
      "outputs": [
        {
          "output_type": "stream",
          "name": "stdout",
          "text": [
            "120\n"
          ]
        }
      ]
    },
    {
      "cell_type": "code",
      "source": [
        "com = 2+5j\n",
        "b = \"bikram\"\n",
        "print(com or b)"
      ],
      "metadata": {
        "id": "bfjwxdeeS_O9",
        "outputId": "b4108eb5-5930-4331-dc19-1ce2e448692f",
        "colab": {
          "base_uri": "https://localhost:8080/"
        }
      },
      "execution_count": 17,
      "outputs": [
        {
          "output_type": "stream",
          "name": "stdout",
          "text": [
            "(2+5j)\n"
          ]
        }
      ]
    },
    {
      "cell_type": "code",
      "source": [
        "not(0)"
      ],
      "metadata": {
        "id": "qFCNgd39TOOH",
        "outputId": "ce151d1f-ce5c-4847-ca35-82df51e63564",
        "colab": {
          "base_uri": "https://localhost:8080/"
        }
      },
      "execution_count": 18,
      "outputs": [
        {
          "output_type": "execute_result",
          "data": {
            "text/plain": [
              "True"
            ]
          },
          "metadata": {},
          "execution_count": 18
        }
      ]
    },
    {
      "cell_type": "code",
      "source": [],
      "metadata": {
        "id": "VL4VzaX7TWYL"
      },
      "execution_count": null,
      "outputs": []
    },
    {
      "cell_type": "markdown",
      "source": [
        "**Bitwise operator:**  \n",
        "bitwise and (&) , bitwise or(|) , bitwise xor(^)"
      ],
      "metadata": {
        "id": "HK5l_dsjTY-d"
      }
    },
    {
      "cell_type": "code",
      "source": [
        "five = 5\n",
        "six = 6\n",
        "print(five & six)\n",
        "print(five | six)\n",
        "print(five ^ six)"
      ],
      "metadata": {
        "id": "y__AE7KzTodz",
        "outputId": "1b585330-45a6-47fe-b1cb-32e028e1cc41",
        "colab": {
          "base_uri": "https://localhost:8080/"
        }
      },
      "execution_count": 20,
      "outputs": [
        {
          "output_type": "stream",
          "name": "stdout",
          "text": [
            "4\n",
            "7\n",
            "3\n"
          ]
        }
      ]
    },
    {
      "cell_type": "markdown",
      "source": [
        "**Ternary Operator:**"
      ],
      "metadata": {
        "id": "9u708t2eT-gw"
      }
    },
    {
      "cell_type": "code",
      "source": [
        " a = 50\n",
        " b = 20\n",
        " result = a if a>b else b\n",
        " print(result)"
      ],
      "metadata": {
        "id": "niduBB_3UHG3",
        "outputId": "46c467ed-397c-4dac-ef50-5e38ca4b1a87",
        "colab": {
          "base_uri": "https://localhost:8080/"
        }
      },
      "execution_count": 21,
      "outputs": [
        {
          "output_type": "stream",
          "name": "stdout",
          "text": [
            "50\n"
          ]
        }
      ]
    },
    {
      "cell_type": "code",
      "source": [],
      "metadata": {
        "id": "rCr68VsGUP4w"
      },
      "execution_count": null,
      "outputs": []
    },
    {
      "cell_type": "markdown",
      "source": [
        "5. Explain the concept of type casting in python with example.\n",
        "\n",
        "Ans:  type casting nothing but you want to speicify a type on to a variable. this can be done with casting. python is an object oriented programming and such it uses classes to define data types including its primituve types .\n",
        "\n",
        "\n",
        "int() : construct an interger number from an interger liteger, a float literal or string literal .\n",
        "\n",
        "float(): construct a float number from an interger literal, aflloat or a string literal\n",
        "\n",
        "str():  construct a string from a wide varity of data types, including string, interger literals and float literals."
      ],
      "metadata": {
        "id": "kbscdijwUTQ1"
      }
    },
    {
      "cell_type": "code",
      "source": [
        "x = int(2.3)\n",
        "print(x)"
      ],
      "metadata": {
        "id": "L-cXRLjm0LfK",
        "outputId": "0be08c63-c2dc-4895-9f90-09f28e72a0b8",
        "colab": {
          "base_uri": "https://localhost:8080/"
        }
      },
      "execution_count": 2,
      "outputs": [
        {
          "output_type": "stream",
          "name": "stdout",
          "text": [
            "2\n"
          ]
        }
      ]
    },
    {
      "cell_type": "code",
      "source": [
        "y = float(20)\n",
        "print(y)"
      ],
      "metadata": {
        "id": "jltCfiRK0Qkb",
        "outputId": "66c6826a-7b08-4715-92d3-949a81e0ade8",
        "colab": {
          "base_uri": "https://localhost:8080/"
        }
      },
      "execution_count": 3,
      "outputs": [
        {
          "output_type": "stream",
          "name": "stdout",
          "text": [
            "20.0\n"
          ]
        }
      ]
    },
    {
      "cell_type": "code",
      "source": [
        "z = str(3.6)\n",
        "print(z)"
      ],
      "metadata": {
        "id": "kMa3z_Hx0iNF",
        "outputId": "2ef05f2c-7e14-4d31-c2e9-2dbbcc33bfc9",
        "colab": {
          "base_uri": "https://localhost:8080/"
        }
      },
      "execution_count": 4,
      "outputs": [
        {
          "output_type": "stream",
          "name": "stdout",
          "text": [
            "3.6\n"
          ]
        }
      ]
    },
    {
      "cell_type": "code",
      "source": [],
      "metadata": {
        "id": "hLnz3wZy0pYl"
      },
      "execution_count": null,
      "outputs": []
    },
    {
      "cell_type": "markdown",
      "source": [
        "6.  how to do conditional statement work in python? illustrate with example.\n",
        "\n",
        "Ans: Conditinal statements in python evaluate conditionas to control what a program executes.\n",
        "if condition is true , the program is excuetue another side if condition is false then program will be false.\n"
      ],
      "metadata": {
        "id": "rPJAEgoa0q54"
      }
    },
    {
      "cell_type": "code",
      "source": [
        "num_1 = 100\n",
        "num_2 = 200\n",
        "if num_1 > num_2:\n",
        "  print(\"true\")\n",
        "else:\n",
        "  print(\"false\")"
      ],
      "metadata": {
        "id": "lMzWvcDl1iOr",
        "outputId": "5a69a5e3-7bf4-4793-e2d1-2a639418dae2",
        "colab": {
          "base_uri": "https://localhost:8080/"
        }
      },
      "execution_count": 5,
      "outputs": [
        {
          "output_type": "stream",
          "name": "stdout",
          "text": [
            "false\n"
          ]
        }
      ]
    },
    {
      "cell_type": "code",
      "source": [],
      "metadata": {
        "id": "IfayynqC1xvM"
      },
      "execution_count": null,
      "outputs": []
    },
    {
      "cell_type": "markdown",
      "source": [
        "7. describe the different types of loop in python and their use cases with examples.\n",
        "\n",
        "Ans: in python loops are 3 types\n",
        "for loop , wgile loop , do while loop\n",
        "\n",
        "**for loop:**\n",
        "in python the for loop is used to iterate over a sequnce ( list, tuple, string, dictionary)\n",
        "\n",
        "in python for loop only implement the collection based iteration.\n",
        "\n",
        "\n",
        "**while loop:**\n",
        "python while loop is used to excuted a block of statements repeatedly until a given condition is satisfied. when condition false the line immediately after the loop in the program is executed.\n",
        "\n",
        "**do-while loop:**\n",
        "\n",
        "do while loop is a type of control looping statement that can run any statement until the condition becomes false spcified in the loop.\n",
        "in do while loop the statement runs at least once no matter whether the condition is false or true.\n",
        "\n",
        "\n"
      ],
      "metadata": {
        "id": "Kvh9ycqp107x"
      }
    },
    {
      "cell_type": "code",
      "source": [
        "name = 'Bikram'\n",
        "for i in name:\n",
        "  print(i)"
      ],
      "metadata": {
        "id": "dqrWs15K8mQU",
        "outputId": "31fda96b-e13e-46b1-89ea-5a035d4493be",
        "colab": {
          "base_uri": "https://localhost:8080/"
        }
      },
      "execution_count": 7,
      "outputs": [
        {
          "output_type": "stream",
          "name": "stdout",
          "text": [
            "B\n",
            "i\n",
            "k\n",
            "r\n",
            "a\n",
            "m\n"
          ]
        }
      ]
    },
    {
      "cell_type": "code",
      "source": [
        "count = 0\n",
        "while (count < 5):\n",
        "  count = count+1\n",
        "  print('Bikram')"
      ],
      "metadata": {
        "id": "ssXbJMaM88gg",
        "outputId": "73c598bd-d5c9-4acd-874e-1258c89d6170",
        "colab": {
          "base_uri": "https://localhost:8080/"
        }
      },
      "execution_count": 8,
      "outputs": [
        {
          "output_type": "stream",
          "name": "stdout",
          "text": [
            "Bikram\n",
            "Bikram\n",
            "Bikram\n",
            "Bikram\n",
            "Bikram\n"
          ]
        }
      ]
    }
  ]
}