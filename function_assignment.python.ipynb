{
  "nbformat": 4,
  "nbformat_minor": 0,
  "metadata": {
    "colab": {
      "provenance": []
    },
    "kernelspec": {
      "name": "python3",
      "display_name": "Python 3"
    },
    "language_info": {
      "name": "python"
    }
  },
  "cells": [
    {
      "cell_type": "markdown",
      "source": [
        "# **THEORY QUESTIONS**"
      ],
      "metadata": {
        "id": "mKtFktaY8Njp"
      }
    },
    {
      "cell_type": "markdown",
      "source": [
        "1. What is the differernt between to a function and a method in python?  \n",
        "\n",
        "Ans:\n",
        "\n",
        "**Function**\n",
        "a) A block of code that is defined outside any class and can be on its own.\n",
        "\n",
        "b) function main scope can be used anywhere in the program provied it is in schope. [global; anywhere in the code]\n",
        "\n",
        "c)  independent; not sepicific object.\n",
        "\n",
        "d) analogy : library\n",
        "\n",
        "e) syntax:   def fun_name(arg1,arg2....):\n",
        "                #body of code.......\n",
        "\n",
        "**Method**\n",
        "\n",
        "a) a function that is defined inside a class and must be called on an object that class.\n",
        "\n",
        "b) called on an object or wthin a class contest.\n",
        "\n",
        "c) analogy : wifi in the library\n",
        "\n",
        "d) dependent tied to a specific object.\n",
        "\n",
        "e) syntax:  class class_Name\n",
        "                def method_name():\n",
        "                #body of code.......\n",
        "\n",
        "Example:"
      ],
      "metadata": {
        "id": "-ZWEY3T48NgJ"
      }
    },
    {
      "cell_type": "code",
      "source": [
        "class collage:\n",
        "  def method_collage(self):\n",
        "    print(\"I am in method_collage\")\n",
        "collage_obj = collage()\n",
        "collage_obj.method_collage()"
      ],
      "metadata": {
        "colab": {
          "base_uri": "https://localhost:8080/"
        },
        "id": "immGy4Hc_Y2z",
        "outputId": "ee237db3-b0a4-4aea-8011-94e46f8638e1"
      },
      "execution_count": null,
      "outputs": [
        {
          "output_type": "stream",
          "name": "stdout",
          "text": [
            "I am in method_collage\n"
          ]
        }
      ]
    },
    {
      "cell_type": "code",
      "source": [
        "def function_collage(a,b):\n",
        "  return (a-b)\n",
        "\n",
        "print(function_collage(10,15))\n",
        "print(function_collage(20,5))"
      ],
      "metadata": {
        "colab": {
          "base_uri": "https://localhost:8080/"
        },
        "id": "qVodTBsNAAB_",
        "outputId": "4bbe5c9d-c485-4bf0-c9f7-83248eafa3e5"
      },
      "execution_count": null,
      "outputs": [
        {
          "output_type": "stream",
          "name": "stdout",
          "text": [
            "-5\n",
            "15\n"
          ]
        }
      ]
    },
    {
      "cell_type": "markdown",
      "source": [
        "2. Explain the concept of function argument and parameters in python.\n",
        "\n",
        "Ans:  \n",
        "**Parameters**\n",
        "\n",
        "in python parameters is the variable defined within the parentheses during function defintion and written when we declear a function.\n",
        "\n",
        "example:"
      ],
      "metadata": {
        "id": "x9Te6611AgNs"
      }
    },
    {
      "cell_type": "code",
      "source": [
        "def add(b,c):\n",
        "  print(b+c)\n",
        "add(10,20)"
      ],
      "metadata": {
        "colab": {
          "base_uri": "https://localhost:8080/"
        },
        "id": "hweyis6oBaJo",
        "outputId": "9e21fd23-dca9-415a-d442-07072fa53802"
      },
      "execution_count": null,
      "outputs": [
        {
          "output_type": "stream",
          "name": "stdout",
          "text": [
            "30\n"
          ]
        }
      ]
    },
    {
      "cell_type": "markdown",
      "source": [
        "**Arguments**\n",
        "In python arguments is a value that is passed to a function when it is called. it might be a variable, value/object passed to a function/method.\n",
        "\n",
        "example:"
      ],
      "metadata": {
        "id": "De-PGkupBuaE"
      }
    },
    {
      "cell_type": "code",
      "source": [
        "def add(b,c):\n",
        "  print(b+c)\n",
        "add(10,20)"
      ],
      "metadata": {
        "colab": {
          "base_uri": "https://localhost:8080/"
        },
        "id": "bHo1M2ylCF8v",
        "outputId": "132d9ab2-77c1-4589-c9a8-2ce55fab203b"
      },
      "execution_count": null,
      "outputs": [
        {
          "output_type": "stream",
          "name": "stdout",
          "text": [
            "30\n"
          ]
        }
      ]
    },
    {
      "cell_type": "markdown",
      "source": [
        "**Types of arguments**\n",
        "\n",
        "1. **positional arguments **:\n",
        "positional arguments are needed to be include in proper order.\n",
        "\n",
        "example:\n",
        "\n"
      ],
      "metadata": {
        "id": "XaXKC4-oCOBw"
      }
    },
    {
      "cell_type": "code",
      "source": [
        "def my_name(first_name,last_name):\n",
        "  print(first_name,last_name)\n",
        "my_name(\"Bikram\",\"Midya\")"
      ],
      "metadata": {
        "colab": {
          "base_uri": "https://localhost:8080/"
        },
        "id": "Z1DWzxIICt82",
        "outputId": "68f1c648-93f1-4d7e-b594-65bda6125a4e"
      },
      "execution_count": null,
      "outputs": [
        {
          "output_type": "stream",
          "name": "stdout",
          "text": [
            "Bikram Midya\n"
          ]
        }
      ]
    },
    {
      "cell_type": "markdown",
      "source": [
        "2.** keyword arguments**\n",
        "the order of keyword argument with respect to another keyword arguments don't matter.\n",
        "\n",
        "example:"
      ],
      "metadata": {
        "id": "E6fn0_W3DCUy"
      }
    },
    {
      "cell_type": "code",
      "source": [
        "def my_name(first_name,last_name):\n",
        "  print(first_name + last_name)\n",
        "my_name(last_name=\"Midya\",first_name=\"Bikram\")"
      ],
      "metadata": {
        "colab": {
          "base_uri": "https://localhost:8080/"
        },
        "id": "pizEeZidDWeQ",
        "outputId": "191ec1de-ae70-42b8-a305-5865bf5e9890"
      },
      "execution_count": null,
      "outputs": [
        {
          "output_type": "stream",
          "name": "stdout",
          "text": [
            "BikramMidya\n"
          ]
        }
      ]
    },
    {
      "cell_type": "markdown",
      "source": [
        "and aother two arguments are 'Default arguments' and 'variable length arguments'\n",
        "\n",
        "differents:\n",
        "* parameters are the variable listed inside the parameters in the function definition.\n",
        "* arguments are the values passed to the function when it is called."
      ],
      "metadata": {
        "id": "Sl3H9gs7DuSP"
      }
    },
    {
      "cell_type": "markdown",
      "source": [
        "3. What are the different ways to defined and call a function in python?\n",
        "\n",
        "ans:  In python different ways to defined and call a function like 'defining a function' , 'defining anoymous function' , using positinal arguments' , 'using keyword' , 'return statement' , 'using multiple return statement' etc.\n",
        "\n",
        "example:\n"
      ],
      "metadata": {
        "id": "cjO1S4ZuEOKX"
      }
    },
    {
      "cell_type": "code",
      "source": [
        "# python  function code\n",
        "def nam(name):\n",
        "  print(\"hello,\"+name+\"i'm bikram\")\n",
        "nam(\"hi, \")"
      ],
      "metadata": {
        "colab": {
          "base_uri": "https://localhost:8080/"
        },
        "id": "O2jDAeCjF17J",
        "outputId": "626cdb2e-884c-41b5-8353-bc38e805db3f"
      },
      "execution_count": null,
      "outputs": [
        {
          "output_type": "stream",
          "name": "stdout",
          "text": [
            "hello,hi, i'm bikram\n"
          ]
        }
      ]
    },
    {
      "cell_type": "code",
      "source": [
        "def get_even_num(numbers):\n",
        "  even_num = []\n",
        "  for num in numbers:\n",
        "    if num % 2 == 0:\n",
        "      even_num.append(num)\n",
        "  return even_num\n",
        "numbers = ([1,2,3,4,5,6,7,8,9])\n",
        "even_num = get_even_num(numbers)\n",
        "print(even_num)"
      ],
      "metadata": {
        "colab": {
          "base_uri": "https://localhost:8080/"
        },
        "id": "buHyH04jGWXi",
        "outputId": "d22da0ee-714e-4fbe-ad27-436c8e3ada52"
      },
      "execution_count": null,
      "outputs": [
        {
          "output_type": "stream",
          "name": "stdout",
          "text": [
            "[2, 4, 6, 8]\n"
          ]
        }
      ]
    },
    {
      "cell_type": "markdown",
      "source": [
        "4. What is the purpose of the 'return' statement in a python function?\n",
        "\n",
        "Ans: The main purpose of the return statement in python is to end the function's execution and send a value back to the caller:\n",
        "\n",
        "**Renturns a value**\n",
        "the return statement spcifies the value or values to pass back from the function. value can be any type(int, float, string,list,dict)\n",
        "\n",
        "Note: return statement can not be used outside the function.\n",
        "\n",
        "syntax:"
      ],
      "metadata": {
        "id": "sBk9wY7_HSnB"
      }
    },
    {
      "cell_type": "code",
      "source": [
        "def fun():\n",
        "   statements .....\n",
        "   .....\n",
        "   returns[expression]"
      ],
      "metadata": {
        "id": "luJinv4kI1GJ"
      },
      "execution_count": null,
      "outputs": []
    },
    {
      "cell_type": "markdown",
      "source": [
        "example:"
      ],
      "metadata": {
        "id": "l_kuKxoFI_Nl"
      }
    },
    {
      "cell_type": "code",
      "source": [
        "def cube(y):\n",
        "  a=y**3\n",
        "  return a\n",
        "print(cube(3))"
      ],
      "metadata": {
        "colab": {
          "base_uri": "https://localhost:8080/"
        },
        "id": "A-IWxknLJBLo",
        "outputId": "12bf59b4-12db-43b3-bc9f-a94ed831286a"
      },
      "execution_count": null,
      "outputs": [
        {
          "output_type": "stream",
          "name": "stdout",
          "text": [
            "27\n"
          ]
        }
      ]
    },
    {
      "cell_type": "markdown",
      "source": [
        "5. What are iteration in python and how do they differ from iterables?\n",
        "\n",
        "ans:\n",
        "**Iteration**\n",
        "\n",
        "*   iteration is the process of repeatedly accessing elements from a collection (list, tuple).\n",
        "*   it happen when a loop(for, while) or a function extracts elements from an iterable until it reaches the end.\n",
        "\n",
        "**Iterable:**\n",
        "* it is any object in python that can be looped over.\n",
        "* that implements the _iter_()\n",
        "* like list, tuple, string, dict, sets\n",
        "\n",
        "**Diferents**:\n",
        "* iterables provides the data for iteration.\n",
        "* iteration happens by retriving elements from an iterable.\n",
        "\n",
        "* does't raise stopIteration\n",
        "*stops when elements are exhausted or stopIteration is raised.\n",
        "\n",
        "example:\n",
        "\n"
      ],
      "metadata": {
        "id": "RQLfQlH8JU4o"
      }
    },
    {
      "cell_type": "code",
      "source": [
        "numbers = [1,2,3,4,5]\n",
        "for num in numbers:\n",
        "  print(num)"
      ],
      "metadata": {
        "colab": {
          "base_uri": "https://localhost:8080/"
        },
        "id": "kDMEwcVoLvU5",
        "outputId": "e56f38d5-6064-4c5e-b345-0b6187eedcd6"
      },
      "execution_count": null,
      "outputs": [
        {
          "output_type": "stream",
          "name": "stdout",
          "text": [
            "1\n",
            "2\n",
            "3\n",
            "4\n",
            "5\n"
          ]
        }
      ]
    },
    {
      "cell_type": "code",
      "source": [
        "numbrs = [1,2,3,4,5]\n",
        "iterator = iter(numbrs)\n",
        "print(next(iterator))\n",
        "print(next(iterator))\n",
        "print(next(iterator))\n",
        "print(next(iterator))\n",
        "print(next(iterator))"
      ],
      "metadata": {
        "colab": {
          "base_uri": "https://localhost:8080/"
        },
        "id": "bydKXHbCLyRr",
        "outputId": "4047599e-219c-4457-fea9-293de09cffbc"
      },
      "execution_count": null,
      "outputs": [
        {
          "output_type": "stream",
          "name": "stdout",
          "text": [
            "1\n",
            "2\n",
            "3\n",
            "4\n",
            "5\n"
          ]
        }
      ]
    },
    {
      "cell_type": "markdown",
      "source": [
        "6. Explain the concept of generators in python and how they are defined.\n",
        "\n",
        "Ans: **Generators Work**\n",
        "it use the yield keyword instead of return to produce values one at a time.\n",
        "When a generator function is called, it does't excute its code immediatly. it returns a generator object, which can be iterated over using next() / for loop\n",
        "\n",
        "A. **Generator Function**\n",
        " A generator function is a regular function that ises the yield keyword to returns values. when the function is called, it returns a generator object."
      ],
      "metadata": {
        "id": "4O2xYUTgL_ff"
      }
    },
    {
      "cell_type": "code",
      "source": [
        "def count(nam):\n",
        "  count = 1\n",
        "  while count <= nam:\n",
        "    yield count\n",
        "    count+=1\n",
        "\n",
        "gen = count(5)\n",
        "print(next(gen))\n",
        "print(next(gen))\n",
        "print(next(gen))"
      ],
      "metadata": {
        "colab": {
          "base_uri": "https://localhost:8080/"
        },
        "id": "5t9B2T5COeyd",
        "outputId": "a25b4b5e-6e7e-4000-93f5-a28f2e465f33"
      },
      "execution_count": null,
      "outputs": [
        {
          "output_type": "stream",
          "name": "stdout",
          "text": [
            "1\n",
            "2\n",
            "3\n"
          ]
        }
      ]
    },
    {
      "cell_type": "markdown",
      "source": [
        "**Generators Expression**\n",
        "generators expresstion provide a concise generators, as similer to list but with parentheses insted of square brackets."
      ],
      "metadata": {
        "id": "_Vjco0XLOwXz"
      }
    },
    {
      "cell_type": "code",
      "source": [
        "gin = (x**x for x in range(5))\n",
        "\n",
        "print(next(gin))\n",
        "print(next(gin))\n",
        "print(next(gin))"
      ],
      "metadata": {
        "colab": {
          "base_uri": "https://localhost:8080/"
        },
        "id": "adXzIXm3PFrp",
        "outputId": "5a19122c-a27e-4214-cd06-ab62a945455d"
      },
      "execution_count": null,
      "outputs": [
        {
          "output_type": "stream",
          "name": "stdout",
          "text": [
            "1\n",
            "1\n",
            "4\n"
          ]
        }
      ]
    },
    {
      "cell_type": "markdown",
      "source": [
        "**Using loop**\n",
        " A for loop can iterate over a generator, consuming the values untill exhusted."
      ],
      "metadata": {
        "id": "ExFK4g88PRQn"
      }
    },
    {
      "cell_type": "code",
      "source": [
        "def count(nam):\n",
        "  count = 1\n",
        "  while count <= nam:\n",
        "    yield count\n",
        "    count+=1\n",
        "\n",
        "for num in count(5):\n",
        "  print(num)"
      ],
      "metadata": {
        "colab": {
          "base_uri": "https://localhost:8080/"
        },
        "id": "Y3yR-IbUPg-r",
        "outputId": "b17d17d1-2077-4d14-bf46-4221b50ffc82"
      },
      "execution_count": null,
      "outputs": [
        {
          "output_type": "stream",
          "name": "stdout",
          "text": [
            "1\n",
            "2\n",
            "3\n",
            "4\n",
            "5\n"
          ]
        }
      ]
    },
    {
      "cell_type": "markdown",
      "source": [
        "7. What are the advantage of using generators over regular function?\n",
        "\n",
        "Ans:\n",
        "**Memory Efficiency**\n",
        "\n",
        "*   generators produce values lazily they generate one value at a time, on demand, rather than generating all values at onace.\n",
        "*   the makes generators ideal for working with large dataset / infinite sequnce without consuming large amounts of memory.\n",
        "\n",
        "\n"
      ],
      "metadata": {
        "id": "U66dQUmbPq4Q"
      }
    },
    {
      "cell_type": "code",
      "source": [
        "def gen_num():\n",
        "  for i in range(10**2):\n",
        "    yield i\n",
        "gen = gen_num()\n",
        "print(next(gen))\n",
        "print(next(gen))\n",
        "print(next(gen))\n",
        "# small memory , huge data"
      ],
      "metadata": {
        "colab": {
          "base_uri": "https://localhost:8080/"
        },
        "id": "4rNlEWUjQ3FE",
        "outputId": "ee2ca192-a411-40f8-ffec-a18cadcf98be"
      },
      "execution_count": null,
      "outputs": [
        {
          "output_type": "stream",
          "name": "stdout",
          "text": [
            "0\n",
            "1\n",
            "2\n"
          ]
        }
      ]
    },
    {
      "cell_type": "code",
      "source": [
        "numbers = [i for i in range(10**2)]\n",
        "# lot of memory"
      ],
      "metadata": {
        "id": "TRR5fP9TRTbb"
      },
      "execution_count": null,
      "outputs": []
    },
    {
      "cell_type": "markdown",
      "source": [
        "**Improved performance with lazy evaluation**\n",
        "* genrators delay computation until the value is needed, improve perfonace by spreading out the workload."
      ],
      "metadata": {
        "id": "DIhQ1ahVRjN0"
      }
    },
    {
      "cell_type": "code",
      "source": [
        "def sqr(x):\n",
        "  for i in range(x):\n",
        "    yield i**i\n",
        "sqr_gen = sqr(5)\n",
        "print(next(sqr_gen))\n",
        "print(next(sqr_gen))\n",
        "print(next(sqr_gen))"
      ],
      "metadata": {
        "colab": {
          "base_uri": "https://localhost:8080/"
        },
        "id": "WrpSCt0mSCAP",
        "outputId": "e7d79911-0f31-4cd4-a07a-370c367645fa"
      },
      "execution_count": null,
      "outputs": [
        {
          "output_type": "stream",
          "name": "stdout",
          "text": [
            "1\n",
            "1\n",
            "4\n"
          ]
        }
      ]
    },
    {
      "cell_type": "markdown",
      "source": [
        "**State managment **\n",
        "automatically save their state between calls.\n",
        "this make simple and more readable than implementing iterators manually with classes & _next_()"
      ],
      "metadata": {
        "id": "In8yaP0ISUAV"
      }
    },
    {
      "cell_type": "code",
      "source": [
        "def count(z):\n",
        "  while z>0:\n",
        "    yield z\n",
        "    z-=1\n",
        "\n",
        "\n",
        "gen = count(5)\n",
        "print(next(gen))\n",
        "print(next(gen))\n",
        "print(next(gen))"
      ],
      "metadata": {
        "colab": {
          "base_uri": "https://localhost:8080/"
        },
        "id": "eQiqHNAaU84B",
        "outputId": "73cd909f-4b0e-4024-af1b-96cecd048cc8"
      },
      "execution_count": null,
      "outputs": [
        {
          "output_type": "stream",
          "name": "stdout",
          "text": [
            "5\n",
            "4\n",
            "3\n"
          ]
        }
      ]
    },
    {
      "cell_type": "markdown",
      "source": [
        "Advatage:\n",
        "\n",
        "\n",
        "1.   Meomory Efficiency\n",
        "2.   Lazy Evalution\n",
        "3.   infinite sequnce\n",
        "4.   state managment\n",
        "5.   faster execution\n",
        "6.   readable code\n",
        "7.   exception handling  \n",
        "\n"
      ],
      "metadata": {
        "id": "iwToTxs0VQ5K"
      }
    },
    {
      "cell_type": "markdown",
      "source": [
        "8. What is a lambda function in python and when is it typically used?\n",
        "\n",
        "ans:\n",
        "A lambda function is a small anoymous function.\n",
        "\n",
        "A lamda function can take any number of arguments, but can only have one expression.\n",
        "\n",
        "**Syntax**\n",
        " lambda arg : expression"
      ],
      "metadata": {
        "id": "ZcGsHPBEVu_K"
      }
    },
    {
      "cell_type": "code",
      "source": [
        "y = lambda x: x + 10\n",
        "print(y(5))"
      ],
      "metadata": {
        "colab": {
          "base_uri": "https://localhost:8080/"
        },
        "id": "5dUVNBquXO8N",
        "outputId": "5ba74ff1-de61-477c-a01f-7bade255b2d8"
      },
      "execution_count": null,
      "outputs": [
        {
          "output_type": "stream",
          "name": "stdout",
          "text": [
            "15\n"
          ]
        }
      ]
    },
    {
      "cell_type": "code",
      "source": [
        "x = lambda a,b : a*b\n",
        "print(x(5,6))"
      ],
      "metadata": {
        "colab": {
          "base_uri": "https://localhost:8080/"
        },
        "id": "JGg4xiskXd-Q",
        "outputId": "cf15951a-7478-4352-cd94-4373fadc6987"
      },
      "execution_count": null,
      "outputs": [
        {
          "output_type": "stream",
          "name": "stdout",
          "text": [
            "30\n"
          ]
        }
      ]
    },
    {
      "cell_type": "markdown",
      "source": [
        "the power of lambda is better shown when you use them as an anonoymous function inside another function.\n",
        "\n",
        "so we have function definition that takes one arg and that arg will be multiple with unknown number:"
      ],
      "metadata": {
        "id": "Zysjt2baXow1"
      }
    },
    {
      "cell_type": "code",
      "source": [
        "def my_func(n):\n",
        "  return lambda a : a * n\n",
        "my_doubler = my_func(2)\n",
        "print(my_doubler(11))"
      ],
      "metadata": {
        "colab": {
          "base_uri": "https://localhost:8080/"
        },
        "id": "6LkhNRMpYDK3",
        "outputId": "fbc86b7f-12a2-477b-d816-0482dd7a6b92"
      },
      "execution_count": null,
      "outputs": [
        {
          "output_type": "stream",
          "name": "stdout",
          "text": [
            "22\n"
          ]
        }
      ]
    },
    {
      "cell_type": "markdown",
      "source": [
        "9. Explain the purpose and useage of the `map() function in python.\n",
        "\n",
        "ans: the map() function is used to apply a given function to every item of an iterable, such as list / tuple and returns map object."
      ],
      "metadata": {
        "id": "sEtwZ36vYLv_"
      }
    },
    {
      "cell_type": "code",
      "source": [
        "t = ['1','2','3','4']\n",
        "t = list(map(int,t))\n",
        "print(t)"
      ],
      "metadata": {
        "colab": {
          "base_uri": "https://localhost:8080/"
        },
        "id": "wJ4rYMDsY0GI",
        "outputId": "ab9edb75-db11-42cb-a565-435c994d4af5"
      },
      "execution_count": null,
      "outputs": [
        {
          "output_type": "stream",
          "name": "stdout",
          "text": [
            "[1, 2, 3, 4]\n"
          ]
        }
      ]
    },
    {
      "cell_type": "markdown",
      "source": [
        "syntax:  map(fun,iterable)\n",
        "\n",
        "the fun we want to apply to every element of the iterable.\n",
        "\n",
        "the iterable whose element we want to process.\n",
        "\n",
        "we can also pass multiple iterable if our fun accepts muliple arg."
      ],
      "metadata": {
        "id": "UYdjHobkY8U9"
      }
    },
    {
      "cell_type": "code",
      "source": [
        "x = [1,2,3,4,5]\n",
        "\n",
        "def vari(val):\n",
        "  return val*2\n",
        "  z = list(map(vari,x))\n",
        "  print(z)"
      ],
      "metadata": {
        "id": "UpeubJNlZZ63"
      },
      "execution_count": null,
      "outputs": []
    },
    {
      "cell_type": "markdown",
      "source": [
        "10. what is the difference between map(), reduce() and filter() function in python ?\n",
        "\n",
        "Ans: **map()**\n",
        "1. syntax:  map(fun, iterable object)\n",
        "2. applies the fun evenly to all the items in the iterable object.\n",
        "3. input to output var: N to N\n",
        "4. ex: list of the sqr of all numbers in a list\n",
        "\n",
        "**filter()**\n",
        "1. syntax: filter(fun, iterable obj)\n",
        "2. function is a boolean condition that rejects all the items in the iterable obj that are not true\n",
        "3. input to output: N to M\n",
        "4. ex: all even number from list\n",
        "\n",
        "**reduce()**\n",
        "1. synytax: reduce(fun, iterable obj)\n",
        "2. breaks down the entired process of applying the fun into pair wise operations.\n",
        "3. input to output: N to 1\n",
        "4. ex: produce of all the items in the list"
      ],
      "metadata": {
        "id": "SS_K9LFzZ47l"
      }
    },
    {
      "cell_type": "code",
      "source": [
        "data = [1,2,3,4]\n",
        "sqr = map(lambda a:a*a, data)\n",
        "for i in sqr:\n",
        "  print(i,end=\" \")\n",
        "sqr = list(map(lambda a:a*a, data))\n",
        "print(\"sqr:{sqr}\")"
      ],
      "metadata": {
        "colab": {
          "base_uri": "https://localhost:8080/"
        },
        "id": "e74bHSAHcvCs",
        "outputId": "fd3e1d9f-0a76-4928-8c46-8fa5e3281afa"
      },
      "execution_count": null,
      "outputs": [
        {
          "output_type": "stream",
          "name": "stdout",
          "text": [
            "1 4 9 16 sqr:{sqr}\n"
          ]
        }
      ]
    },
    {
      "cell_type": "code",
      "source": [
        "data_1 = [2,3,4,5]\n",
        "even_num = filter(lambda a:a%2==0, data_1)\n",
        "for i in even_num:\n",
        "  print(i, end=\" \")\n",
        "even_num = list(filter(lambda a:a%2==0, data_1))\n",
        "print(\"even_num:{even_num}\")\n"
      ],
      "metadata": {
        "colab": {
          "base_uri": "https://localhost:8080/"
        },
        "id": "cuVsrzR0dMTF",
        "outputId": "d4330915-b491-4d9c-f4c3-0a3aad647b0d"
      },
      "execution_count": null,
      "outputs": [
        {
          "output_type": "stream",
          "name": "stdout",
          "text": [
            "2 4 even_num:{even_num}\n"
          ]
        }
      ]
    },
    {
      "cell_type": "code",
      "source": [
        "def is_even(x):\n",
        "  return x%2==0\n",
        "numbers = [1,2,3,4,5,6,7,8,9,10]\n",
        "even_numbers = filter(is_even, numbers)\n",
        "print(\"even number:\",list(even_numbers))"
      ],
      "metadata": {
        "colab": {
          "base_uri": "https://localhost:8080/"
        },
        "id": "hAokRKNueSMv",
        "outputId": "3059a0e3-bce1-46a3-8d4a-63c070f82a6b"
      },
      "execution_count": null,
      "outputs": [
        {
          "output_type": "stream",
          "name": "stdout",
          "text": [
            "even number: [2, 4, 6, 8, 10]\n"
          ]
        }
      ]
    },
    {
      "cell_type": "markdown",
      "source": [
        "11. Using pen and paper write the internal mechanism for sum operation using reduce function on this given list:[47,11,42,13];![assignment .jpg](data:image/jpeg;base64,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)"
      ],
      "metadata": {
        "id": "z32KY4gvAIJ8"
      }
    },
    {
      "cell_type": "markdown",
      "source": [
        "## **Practical Question**"
      ],
      "metadata": {
        "id": "GSFQdRlNws-4"
      }
    },
    {
      "cell_type": "markdown",
      "source": [
        "1. Write a python function that takes a list of numbers as input and returns the sum of all even numbers in the list."
      ],
      "metadata": {
        "id": "WWyKXOYCw2Fu"
      }
    },
    {
      "cell_type": "code",
      "source": [
        "from functools import reduce\n",
        "\n",
        "def sum_even_numbers(numbers):\n",
        "    even_numbers = list(filter(lambda x: x % 2 == 0, numbers))\n",
        "    return reduce(lambda x, y: x + y, even_numbers)\n",
        "numbers = [12,14,20,30,15,18]\n",
        "x=sum_even_numbers(numbers)\n",
        "print(x)"
      ],
      "metadata": {
        "colab": {
          "base_uri": "https://localhost:8080/"
        },
        "id": "pGrC_4hJxp5N",
        "outputId": "0869dde1-e186-4c50-876d-62e5a8bf7d36"
      },
      "execution_count": 1,
      "outputs": [
        {
          "output_type": "stream",
          "name": "stdout",
          "text": [
            "94\n"
          ]
        }
      ]
    },
    {
      "cell_type": "markdown",
      "source": [
        "2. Create a python function that accepts a string and returns the reverse of the string."
      ],
      "metadata": {
        "id": "3fcT9lRt1Y-f"
      }
    },
    {
      "cell_type": "code",
      "source": [
        "def reverse_string(x):\n",
        "  return x[::-1]\n",
        "\n",
        "input_string = input(\"enter a string:\")\n",
        "reverse_string = reverse_string(input_string)\n",
        "print(\"reverse string:\",reverse_string)"
      ],
      "metadata": {
        "colab": {
          "base_uri": "https://localhost:8080/"
        },
        "id": "Pra_PEBS11C6",
        "outputId": "e90e39bc-b094-41ec-8071-72a82ae83c59"
      },
      "execution_count": 2,
      "outputs": [
        {
          "output_type": "stream",
          "name": "stdout",
          "text": [
            "enter a string:Bikram\n",
            "reverse string: markiB\n"
          ]
        }
      ]
    },
    {
      "cell_type": "markdown",
      "source": [
        "3. implement a python function that takes a list of integers and returns a new list containig the seqares of each number."
      ],
      "metadata": {
        "id": "5N4eM_LE2QdZ"
      }
    },
    {
      "cell_type": "code",
      "source": [
        "def sqr_numbers(numbers):\n",
        "  return list(map(lambda x:x**2,numbers))\n",
        "\n",
        "input_numbers=input(\"enter a numbers\")\n",
        "squares=sqr_numbers(numbers)\n",
        "print(sqr_numbers(numbers))"
      ],
      "metadata": {
        "colab": {
          "base_uri": "https://localhost:8080/"
        },
        "id": "e035wy2n2nNP",
        "outputId": "6a973eb5-bd47-438b-c4bf-878f0ebcb838"
      },
      "execution_count": 8,
      "outputs": [
        {
          "output_type": "stream",
          "name": "stdout",
          "text": [
            "enter a numbers[1,2,3,4,5]\n",
            "[1, 4, 9, 16, 25]\n"
          ]
        }
      ]
    },
    {
      "cell_type": "markdown",
      "source": [
        "4. write a python function that checks if a given number in prime or not from 1 to 200."
      ],
      "metadata": {
        "id": "FAS42GAr4Twd"
      }
    },
    {
      "cell_type": "code",
      "source": [
        "def prime(n):\n",
        "\n",
        "  if n<2:\n",
        "    return False\n",
        "  for i in range(2,int(n**0.5)+1):\n",
        "    if n%i==0:\n",
        "      return False\n",
        "  return True\n",
        "\n",
        "primes = [num for num in range(1,201) if prime(num)]\n",
        "print(primes)"
      ],
      "metadata": {
        "colab": {
          "base_uri": "https://localhost:8080/"
        },
        "id": "dOJPax_V4s44",
        "outputId": "cd0d1d33-36bd-47ea-8fd2-aaa458a116c5"
      },
      "execution_count": 9,
      "outputs": [
        {
          "output_type": "stream",
          "name": "stdout",
          "text": [
            "[2, 3, 5, 7, 11, 13, 17, 19, 23, 29, 31, 37, 41, 43, 47, 53, 59, 61, 67, 71, 73, 79, 83, 89, 97, 101, 103, 107, 109, 113, 127, 131, 137, 139, 149, 151, 157, 163, 167, 173, 179, 181, 191, 193, 197, 199]\n"
          ]
        }
      ]
    },
    {
      "cell_type": "markdown",
      "source": [
        "5. create an iterator class in python that generates the fibonacci sequence upto a specific number of terms."
      ],
      "metadata": {
        "id": "sVj_tUrz5By1"
      }
    },
    {
      "cell_type": "code",
      "source": [
        "# Function for nth fibonacci number\n",
        "def fibonacci(n):\n",
        "    a = 0\n",
        "    b = 1\n",
        "\n",
        "    # Check is n is less\n",
        "    # than 0\n",
        "    if n < 0:\n",
        "        print(\"not correct input\")\n",
        "\n",
        "    elif n == 0:\n",
        "        return 0\n",
        "\n",
        "    elif n == 1:\n",
        "        return b\n",
        "    else:\n",
        "        for i in range(1, n):\n",
        "            c = a + b\n",
        "            a = b\n",
        "            b = c\n",
        "        return b\n",
        "\n",
        "print(fibonacci(9))\n",
        "\n",
        ""
      ],
      "metadata": {
        "colab": {
          "base_uri": "https://localhost:8080/"
        },
        "id": "jLu_HGN_7Jq-",
        "outputId": "e1ea35c2-d0ee-47b4-8266-05aec13bd57e"
      },
      "execution_count": 5,
      "outputs": [
        {
          "output_type": "stream",
          "name": "stdout",
          "text": [
            "34\n"
          ]
        }
      ]
    },
    {
      "cell_type": "markdown",
      "source": [
        "6. write a generator function in python that yields the powers of 2 up too given exponent."
      ],
      "metadata": {
        "id": "qQvoXLcDERm1"
      }
    },
    {
      "cell_type": "code",
      "source": [
        "def power_generator(base, exponent):\n",
        "    result = 1\n",
        "    for i in range(exponent + 1):\n",
        "        yield result\n",
        "        result *= base\n",
        "\n",
        "# Accept input from the user\n",
        "base = int(input(\"Input the base number: \"))\n",
        "exponent = int(input(\"Input the exponent: \"))\n",
        "\n",
        "# Create the generator object\n",
        "power_gen = power_generator(base, exponent)\n",
        "\n",
        "# Generate and print the powers\n",
        "print(f\"Powers of {base} up to exponent {exponent}:\")\n",
        "for power in power_gen:\n",
        "    print(power)"
      ],
      "metadata": {
        "colab": {
          "base_uri": "https://localhost:8080/"
        },
        "id": "Y_xYpFBLbV5C",
        "outputId": "a2839962-c227-4f00-e06c-89e525213b06"
      },
      "execution_count": 8,
      "outputs": [
        {
          "output_type": "stream",
          "name": "stdout",
          "text": [
            "Input the base number: 2\n",
            "Input the exponent: 3\n",
            "Powers of 2 up to exponent 3:\n",
            "1\n",
            "2\n",
            "4\n",
            "8\n"
          ]
        }
      ]
    },
    {
      "cell_type": "markdown",
      "source": [
        "7. implement a genertor function that reads a file line by line and yield each line as a string."
      ],
      "metadata": {
        "id": "t7zhyTONczHb"
      }
    },
    {
      "cell_type": "code",
      "source": [
        "x = [\"bikram\\n\",\"raj\\n\",\"midya\\n\"]\n",
        "\n",
        "file_1 = open('myfile.txt','w')\n",
        "file_1.writelines(x)\n",
        "file_1.close()\n",
        "\n",
        "file_1 = open('myfile.txt','r')\n",
        "count = 0\n",
        "\n",
        "print(\"using loop\")\n",
        "for line in file_1:\n",
        "  count += 1\n",
        "  print(\"line{}: {}\".format(count,line.strip()))\n",
        "\n",
        "file_1.close()"
      ],
      "metadata": {
        "colab": {
          "base_uri": "https://localhost:8080/"
        },
        "id": "lhQZMqXFd5e7",
        "outputId": "f0ed0f5e-f4d0-4a8b-c6a2-2103fcb0efec"
      },
      "execution_count": 10,
      "outputs": [
        {
          "output_type": "stream",
          "name": "stdout",
          "text": [
            "using loop\n",
            "line1: bikram\n",
            "line2: raj\n",
            "line3: midya\n"
          ]
        }
      ]
    },
    {
      "cell_type": "markdown",
      "source": [
        "8. use a lambda function in python to sort a list of tuple based on the second element of each tuple."
      ],
      "metadata": {
        "id": "1YgK9_O2g7dh"
      }
    },
    {
      "cell_type": "code",
      "source": [
        "tuple_list1 = [(1,3),(4,1),(2,3),(5,0)]\n",
        "\n",
        "sorted_list = sorted(tuple_list1,key=lambda x:x[1])\n",
        "print(sorted_list)"
      ],
      "metadata": {
        "colab": {
          "base_uri": "https://localhost:8080/"
        },
        "id": "23nv1qm1hUeo",
        "outputId": "f31f7d1d-23b0-4ae3-da48-70dac9dee902"
      },
      "execution_count": 11,
      "outputs": [
        {
          "output_type": "stream",
          "name": "stdout",
          "text": [
            "[(5, 0), (4, 1), (1, 3), (2, 3)]\n"
          ]
        }
      ]
    },
    {
      "cell_type": "markdown",
      "source": [
        "9. write a python program that use map() to convert a list of temperatures from celsius to fahrenhiet."
      ],
      "metadata": {
        "id": "4SleNVa0hmHR"
      }
    },
    {
      "cell_type": "code",
      "source": [
        "celsius_temps = [ 0,20,37,100]\n",
        "\n",
        "fahernheit_temps = list(map(lambda x: (x*9/5)+32,celsius_temps))\n",
        "print(fahernheit_temps)"
      ],
      "metadata": {
        "colab": {
          "base_uri": "https://localhost:8080/"
        },
        "id": "VKqYMYUKiQL1",
        "outputId": "5b7c948e-256e-491d-fce6-1d4a81b6f7e1"
      },
      "execution_count": 12,
      "outputs": [
        {
          "output_type": "stream",
          "name": "stdout",
          "text": [
            "[32.0, 68.0, 98.6, 212.0]\n"
          ]
        }
      ]
    },
    {
      "cell_type": "markdown",
      "source": [
        "10. create a python program that uses filter() to remove all the vowels from a given string."
      ],
      "metadata": {
        "id": "jeEozQNXihmR"
      }
    },
    {
      "cell_type": "code",
      "source": [
        "vowel = lambda char: char.lower() not in 'aeiou'\n",
        "\n",
        "input_str = input(\"Enter a string:\")\n",
        "\n",
        "filter_str = ''.join(filter(vowel,input_str))\n",
        "\n",
        "print(\"str without vowel\",filter_str)"
      ],
      "metadata": {
        "colab": {
          "base_uri": "https://localhost:8080/"
        },
        "id": "KcpalUe_i1pl",
        "outputId": "93e798c7-37a2-43b9-862f-e0183f84a925"
      },
      "execution_count": 13,
      "outputs": [
        {
          "output_type": "stream",
          "name": "stdout",
          "text": [
            "Enter a string:Bidisha\n",
            "str without vowel Bdsh\n"
          ]
        }
      ]
    },
    {
      "cell_type": "markdown",
      "source": [
        "11. write a python program, which returns a list with 2 tuples consists of the order number and the product if the price per item and the quantity. the product should be incresed by 10,-€ if the value of the order is smaller than 100,00€ .\n",
        "\n",
        "write a python program using lambda and map."
      ],
      "metadata": {
        "id": "cT-lCva5jwaA"
      }
    },
    {
      "cell_type": "code",
      "source": [
        "# List of orders: (order_number, price_per_item, quantity)\n",
        "orders = [\n",
        "    (1, 20.0, 3),   # 20 * 3 = 60 (should be increased by 10€)\n",
        "    (2, 50.0, 2),   # 50 * 2 = 100 (no increase)\n",
        "]\n",
        "\n",
        "# Lambda function to calculate the final product value\n",
        "calculate_product = lambda order: (\n",
        "    order[0],  # Order number\n",
        "    order[1] * order[2] + (10 if order[1] * order[2] < 100 else 0)\n",
        ")\n",
        "\n",
        "# Use map() to apply the lambda function to each order\n",
        "result = list(map(calculate_product, orders))\n",
        "\n",
        "# Print the result\n",
        "print(\"Order summary:\", result)\n"
      ],
      "metadata": {
        "colab": {
          "base_uri": "https://localhost:8080/"
        },
        "id": "MRB4tspQlZtQ",
        "outputId": "3ffb5e49-6c65-4b0e-ac80-9c49051aa0ee"
      },
      "execution_count": 15,
      "outputs": [
        {
          "output_type": "stream",
          "name": "stdout",
          "text": [
            "Order summary: [(1, 70.0), (2, 100.0)]\n"
          ]
        }
      ]
    }
  ]
}