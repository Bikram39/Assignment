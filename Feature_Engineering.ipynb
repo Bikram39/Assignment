{
  "nbformat": 4,
  "nbformat_minor": 0,
  "metadata": {
    "colab": {
      "provenance": []
    },
    "kernelspec": {
      "name": "python3",
      "display_name": "Python 3"
    },
    "language_info": {
      "name": "python"
    }
  },
  "cells": [
    {
      "cell_type": "markdown",
      "source": [
        "1. **What is a parameter?**\n",
        "\n",
        "Ans:Parameter is a variable that is learned from data to improved a model's predictions.\n",
        "\n",
        "parameter work:\n",
        "* during training the model is exposed to data and adjusts its parameters to minimize prediction errors.\n",
        "* parameter are used to represent the relationship in data."
      ],
      "metadata": {
        "id": "AVbZNTxUwRs2"
      }
    },
    {
      "cell_type": "markdown",
      "source": [
        "2. **What is correlation? what does negative correlation mean?**\n",
        "\n",
        "Ans: In machine learning, correlation is a statistical analysis that measures how two variables are related.\n",
        "\n",
        "![image.png](data:image/png;base64,iVBORw0KGgoAAAANSUhEUgAAAnsAAAGJCAIAAAB95GJPAAAgAElEQVR4Ae2d/W9c2XnfB8gfQPsnoz8ERAG3QI2gRH9o0DeAqAO0SRt0gO0CDmEB4wSqjQ7kJRK6m5qWwzbrVWHvIgOhiaE4TBgoSDmWTFMrMrvM1tRIq63JTXY1cmalrlSJtEDGG0qKxqudpSRmpVvNPPc+c+65L3Pf7zn3fheGdTlz7znP+TzPPN97Xu65FQP/gQAIgAAIgAAIpE+gkn4VqAEEQAAEQAAEQMCA4iIIQAAEQAAEQCALAlDcLCijDhAAARAAARCA4iIGQAAEQAAEQCALAlDcLCijDhAAARAAARCA4iIGQAAEQAAEQCALAlDcLCijDhAAARAAARCA4iIGQAAEQAAEQCALAlDcLCijDhAAARAAARCA4iIGQAAEQAAEQCALAlDcLCijDhAAARAAARCA4iIGQAAEQAAEQCALAlDcLCijDhAAARAAARCA4iIGQAAEQAAEQCALAlDcLCijDhAAARAAARCA4iIGQAAEQAAEQCALAlDcLCijDhAAARAAARCA4iIGQAAEQAAEQCALAlDcLCijDhAAARAAARCA4iIGQAAEQAAEQCALAlDcLCijDhAAARAAARCA4iIGQAAEQAAEQCALAlDcLCijDhAAARAAARCA4iIGQAAEQAAEQCALAlDcLCijDhAAARAAARCA4iIGQAAEQAAEQCALAlDcLCijDhAAARAAARCA4iIGQAAEQAAEQCALAlDcLCijDhAAARAAARCA4iIGQAAEQAAEQCALAlDcLCijDhAAARAAARDIVHG7+A8ENCSANAECIAACiRDIWnETMRqFgEBmBLrdbmZ1oSIQAIFiE4DiFtu/aF1cAlDcuARxPQiAgEUAimuRwL8g4EYAiutGBZ+BAAhEIQDFjUIN15SHABS3PL5GS0EgbQJQ3LQJo3y9CUBx9fYfrAcBlQhAcVXyBmxRjwAUVz2fwCIQ0JUAFFdXz8HubAhAcbPhjFpAoAwEoLhl8DLaGJ0AFDc6O1wJAiBgJwDFtfPAXyBgJwDFtfPAXyAAAtEJQHGjs8OVZSAAxS2Dl9FGEMiGABQ3G86oRVcCUFxdPQe7QUA9AlBc9XwCi1QiAMVVyRuwBQT0JgDF1dt/sD5tAlDctAmjfBAoDwEVFffx/Td/cOXb3znzTL1ZHfzv2efPL67euPGhv1ue3Hr3yp+unP+CdVW1fmp2/t3X37n/yO2699++MDU806yIqhv8v/u10a76uHfz6885q5A/efar7ZuPydYnP1p95Zl6U/jErQ0unz189TunBvafPX39ifP7j261v+TXatEkswTL+FONCw9N6+zlPri98/31S187Orz20AsbZ17b3XM7mw348vzuB/Zy+C8T8pELP/wpf5bfARQ3P/aoGQSKRkAxxX1y6923jniJ05G1P/lLd/n8+KM7i4JCC8LZl4FDL7z1lz+R5WeUdpJ+nPqt5u37gs+jXWWJ1lCTJAvpT0FfIyquWNFXmnceCpbTIQueqwH2D4Mo7qMftcRbHHsD3fwlGHBm4Z1HbqJsQHEdfsMHIAAChSCgkuI+2X77AvVQ641LQt/0ya0rV771EnXdXNL0gztbv00drCNr82eFrvDj+2+2rL7XkbWl92z53T+t3/vxzROmhNtqjHaVJYSe3URHKEVUXDLv1xc2vvJcsxqsj2hJoHuf2DAMT+Mf31+Zp3GI/njAm9e5B/zk1pWr1hCFfMtiVdfX5mef32y7jVv4Q3awSvkD9HFTBoziQaBEBNRR3Ae3r/Z1on7mdy/cP3B6wMrvcpp+/MHi7/TF+NAL7ffc0rfhceHotG6VXGvc/FvLnmhXeYqWVazj30iKaxp8qvFGd6U/thxI4C0JDKu4T66ff/1z9WbVcStjtYXvn2y3LFZ1Zm/YdWx5NGSrjiz+heJmQRl1gEA5CCijuOYEpGsKJle46hZlZ1mGJd9Z2ikOtAZJ62bhw+nVQAOezqtcLZdstP8ZRXFNMTty4Yf3TTuFYWp78cJflgSGU1yrRTY1FUqlQ1OVRTOs6s584/fX+oJddykhiGscdaX2ARQ3NbQoGARKR0ARxR2qhd9imSe3OlcWbUtySKdHd+aofDH1B0nrTu2MdpWlT6PttOIvguKal1CP3KrRU0etigxLAj3PtIqyGU8cxN4/F2g7eHznxFyzWh8WPqxuq0uDE867pSCQbbWk+gcUN1W8KBwESkVAEcV1alsQL5hiEGTC0pH6R6d1q2cs6kq0q1xFy7eBoRX34/3dl/uT2dxlNMcMRONdaxxKoNvaZo953KA3OoZhNoRHF8TqHpnzCE1pYGM0ZNeWpPQhFDclsCgWBEpIQA3FtfXPgnuB0rfYc/W+VhYJ37Qurv0Z9s8Mw39U2fOqDBSXmiOiMLVt1O2IKIGu9FyMd9y+uF5IH5JhLPz26qzJ4OGNQv8iX9f4VJXOV1DcdLiiVBAoIwE1FNfskHFPKKAnnDLjfaFchZnWRzycKi/jinaVJVr2h2fkqkVpD9vHlVvX52Dq4qlvrH7g+kQysbJLoAs/y/jhqLL1iWiwy4X0keQjuTprIEEcWzYhj7pX8Kwy2S+guMnyRGkgUGYCSiku94QCekTK5r5XyZo0SjvPvNy8ejn0U7zuV1kSlZbiWsu8JQkMJNuyBDogWsano7iGYRk/HFuG4jqcgA9AAAQKQUANxY04qhxecYey4ZrW7926+vX+bOip2fkbN92eNYp2lVO0RsVOILG0CjFPtu9fIao7T+5aVwj/ZqO4fC/lVp08tuwKWTA520P0cbPljdpAoMgE1FDcoE+zfPzR7beGOy1YmzMEGX50TD16pXXeT8P1Ad9oV6WruGbTRImVj1nwnKHsJoG2s9yMpwGD4e2L7QLbH+bdAM8XuFcnji33MI9rI4g/QAAEikNAEcU10/qR19d25e0YRdYOwQua+inRiwuLHEUN67m33Z4e7DRZP37zffs+hNGuchOtYXVuRyH6uKaGedx2WAZ7gnWXQMEmV+OpWB8hNwtw3Oh4VSeOLd+kLa89WiSYlskh+riZYEYlIFAKAooormGY86zSgyI2H1idOe4w8bpWcd2N7RL6w+pCOS/02AqRxznlZUeWgLlusu95latoudg5/Ci44prcvMTPqroptn1YjxHxeVyrWL/xasMwgYg3Ol6KyydX69bmGFBc0U84BgEQKAABZRSXV9DIy4MtyI/eXhnsUiT1gy01dR0E7l8bbZdHq9iqvTpfxTUMj6ssfQoyDEvNDaq4Vsk+yjeiKG8JNMFbVUjGW7cXEXd5lBZ5DepierSKG4pregD/gAAIFIWAOoor9HKaPm8ycO66bG3+0N/jN6k3GRhua2i5S+3RM+7HhDg6ym+j8xAtnxgaIZN8Jd0BiJ1I/ooPLE2VJNP83vrWTQIHp3gb/+iNxchvMnCvjun1V4FBcdmFOAABECgGAZUU1zCM0G9/Iy+MelvfxnlhvRVdMqK32j/J6sYJ+zNEu8oSLXlBk2N1MYuiqbiOE4Yl9IeR3YbZ3cLSb+Q5huKO9tdC6474rkNj9CA2M4fiunkSn4EACGhNQDHF7bP8+KM7az9413o9X19jgr2R3ri3fWPR9kb6My83313zfyO9b0eKe888TxxAcQ3nVSkp7k/o9fK+TaDgNM0W9jfmoI2nuJa/7G+krzcurdi2v+baRk8bCyPzrpPlw6IyOsLKqYxAoxoQKAEBBRW3BNTRRH0IQHH18RUsBQHVCUBxVfcQ7MuXABQ3X/6oHQSKRACKWyRvoi3JE4DiJs8UJYJAWQlAccvqebQ7GAEobjBOOAsEQGA0ASjuaEY4o8wEoLhl9j7aDgLJEoDiJssTpRWNABS3aB5Fe0AgPwJQ3PzYo2YdCEBxdfASbAQBPQhAcfXwE6zMiwAUNy/yqBcEikcAils8n6JFSRKA4iZJE2WBQLkJQHHL7X+0fhQBKO4oQvgeBEAgKAEoblBSOK+cBKC45fQ7Wg0CaRCA4qZBFWUWhwAUtzi+REtAIG8CUNy8PYD61SYAxVXbP7AOBHQiAMXVyVuwNXsCUNzsmaNGECgqAShuUT2LdiVDAIqbDEeUAgIgYBhQXEQBCPgRgOL60cF3IAACYQhAccPQwrnlIwDFLZ/P0WIQSIsAFDctsii3GASguMXwI1oBAioQgOKq4AXYoC4BKK66voFlIKAbASiubh6DvdkSgOJmyxu1gUCRCUBxi+xdtC0+AShufIYoAQRAgAhAcREJIOBHAIrrRwffgQAIhCEAxQ1DC+eWjwAUt3w+R4tBIC0CUNy0yKLcYhCA4hbDj2gFCKhAAIqrghdgg7oEoLjq+gaWgYBuBKC4unkM9mZLAIqbLW/UBgJFJgDFLbJ30bb4BKC48RmiBBAAASKQteJ28R8I6EYAyQIEQAAEEiGQqeImYjEKAQEQAAEQAAEdCUBxdfQabAYBEAABENCPABRXP5/BYhAAARAAAR0JQHF19BpsBgEQAAEQ0I8AFFc/n8FiEAABEAABHQlAcXX0GmwGARAAARDQjwAUVz+fwWIQAAEQAAEdCUBxdfQabAYBEAABENCPABRXP5/BYhAAARAAAR0JQHF19BpsBgEQAAEQ0I8AFFc/n8FiEAABEAABHQlAcXX0GmwGARAAARDQjwAUVz+fwWIQAAEQAAEdCUBxdfQabJYJtFqt7e1t+VP8DQIBCLRaLbyTMQAnnJIAAShuAhBRRO4EarVao9HI3QwYoCOBarWK4NHRcTraDMXV0WuwWSYwNjY2Pj4uf4q/QWAUgW63W6lUJiYmRp2I70EgAQKqKO7y8jIGdhLwZymLWFhYqAz+a7fbpQSARkcnwMGDWYnoEHFlYAKqKO7ExMTCwkJgs3EiCAwJVKtVUtxarTb8FEcgEIDAxMQEBc/09HSA03EKCMQioITibm9vVyqVarUaqym4uJQEKHgoaY6NjZWSARodkYAYPJiViAgRl4UhoITizs3NUcbEwE4Y3+HcPoFGo0HBQ/+/vLwMLiAQkABnHgqeVqsV8EKcBgLRCCihuOPj4xTxWDEYzYtlvopHBSmEMFJS5mAI23bOPBQ8mJUICxDnhyWQv+K2220Kd6wYDOs8nC8GD0cRluAhMIIQcAbP2NgYgicIOpwTmUD+ilur1ThXPp3NxXLTyL4s4YXT09Ni8NAxluCVMBIiNFnKPAieCAxxSVgC+Svu2NiYmDSxYjCsC8t8vjQqSIGEZyvLHBLB2y5lHgoezEoEB4gzIxDIWXGXl5dFua1UKlhuGsGL5bzEGTwcS1iCV86QCN5qBE9wVjgzQQI5Ky4/Scm58ulsLpabJujgAhflOipIgTQ3N1fghqNp8Qm4Zh4KHqzfjI8XJXgRyFNxaX81UWvpGCsGvbyFz5lAt9t1HRWkEMKzlQwKB04CXpmHggezEk5i+CQpAnkqLu+v5hRdrBhMysFFLccneCicsASvqK6P3y4ET3yGKCEagTwVV3qSUtTdci43bazP1ptV8X+N9dlofi38VXNzc5PWf2LkWJ9NljOECu/3RBo4PT3NcYLgSQQpCglIIDfFFfdXE4OejicnJwM2oEinQXGjeVOMn2gl4KrSEkDwlNb1uTQ8N8WV9lcT456OS7jcNAPFbQ/+yyXU0qtUDJ70akHJhSSA4CmkW5VtVG6KW6vVnAM7/Mnk5GQJVyynqrjb29u0uLd4tzJImsrmF/UNQ/Co76MiWZib4ooQOejFD0t4fHTlsDiJW29WE5nH7Xa7/CBNIR/w5/ipVJSI5xKGrr5NRvDo6zsdLVciQ3HQ60gwQZtXO4urncUTF4811mdfXJuuN6snN4/HKf/pku+5uTnxKZpCjhxw/EBx40RLOa9F8JTT73m1GoqbF/nU6200GqLWViqVoj6liqSZejAVtwIET3F9q2LLoLgqeiWmTQsLC64bDhd1JyYkzZgBU+bLETxl9n72bYfiZs88xRpbrZar1lJaKd6aKUKJpJliSBW9aARP0T2sVvuguGr5I7I1rVZrcnJSTB/ScSHXTBEusaWRAeLCchJA8JTT73m1GoqbF/kk693e3vbp2lJOKeSaKYKIpJlkMJWsLARPyRyec3OhuDk7IKnqu92uz66ZRV0zRfSQNJOKohKWg+ApodNzbDIUN0f4CVftI7pFXTNFBJE0E46kMhWH4CmTt/NvKxQ3fx8kaIHXS1GKumaK0CFpJhhCZSsKwVM2j+fbXihuvvyTrL3dbksP4FI2KfCaKcKHpJlkGJWsrFyCZ6e7dfrS/P5Br2Sw0VwDiluQIBDltlariZ3dAq+ZIuflkjQLEjelb0b2wbN/0JtZmqo3qy+uTd/t7ZXeA+UCAMUtgr+73S6vVa7VatQkEt1ir5milmafNIsQNGjDgED2wUMbuNIO6jNLU5d3N+GK8hCA4mrva3HBlPRe4Var1Wg0tG/hqAZknzRHWYTvtSGQePD4d1tPbh6X3lZSb1ZXO4va8IKh8QhAcePxU+BqfihoYmLi6asLFLAoaxMST5pZNwD15Ucg2eA5uXl8ZmlqY2vdtUEbW+tOua03qzNLU5jTdSVWvA+huHr7lF/DNz4+Xk65NQwj2aSpd0DA+pAEEgweUVBPX5p3GuLawa03q9f3Os6T8UkhCUBxNXYry+3Y2Fi73da4JfFMTzBpxjMEV+tHIKng2elu0Xoo7sW+uDbt7LmKqkxnYkhZv6CJYTEUNwa8XC/l1cgll1v0cXMNQ+0rT0Rx9w96R1cOs9bywczSlHNaV9TmExePaU8QDQhDAIobhlbS5+50t6KtVGS5rVQqhX/4ZyT1RJLmyFpwQiEJJBI8XsPFXoK6f9B7cW366MphZye4kJDRKCYAxWUUORw01mfrzerRlcOrncXgv71Wq8VpYmFhgeze6W7l0AA1qmQalYoS8awGFVgRiEAiwbPT3XL2cV1HlUWbnN1f8VscF5KAEhmKg76QiL0adbe3x6NPdHBy8/jINRTiThf85M9Od6verDbWZ8v5G+b4geJ6BRs+9yKQVPDsH/ROXDzGv+iZpaky3wR70cbnUNzcYsB1JOrk5nEfg0S55Z0ueAsbeszA68kEn2J1/yqppKk7B9gfgUCywbPaWSTRLeHPMAL8El4Cxc3H6c4OLv1QfTqp4k4XotyKW9hQIScuHgs+Rp1P+xOtNdmkmahpoQu729u7vLs5cqgjdLm4wINA4sFzfa+D5ccesPEx9lXOKQZcO7iN9Vkvc0S55Z0uaP0FD2SJB15LNrzK1/rzxJNm9jTOXTt74uIxngv0H+rI3rwC11iA4Cmwd4rXNPRx8/Hp5d1NTq+slD49m2q1SqmB5dYwDC/FdZ1D2j/oFbXjW4CkyTFABy+uTecTl+WrNe3guby7WdTfXfmCJYEWQ3ETgBi5iI2tddZdnw6uuNOFtLGUOInLWdv5xBFp88jFk5Ebku+FaSfNDFpHq9bZg/VmNYNKUUXaD3PTfhfJ/u4u726Wdo1kASIWipu/E0l3vTq409PTpCheO12ID9TXm9Vz185KTRK7wsn++KWK8vqzAIrLK25YdL3iIS/IRa03veARt5eaWZpKxKF8h+2ze3NRPVWMdkFxlfajuNOFzz6OLLrO+T9RbnnEsmDDXOklzcyC4/peh7WWDpx3TukZc32v47NkL716VSg5peAR5ZY9G9+n4gNI9Wa1bGskVQiYmDZAcWMCTPFyUW55pwuv+na6W66bp0s/0UKKbkpJ0wu16+f7B73Lu5txFqlyXqYD582Ta72JfEhTGyc3j5dQd9MIHle5JbfG6emeu3ZWChJ6IDBOmYnEDwoJTgCKG5xVpmeKj96OlFsvy1x/ovSjdc71ehWi/udpJM0grb7b21vtLDbWZ3kyvt6sRt73gMo5uXl8Y2s9ciFBzJbOkeShbLqbRvCcvjTvlMZ6s+p/F7XaWXS9aSZ/3e3tSW9KoCqwVaQUz4r/CcVV0UGi3E5PR1+2un/Qc30MqWCP56eRNIOEBW31JeXW+COHQapO8BzxdoHbUp5uU0rB47zZfXFt2mdiiKcVvFZaXN7dZO+IB+XxVIIxn2NRUNxk4F/e3Ty5edznFjV4Nd1ud2xsjBIB73QR/HLnmdKqnDgjn87CVfgkpaQZpGli7qNj/35MkDKzPEfq4FITZpamsrQh37qSCp6d7pY0MnF9r8O90pmlqR9svlapVCYnJ6XHDegxPz7TZ6D4+l5Huj1KJOHky79stUNxY3l8/6C32lnkn0H8VCXudFGtJvaIyMbWOv2k9dKDgL5JKmkGrE48zbnh19GVw+IJih9z6Iq3DsW7J/PxQiLBQ2/rcz4Hf7e3RxFyeXdzfHyc6pqYmJA6u84oqjerrl7YP+jxkDXGk33cquxXUNzorjl37ax4Z0o5K84gjyi34k4X0U0UrtzpbhVSbtN+pFJA6HLoujAtg/VHNN0bc8353d6e8zngmaWpmMW6YFL4o/iKKz4O4PoUEK2ZaLfbLLrik36soOJND72YxAvb5d1N14q8zsfn6hCA4kb0BT8YJ/1O4ozz8E4XicttxEZqcln8pBm5odKIPQWDNLoYuXCvC3n+eGZpKsj7przKoc+v73VE3S3qbZkXhJjBI8otpwKvdRLiLXWlUqEVkSJ8LqHerJ6+NF+qWx8vBxXscyhudIc6F0fQy26jlUhy+6lPf/Jf/oo86BStwPJcFTNpxgFF61ka67MnN4+fu3Y2ba0lU529oqMrh+MMrhiGwbqbQQc9DvDEr40ZPK6DHPVm1Ut0DcPgG+tKpULrIp0OJemNc/ueOCgUmAgBKG4sjK73pxFyVqPRqFQqn/r0J3/1xC/Vm9WY2TNWkzS8OGbS1K7FrpOviTzuFSF0taMnGRwneHiBsdg3pWMfxTUMg37vVHW1Wn35f/+ms4SyDe9Lfinqn1DcWJ7l8T36wdAoX9i0RTtdfOaz47Vv/1suJ5veUqzGK3NxnKSpTCOCGiKFHAWMXsu1gjY1k/NiBg9NqUp66S+31Kzl5WV6JOFTn/7kf/7TqlSC63atmfBAJekSgOLG5UszeUdXDm9srUeYd1leXq5UKp/57PgXT/6y+KvzeiwvrrlFvD5m0tQLiesIpHYPAavDPH7w8B6r9Pt1XWPs2l5+7P5Tn/7kf/xvk9LP3/USfKg7AShuAh6MnO/oJ+eUW/rt4ZVtAX0TP2kGrEiF085dOyuNKmP4MY5fEgkeFt2w687EtVSf+ez41773RfrtX9/r0PY1iY910c5WEfoGcSDjWiYAxWUUWR/wHe4vzvy8eHsrHgcZnsrabvXqSyRpqtcsP4toxxUKlbBZ3q/c8n2XVPDQo/kR+HW7XXEt1de+82XqJdNucTNLU5Fv6J3G8JTE0ZXDiWu5szp84iQAxXUyyeIT8d62Vqu5bv2T4C8tiyblV0dSSTO/FkSsmbI8UmdEfIPLFAmeubk5tqSfEG6cE++8k3pHkLTVRvAB8DiEca1IAIor0sjoWJTbiYkJqlUSXfRugzuDU1WlokQ8B7ccZ+ZOQJ3gWVhYoLVUf/+f/j3nWqqZpamYy9Fdnx1/cW067ErP3F2mtQFKZCgOeq1RBjd+cnKSmiztdMHrHiG3wWHmu+dUKDtVO/nk5vGTm8dj5nHVGhXWHk4+Ktyu0UzT5xu/IHZw+djfU/5TszyezKXRQWN9NiwxnB+HABQ3Dr0o1/Kczfj4uHNP853uFuQ2LFalkmZY4/M6/25vj5MvPdV2eXfTP2vnZWqq9aoWPO/9dYf9Ih74z9afvjTv3wl2XeI+szSFDm6q0eUsHIrrZJLiJyy34saqketb7SxiDg993Gjx47pjWgm3XlFNcQ3DeO+vO8/9yedEufV/aYG4EcfJzeNet03OfeCxUiTabyfOVVDcOPTCXUs7XVQqlUTkln9mq51Fr99YOPu0PVvBpKk+S+kRI8rv6puduIVqBs/+Qe83Fw6z6P7GS19yjocRCnptEZ9JG8163YiL767AeHLisRSkQCjukNL+QS+9mz6WW97BfFhx+CPpZxZ/W93wJih0RfZJ8/pe59y1s/4DfYkD8p/GC1Wd66xeOVNw9sET3FPzZ//nF0/+8i/O/HylUpHWfHAhrsPF/q6kR7oxnswMszyA4g5p0wNwaWz21G63+YdNLwwZ1hrpyHXZ4YmLxyIVpv1FzDbVxS93e3snN49Lz1dkkLboRpC6pEnN8VOoix0jrxeyah8coxqQTfD4WHH60rxXl9QwjEtX/pIWMLuOjfFAl+TKejOxV2v7WI6vIhCA4prQxIdzkn33JO908VQP5ubmIjhJusS1g1JvVqG4aSuuM68l2O+UvEzv85Gk0b/v4izB65Prex3nS2988r5XOQX4PF/FZf/63Ettb29PTEyQnWNjY8vLy4z9+l7H+Ypu/3fr8rU4yIUAFLeP/W5vzxm4iYwwb29v8y1qrVZLxMfOXFlvVsu81V9mSdMZJKnuIeDq6AQXN+0f9Da21k9cPDazNDWzNJVIcGpXSGbB4yQj3uX7jzF0u91qtcqmNhoNLs31Bb0JBglXhINECEBx+xiloULuysTswYg7XVSriY3ziMsf2NRE7g8SCansC+FMlGoft/+StfVZBk4HSXU6XaFJGZlqTGkko5wd3BwXurs6139lwPT0NIe6dPsurkPGW3Vdf02KfAjFNVwfk4g/SCvKrdeqhzhBsLG1zl2uVPN+HCOzuZbTUNqK65w+T7VruH/QkwSe/sxg8jgbx6lQS2bBIzaW33zg9K//rbO4ANOZVdC1FSGreQzFNfYPes7hO/8H4IL4kkeBnD+MIJcHOYctL20HhShlljQv725KKTLtF9M6I7PerPrM+QUJG5wjEsgseMRKvRQ3yACGuC5kfHy83W6LJfPxTncrjbRw+tI8dJ0hRziA4prQeIdFSqkxg1Xc6WJ7ezuCY4Jfgh5PZknzbm/v6MrhExePrXYW6X1qwd0U7Uxx7PHoyuFz186W/NnraBh9rsXazlAAACAASURBVMoseCQbdrpb0mRW8Kck2u2211oqroUK9+8x88kBD/iOM9XlCwGN0fQ0KO7QcdxljBlP/BqQRHa6GNqHIw8CeSVND3PcP472np/9gx5twRinYxHnWvfGFOjTHINHXPQUduVjt9vl7dmfPjgkrqUyDEOc/miszyZyU06hyGM8eAVCtB8BFFfmFnO1lDjR4jXgI1eJv+MRyDFpBjT88u4mPVD74tp0wEuSOo0ng19cmz65efzctbMQYJFt7sFzcvP4zNJUtEE1HkurVCq8lsr5kG4i+yc7lw3OLE1hgkOMpSDHUNwglIKeI8qtc6cLjAcG5RjyvNyTpo+91/c6UqqKOYLiU5frVzwSyL2TerMadrCxwCKtQvDE6YOKOWdycnLv3vtp7N/ptby05Gs2XX9x/h9Ccf35hPhWXNHglFt6tqTk2zGGoBnmVBWSpqu9rmqXSIfDtTrXDze21qX5wnqzGqpHRXPJ/g+uuFatxYfKBk9weq1Wa/jQ/7f+vXhrRcfxddFVxcOOhAdvUYHPhOIm41xRbnl4RyxavEk8cfFYnLtasVgc5/hI5Uj40tQXp8L4GXBk1c4TeC/oUCPb4gZnwZf2OGtX9pMCKK5hGLyW6jOfHf/VE7/EkUYH8e+WXPcAKPDIR3rhCsVNgG232x0fH6efrqvcimmLfgMzS1MZjy4m0E5Vi1A5aYqLjcU8GHO5QDaucO7FJomu1wttsjEvkVpUDp5QDRTXUv3izM+LwZZUqhEXZGGfjVDe4ZOhuIwi4oG408Xk5KSzFK9n78IO7jlLxidEQPGkKY3IzSxNhZ1GzcvRzuFoehkcj9BMTk5OTEzMzc3pu0hQ8eAJ63peS/VP/sM/+PIf/wrpboKd0Z3u1tGVw6GGScI2odjnQ3Hj+pcfjPPa6cL1dVr1ZhU3iXHRW9crnjTFtaOnL83rsoBO7NCIHSZxcxjxAZXx8fHp6WntpFfx4LFiPMS/jUaDGzU1Xf3DN19KNuT2D3rJFhiibfqfCsWN5UO+o3yabnxG2PgNIZy5pNG5WEaU/mLOL2nv8hiZdGN9VrvJe3GrXo5b6TkWUXHZCyS94ituInPL4EI2W9ngiQBheXmZ11JNTExodxsUocm6XALFje4pltsgO12IoiulregW4MoBgUImTRV8S68EZrmtN6vS+KSr4rI7xsbGarWa4tLL1mqnuBtb6z5rztvtNi8uCZKgVIi3MtgAxY3oZR66CR7NLLo+vxPamSiiTWW9TN+kqZTHni69aTn+m5ub+x9/dPQr/6tWb1b/+5/8xtzcXK1Wm7T++8QnPiHC9zom6XV9ZC53AqLNuRsT3AB68Mx/DwpxiUmlUlGTf/AmF+NMKG4UP4pPnYe6hV/tLPrs0sK7vp24eAwzJcEdo2nSDN5AnzMdEtl6mljn7P9NT09bEjn8l0cdRXo+x//sV/6Rz7cjv6rVamqObYqW+3BW6itpMab/ihAeiqtUKtPTWW95phQ3FYyB4ob2QqvV4l9psreN3AmuN6uY6A3uGHaHFgOD29vbTpm0S2T/r2q1OpTHwRGv0RPbm+PxxMQEj1t6mTE+Pt5oNHyWOAT3ckpnipanVEWyxe4f9KTV7/RqUZ97dB6Qq1Qq1WpVZXcky0rB0qC44Zwi7nQh7R4eriDH2aLc0swZpnsdkNw/yCBpOjUypa6k2JbEj8fGxiQVn5ycfNrvkfR+YWHB2V5X9PzSDqepTwefW62W61VKfSharpRhXsZIm4byLLv/NhfLy8vVr/4rGqiYmJhI+4VmrsbvdLf4uTLXE8rwYSkU925vL5HXnIly67rTReSIEXek4p9QvVnFPmpBkMZMmpIIKdiVlCysVquSRs7NzTk1MoOs6lTc8fHxp3O9GVQdJDCCnBMzeIJUkeA5zj1J+O7cp49rGMbd3h4nls83fuHf/fo/f/nP/2tSO2MEaSBZjl5EKRSXuo+0zZN/XPqEjrgMIVm5NQzD2cGln0eWPwmftiv+Vcyk6b/gViw84LFrV9Kpkc6upJoznT7eFxW3Wq2GWtPgU2yWX4k+zbLeyHXRHhQsn3Rf7rMYkyoSHwoXrz26cnjktZFN5Qt5hQpV7bOWhS8p6kHxFVe8uaPoXO0shtVdUW69drqIGSJO0fUfJopZXZEuj5k0SXEnJiakruTT+yqnTDq7kmWeFZubmxsbG5uentaoUytFfszgkUrL5s/9g544thxEwPiljaLc0nEGG446k5v/aq9sMOZSS/EV1+lsWmgQCne1WqVfZkpyS8aIe/Dmstl9KCbqnKxj0lSHXhxL9BVabrW+wUOZLbh0iSLNuvv5xi/UarVU7xq9Ni8Lbjk7qwAHBVdcqYPLcSY9yO/vSF5e//R2nkLz3LWzKQ3FkOhiobK/R6Rv9U2aUkPwZ/YEtA6eUHlMeqaIkuFnPtt/BUt6HQmvDFxvVoN0zbOPh7RrLLjiunZwQ3Ufp6en6TdJO13sH/ROXDyW6tM7l3c3ww56px0lipevddJUnG3hzStV8Ox0t8S3U/x+65v8WHbwnXzChsT1vc7M0hT3duhAl5d5hG3syPMLrriue8MGvzEUd7pot9t3e3tivJ64eGwkX5yQAYFSJc0MeAasYmNrvbE+K/0v4LXqnFbC4FntLM4sTdFzEOIKlbGxsWQ3GGAvS0pf5hUqBVdcwzD2D3rnrp3lZ8aDv2dKlNuFhQXXMZnS3qnxb0mFgxImTX/sd3t7GTz46Do/52+Ygt+WM3ju9va449Htdnni7OkeMk9XC6bhJl7tVfKOSvEVl6NnY2v96MrhgJMH7Xabf4oLCwtej8HhHbeMN8cD9pQWe05lAIomU2aWpk5cPLbaWeTcmmzVUNxkeeZbGk+fVSqV9NZSRXhOJF8siddeIsUNzk7c6YJ3InWdEo6w7Dm4GTgzIAEorgSKR3R48uzoymHpnPh/QnHjM1SqBHFUz2ct1f5BL6V1o0rRSMkYKK4Mttvt8moCaacLp+iWeUJCBpff31Bckb3rk5dpBCoUV8RejGOxs+G1loo2yDu6cvjctbMZTF4UAyy3AorLKPoH4jqCp3vp2b4bTAmLK6cCDlBLheDPxAlAcUWk9B437t2mtzQUiiti1+h4p7vl8yzs9vY2b3Q6Njbm3EdMGkE5cfEYMmFw70Nxh6xEufUaVKHtyvxfSzksEUeZEIDiiphdhTCNYUDnWuXgyxJFg/M9Llvw8KuHGuuzXk8hdrtd3vOnUqmIr2zZ6W5JN3P0qGS+TtSodiju0Fm8YM9LbulUTGMMkalxpGPS3OluXd/rpCGErlsLqeEoFa3QMXjicBRH6fw3VZbWUlGlzpm1erOKRzaCewSKa7JiufWavQjOlM+8vtfxGb3h03AQk4B2SZN7CaE2YwlIaae7tbG1fnLzOOfWNGoJaIz6p2kXPHGQOvVyZmnKZ19laS3V3r33nXtZ1JtVr75yHFOLei0Ut+9ZfmNzgnLLmyRjkiPtH492SZNnwtLWwv2D3vW9Dj0dJL09Jm2n6FK+dsETGSxnJL7howP/V4KKa6n+za/9C+laPKwR1h1QXEO8j0vqHdpScEN0w8ZlqPO1S5q0UWi9WU1bcUWM0g634ldlPtYueCI7i6NOUs2R2andbvNaqn/8r//hibWX+JaxtNsjR/ZC2RV3eXmZf3JJ7XAmyS3F98iwjuxCXMge1GUHDF7clKXiGoYhplqEDRHQLnjiOO70pXkxBurNasA3cHe7XfE10o1GgxY8x3nO+/Lu5sbWetlGpEutuOKAibgeL05Mu8otRbnPfEmcGnGtdkmTB3ihuLlHr3bBE5PYxtY6z8WG3XCRF7vQvlQxLaE+98zSVKkWXpVXcUW5lXa6iBNJ9PiQdCNZb1ZnlqbSWJgax9TCXKtj0qQIyVhxeS1VvSk/a16YYAjbEB2DJ2wbpfNpi/horwQV5+AmJycjv1hXmuPweVRJMl73P0uquN1ud3y8/2LIRG7WpCBwii7kVkKU7J86Js1z185Ge8tynOkJ8cGhZF2gb2k6Bk982vsHvcjDua1Wi3flm5iYaLfbEeyhjavEnkm0O4AIVed7SRkVV9rpIg0H8GPm9Hg4erdpQOYyk02a4mtVuAoVDuhVHHHWqmxsra92Ful/KrRIBRuSDR4VWpSBDeJaqrGxMeeC0+7gPx9LxLVXrLthR7l9ylf2qzIqLi8B8N/pIqbP4gzdxKy6bJcnmzRpdUljfTalV+5E8M71vY44IBxnuUqE2ot9SbLBU2xWYuuktVTSstNarTY5OSmeLx67blxFulv4zkkRFJfWAgQcbePJ//Hx8ciTEGL0+Bzf7e1FHrrxKRZfSQQSTJr7Bz1eV0JP7+Suu+JQMPcGAka7BAp/OgkkGDzOwgv/CadTcXpubm6OqDr3ZCYgl3c3nX1cpe5x03NcERSXnTfy9bccHwnudJGeb1ByQAIJJk1+boe1rd6s+mwclsEdlaviopsbMDZGnpZg8Iysq5An8PZBlUplcnLy937v9xjp+Pi4T5P5t1YSrSUU2iuu82mcoyuHXZ/D4VV2kFufn4GOX/EvPP7zuHz3JiquV4eSJg7SeBGe6AVpVScblnvnWzRS3+MEg0dfCDEtX15e5rVUP/MzPyMinZub8yl8Y2u9bGGst+JKY4CcjJyPdbPcVioVacqBA+L0pfkSPpHNzdf3QPyFx2mF8+6t3qx69SbF5xqd8RbHDOe13BvgCMfbq5yUon2SVPBEq70wV7Xb7Z/92Z8VYdLx2NhY2pN3ejHUW3GdmYiefJXG+trtNoeCl9yKPQl646NUiF5+LZW17NyYfVzXcHJ9PN+5d49XPzgRR4h3ljNLU6udRQRnImANw0gqeJKyR/FyTlw85rq4qdvt/tzP/ZwIk48T3O1AcThBzNNbcV2nuKQOh7jThc8Qh2u2dR2dDoIV52RJgH/bMRXXMIy7vT3x/Squm7y7Rl3aj1xT//vk5vG7vb0s2Ra+rgSDp/Cs+KfhvL8U36crIqVj5+NDhWfl1UC9FdcwDHFwz9nB3d7e5gkG/1st1wk8ZDevuFHqc/EXnohhrLvS3RsV7jr4TLGXSO1ehSAavcjE+Tzx4IljjMrXSntWiMsXxDfpijz52OdJIZWbnIZt2iuuYRj7Bz3uoYo3X+JOF9Wq37Z2rjn0xbXpNIijzMQJ8A87fh9XtM3n4S7na1j83zMqFotjpQikFDxKtTG+MbwTOK8koGfn9g963W7Xv4NLhL2m8+LbplcJRVBcIn63tyc+xSHK7cidLlw7uCzeO92txvqs6+yFXs4uqrXZJ01xYpVWVykeHnRXil6y8yeQffA4bVD8E1qTL2otH/Mqh26322g0+KV+IlU6zmD/A8UxknnFUVwJN992jZRb5+ydODrN0Zb2RJ1kP/4MTkD8eQe/KuaZfNev+CbsNEJO23qII4Exm1+Yy3MJHr3ocQ5koaUD13Da3t6enp7mXetFvD7LaPQCEsfaYiquuNPF9vZ2QEB3e3s8Wkjd5cu7m+IORCXZazsgLnVOE3/VWVp1+tK860Rvljb41MWz0ZwoXReC+ZRQhq/yCh692O50t8R9Rmm7eP8F861Wq1ar8TIa4hw8G+vFJ7i1BVRc3mMs2k4X1/c6Jy4eu9vb85rc9Y+z4OhxZlIEkDRdSYo3iyy6PFfiekkJP0TwBHT6/kGPOyQzS1PBZygWFhZ4xNF/PU1AS7Q+rWiKK+50Ee01UuROaaKOE1a9WS3DCy70imkkTVd/8XJCMXq9NvRwLaEMHyJ4QnmZnkSPsGqBJ3pL/qRQoRRXlNv4S+N4ok5MWHHelRYqsnFycAJImq6svO4ay7avnisc/hDBwygCHgTv3QYssFSnFUdxxZ0u4sstBYE0sDyzNIVspeDPA0nTyynObu7RlcOIYREXgkekgeO0CRREcUW59d/pIixQfu4ba5XDosvsfCRNL9RiN7exPotJXCcoBI+TCT5Jj0ARFLfb7fJi9GTllrif3Dz+4to0xlLSi8KYJSNp+gBc7SyW6m1oPihcv0LwuGLBhykR0F5xxZ0u0ttLDOuTU4q/RIpF0kwEYzkLQfCU0+95tVp7xeVdTsSdLvYPeueunR35gvq8oKPeZAkgaSbLs1SlIXhK5e7cG6u34vKLCngLMXGHHdr5M3fEMCBtAkiaaRMucPkIngI7V8Gm6a24hmG02+3JyUl69JYf0Baf58H8q4Jhl6xJSJrJ8ixVaQiebNy9sbWOhXv99zFng9u/Fg56/9NGfuv64lLx9QYjS8AJOhLg+En23UE6ooDNYQkgeMISi3A+723guhVzhAL1vaRQist+Ffu4M0tT+roHlgchgKQZhBLOcSWA4HHFkuCH0osQFH/zR4INdy2qUIprGIZrNxejGa6+L8yHSJqFcWX2DUHwpMp8/6AnvQKB3oJQ2sm+oimu1M09unJ4tbNYWu+m+ltSp3AkTXV8oZ0lCJ5UXeaUWxqAbKzPplqvsoUXTXG5m9tYn728uylxP7l5HBMJEpMC/ImkWQAn5tUEBE965F07uPT28QjvQkjPzixLLqDi7nS3XHeOPbl5nG6vILpZRlgGdSFpZgC5qFUgeFL1rPiOP15eU1q5LdpaZZ/QYbklr2MBsw8r7b5C0tTOZeoYjODJwBf0jj/KvSVfVVPAPq4zgCS5heOdiLT+BElTa/flazyCJxv+9B621c5iNtUpW0vxFdf5wjIe3HBO9CrrJxjmQwBJ0wcOvvIngODx55Pgt2UeTGaMxVdcr9n7kj8WxhFQgAMkzQI4Ma8mIHjyIl/OeouvuIZhOEUXi6eKFO5ImkXyZsZtQfBkDLzk1ZVCcSXRhdwWLOiRNAvm0Cybg+DJkjbqKovisuhCbosX9EiaxfNpZi1C8GSGGhWV6OkgcjZeLF/IoEfSLKRbs2kUgicbzqiFCJSojwuXF5UAkmZRPZtBuxA8GUBGFUwAissocKArASRNXT2ngN0IHgWcUCIToLglcnZRm4qkWVTPZtAuBE8GkFEFE4DiMgoc6EoASVNXzylgN4JHASeUyAQobomcXdSmImkW1bMZtAvBkwFkVMEEoLiMAge6EkDS1NVzCtiN4FHACSUyAYpbImcXtalImkX1bAbtQvBkABlVMAEoLqPAga4EkDR19ZwCdiN4FHBCiUyA4pbI2UVtKpJmUT2bQbsQPBlARhVMAIrLKHCgKwEkTcU9t7y8rKyFCB5lXWMYxvb2tsrBEwEdFDcCNFyiFgEkTbX84bCmUqmMjY3VarVWq+X4MucPEDw5O8C3+larxcHTbrd9z9XjSyiuHn6ClT4EkDR94Kjwleig8fHx6elpdbKnaJsKrGCDSIAUl32kWvCIpgY8huIGBFXe09Qf2OEfZKWiRDyXN1Y8Wi46iI/Hx8cbjcb29rbHRRl9zPYgeDIiHqYaSXHZWRMTEyoET5immOcqkaGYY4QG4JK0CYgDOwqOCvZfgCX8lzYNlB+BgOAfl8OJiYmFhYVutxuh5PiXiAbFLw0lJEvAS3HZa5OTkzkGT4TGQnEjQCvXJVLQKziwwz+/4N2UVsr/LSwszKX53/T09GTK/42NjYlgMziuVqvZZ0+xXQF/2CnHTgvBIzol4DEFT0AP5ngaFDdH+HpULSku/wAUGRWU+rhsHg60I0CrqzIeZ9aOEgx2JZBL8ETI4FDcCNDKdYmX4nLc5zsqCMVlR7gejI+Pp9oZrlarIzvzroaJH+bYQRHNwLFEAMGTeK7XQHG73W7awziNRmNk1ohzwtPnIlLNepOTk9JPJZc/cxkVpIf24njH59pGo5F27CX+k1awQK9oVGGY5OnSBJ8AiPMVgieRUPQKHlo8ldf0f+SmqaW4XnDxuRYExsfH5+bmtPsNRP7x4MKABKTopQFAdR4QCtgKnJYLAWfwKPV0WVgmUFzJoTn/OTExkWpvuFarhb1tr9Vq/lCU3dwg7I8B56dEgOMnx9HjlJqGYtMmIAZPAfafUkJxkxrYWVhYSHUMsJx35T7zuNotzU87O6B8VwKaDgC6tgUfZkygYMGjhOJm7EJUF4qAU3Fp9DjjNaWhbMbJIAACIKAgASiugk5RyyRWXEy/qeUYWAMCIKAbASiubh7L3N5Wq4Xpt8ypo0IQAIECEoDiFtCpaBIIgAAIgICCBKC4CjoFJoEACIAACBSQABS3gE5Fk0AABEAABBQkAMVV0CkwCQRAAARAoIAEoLgFdCqaBAIgAAIgoCABKK6CToFJIAACIAACBSQAxS2gU9EkEAABEAABBQlAcRV0CkwCARAAARAoIAEobgGdiiaBAAiAAAgoSACKq6BTYBIIgAAIgEABCUBxC+hUNAkEQAAEQEBBAlBcBZ0Ck0AABEAABApIAIpbQKeiSSAAAiAAAgoSgOIq6BSYBAIgAAIgUEACUNwCOhVNAgEQAAEQUJAAFFdBp8AkEAABEACBAhKA4hbQqWgSCIAACICAggSguAo6BSaBAAiAAAgUkAAUt4BORZNAAARAAAQUJADFVdApMAkEQAAEQKCABKC4BXQqmgQCIAACIKAgASiugk6BSSAAAiAAAgUkAMUtoFPRJBAAARAAAQUJQHEVdApMAgEQAAEQKCABKG4BnYomgQAIgAAIKEgAiqugU2ASCIAACIBAAQlAcQvoVDQJBEAABEBAQQJQXAWdApNAAARAAAQKSACKW0CnokkgAAIgAAIKEoDiKugUmAQCIAACIFBAAlDcAjoVTQIBEAABEFCQABRXQafAJBAAARAAgQISgOIW0KloEgiAAAiAgIIEoLgKOgUmgQAIgAAIFJAAFLeATkWTQAAEQAAEFCQAxVXQKTAJBEAABECggASguAV0KpoEAiAAAiCgIAHlFffJj1ZfeaberEr/O7I2f/bGjQ/jE6XyTzUuPHxsFXbw4cMHg+OPbrW/VG/WGjf/1voK/xaRgEeMmSF39vT1J0VsNdqULYHHd07MNav1MwvvPOJUY1ow+OrZr7Zvyl+kZSGnOIOsOnLhhz9Nqy6UayOgq+IOsuGhF6/uxI1RSXEfvb2yNmWFPhTXFiuF/QOKW1jXKtQwU3Gbzz6/2Za6Cpkqri3FQXGzjhBNFFfuZ3z80Z3F75x5pm7rmybALtPQT8BeFJEagSfbb1/4Qr1ZP37z/bh3danZiII1ImApbrV+6hurHzwSLc8y7WRZl9hGHBMBTRXXMIyPeze//lzSQ74IR/wwBgTu/t/NX6s3D73Qfk/qjoAPCEQjQLnl+daLL52qHnl9bVeYqsgy7WRZVzRQxb5Kd8XlyY+PP7qztr5x5Dma8T3zcvPmTSFXfvzRnVdXzn/BnJkTvx2OKv/dQMJ5wvgrzTsfDOdxB6dJvxODPrSmQB7ff7MlGHBq92/QN9Lzx/Pg9tWvPNd89vk3Lv5ESIvGk1tXrnzrpVMUIfXG5UvDb81IaG3vHB+c8OX53Q/6bX/Yeetd4ZJLb14fLhfQkw2sjkrAkrqrf9OPLtuMmPXVcB53RDJ52HnLSjVH1ub//P+dOHGqKszFPriz871humseemHj1XfuP7J6KWKKezioun/th0hxUT0b6jrdFZeWNX380e0/sFIhx9MwYz7+YPF3zETJ31oRP4izwei0r+IaNKf7leadh8x3EKzmuiq/KvgCHGhA4OP93ZePNqtH1pbeE1e4PLl+/vXPycv3uKdC2eq12W9SmNGwYX/CTL6kfuZ3L9w/0AADTEyawFBWKZaEseXhV4NKRySTR28snnFbTGre+psBLMVqvT8x99jRqRgq7k+NB4MOBlJc0o63l6ep4t778Y2X+xJL87ikmk3udny8f+eVxX6yIzkksRxOyD2+vzJ/5plBCBrUT+X5YHvo21ZO9X8G333GWlRlGMb7b1+YsgygdFxvXDWXTz++/8afnf+Cc8LGDh9/KUfATHayLlq93vNrZif1ya2rl792lHsqZgSKo9AUPM8+f/77g+7FoL876JcIfRHlmg+D0iMg5pbB8XBsWfzKMO/tvJIJxxWForWipWn1cSkUzzRW79w322KuSDCl1FaXYVs5hRSXnve5ZE0U1/F0kLhWmWJIWgFIqXOQ3ejO7tnnzy+udhZf292zDfZSgForsOzhaFNcU2J5DdfDV79jCbD9KoutcIL1Ef5VmwD1Hk79VvO2la3IXgoSdr3ZiMEtF31oj6L+92bisz8KYnZuxEfR1AYC65IjYM8S5kIBetpC/Eo8HlbOycQtFAeXWIprXfP4/ptrnX7Gs+barNG4/kNKPBlnU1ykOAteiv9qqrh9+bS002MJlRia8vjeoRc2XrlA94D2XGkPd0lxqSK6VXQe83i17QAdmhSDN9mifRYnP3z1O/KshOVlcZTFum/r2zW4xOF9iijbwF2yjUBpyhKw5xbDMG/v+uuWha8osVjRZe9p9GdbXePK/qE5hme/1hrwI4n1UlxnWhPTnadVeJY3eNRporhy90JsIEWJeQc3/EJU3H6f49a7V/54MNRsxQ3No4RQ3EEaNfu1Qv/GXDVtFSsFup/lQ2NxlDeBe9vt6ee8Fif7KG5zkJLsUdRviz0JWq2D4lokyvevIKvUeGvFwOtr79/mfqef4tbPnt7e79/8yXdyYrBRKPZXS51Z7fdxV965f3+4AtQcRvZSXKS41OOyAIpr3rV5jypLEHlV8yDs7LnS/quQ+rjW3O2Zhb/6YIWHlA1HEEv14U/lCTy4s/XbR52Lk9luChKfmyd7FPWvo0+kDYYwqsxIy3dgzy3UfushtNZXj1ojvW6nCbDcQnFwiSnDbpcPugfWg5TSCeK1g2oGJyPFCciTPSyC4prZzX/l1KnZP9rhGVzq0Ay6xfZcaQ9Hp+Ka0x6DWWRhbNDMpLPzN6xHksyVNcN7yWTdhtKSI2AudJcXJ9sqoJVTh17YOG893vPgzu4f9vdg8ZrHNRe3Y+WUjWOZ/7DnFovEcOGxlStGJBNKSs8+by7iC9fpsAAADlZJREFU41WiNsW1vh2u1ws2qty3ijQYKc7yUML/FkJxjQhPB1kbnNoVlwYD+9HWH3O2jcaY4Ol8XhlofupqgOMJk4R9h+ISIUA9AI9Jgf4cweDWSl4KMDif11hJUUR2uV4ir4JOpAkoRAMC7opr8MM8luK6ZzMhmQxF2ha05lAzCbY0t9X/05p34ymSwbQa6attmBopLs1oKobi9reg8tzjoo/P/m2z3uC9CORcee/W1a8fNQP0J+L8h+UFl44vfWV7aF2swroS/ypJIJjiDpYCCDtgPPv8+VPm4jseQxZXTlFTH3b+4tLXBuFUrSMklHR/ZkZ5KK5hGDS2zIrbt2hEMvHdAcN8NJFE99Ts/Ltvbu9+e27YSRBT3N+6KK45PGMptABohFXCmTj0IqC84noZjs9BAARAAASwjkSrGIDiauUuGAsCIFBqAoMhGXFVyqMftfr717p0SUvNSdXGQ3FV9QzsAgEQAAGZgPvjQ/KW7/JV+FsVAlBcVTwBO0AABEAgAIEHt3cXh1sLnJqdv3J5+FKNANfjlBwJQHFzhI+qQQAEQAAESkQAilsiZ6OpIAACIAACORKA4uYIH1WDAAiAAAiUiAAUt0TORlNBAARAAARyJKCP4j7sbF75dn9fPXqy+8zLzZvWlopZ8fN+ht3LgoMPHz6g79yeNPe6Cp/nReDe9o3Flf6zFrSbj7BTSmYW0ZYsPns4Oyx5/PCDHn0ob+fiOBUf5E9gsK/7cF8U+1YqGZlH2/gI+9SOrPfJhx8+otecem4BNLIMnGAYhhaKO3zrspUKze3NMl4TH05x+5v8TfEb7KG4qv/ezOcabTvnWft9PsrO+HCK298h/Mgrp68/GRgIxc3OT9Fq4v2epDA7RC/KjVZo+KtCKe5gC9vv/kbzzsNBRVDc8LyFKzRQXOt1j2KHg3dtfFZ6ZZDQtOQPQyluqJOTtxUlhiJgvhzX3uHgPRqlVwCFKjnsyaEUN9TJYS3B+QkToFdUVeu28bl7P755YjB09+X53Q8SrtCzuFCKG+pkzyrxBRFQX3Fp09H68Zvv06DG0HOZv/sslIiGOnnYKBzlQIB2k3/2+TcuOp5rpLcGZbihTygRDXVyDmBRpUCA3kDg9iqLxx8s/o7zrbfCpUkfhhLRUCcnbWnhylNeccWXLcv0+zMiqx1+gdrg1VTvfuulUy6TcAP9qzVuXHn3rSPPNQcvDnrQWX3lmSMXWts7xweXWPeYT24JG9bXG5cvcRZ2iOiDOzvfE6b9Dr2w8eo79x8Z8jvq+/Mlg2vFV0nf+/GNk9Zj7PaulZlGv/tXt1+xTuCSZQT4OwkCtHNe48JD+aauX/jDzg873xu+tMAY4Th7RN3uvwzjVKN1u3Vq7XP1Jg/JiJsYCG/045ciCPO4/e3jh9N+1SNr86u7f9M3lF8C0591HuyDT5EzfKECvwp68Iuwda3Mt0p/tf3O9o2XzZ8M9lJIIpg8yqC9orxu3e5t3/ju6o0bH5oX+zhuoH9SRN05Mde0J7fBnKvtxQNnXj5FYdOvwiGiT25duSqskhlGgv09H/2wfCi/3+Vh5y2PrGu+R/UsUtkwKFRXXIfIDU2Xj3xfjjYo59ALr/6nvtw2q0deX3v/8Y/6ivva7DdJoQfvrjLc3nXFs8V2Y/g1W/YpmX5QPu7d/DpVNJh4diouvaDXfmHT6sdT3lz+4lHz1sE8jc2QG46/YxII0VMc7Th7RA1e+Hjq17/52ucGkUDTddRvtnufws+puO6vZhuseRmhuK5vkBz24ymY/8vy54VArdabGU8oxvScRpc7RM7Tdn/HkeLaIurv+oprS267TwzqN9sXvrBzJWNoHNEekHQPZ4xSXN+sayouUpnga8UV1//GUGjHqBeAD/JLtc4vNOXU1jz0Qvs969aSUiG/7dkwzBfLm5FqU1xK02caq3fum3aYc4HmCkDbydZ7nuk9lKYxw7vOez+mfgb1Tqjk5rDrY81kmyWLzcZxAgT8xlFsxQdznBhRlNqEl5saViocRo75cnvzjsom/3R5vXGVez80F2i92c12smEmOFsU8SANv7rc7GaZbWnyCdYso9C9tjUef8Qi4DuOIpZs/vzZL5Lj3CKqr7hScrt+/vXP9V8QaUWO+Qo/88bOpriUqYYvse+/K3Bl/swzdTMSbCdb/WOKIvpqmKkM6zWC1st6+72a/tDO+e8PBv+skumd02KrS3NcFMWlMJVWuAgTvZRfXF68PByCsxKWnHEGP5XBhxSavPyYguTx/TfXOourncX1jcF4tfUSD+lkwYAHg2EZaxDbDDVhvpDaIhrm/cbK0gRqmg0NqriUX2I6Tspf1C66sxzcUUkiSt8/udW50o+xH1jDd7aMxhErRA6Fn7SuUJwvFALSYitcbn2Ef5MiEFRxRzmOsodtdNrpSipEylT9aYjvPjP40DUIH9ze+f5qZ/HVd//YnMwyU5B0Mv05MIACxjvr2m4BTZDC5Umh1aocxRWXZ5tuus2wCaTdk+YwVpxB6RINtmE6+xjLIPikOLa6nvYzRynufRqosQlqvyHDwl1ybtnDVPB0CocuwF1rcU+asuNsnnU6blCI+byvW+RIxpgDJ9KZ1oIA+eRBl6JvwN8N5jVsebnfJOH8odncVvrWZj9/h4OYBIa5yLcgj1G9oeMc06j28bNB4VSIHDM0wjy4VyPZ5jEza3hDCkszEiTLhZAelXXFeLNaLVxufVSqf1VXXPKZ1xTmMGuM8v3gTCtPkYed+cVHcQfDIMPqOHk1D72wcWa138ddeef+YNIOiqvfD2iQBXgmVbJ/mOzuvn1hqu4QpGFUOCPKZXDCR3GF1U+2Ab3+aqmzneZqZ/G13b2PB0OIo/q4UFzJi/n/OYgTnkmV7GFV2x91qxRXcQdjxVSIOP9VrZ+anX/3bD+VXbm0N1jjYoU62+Z4HndU1oXiSm7WYgcM8re1qkhsgbnKSRiL8x7fCKS4w9wqVjM8HuZWsUs6/J6SqdmxEE+2urAk+cFGlXmosF8+QXB0WYZV4ygWAXKW99NBNG9KXkhjVFkwXgxC8dg8xey+jFLcx2aLNtvWGoX+9Y5RZWs+mAp3uWMQDMNhTAKE1/vpIJo3HeW4GKPKQ/tFERWPrTOo7zGyj2u2aOEdczuqweXCXB4U1wI6/Ff5Pq6VJvqrAC69TtPvhuHcAYPiZjhFL83hD+J4VB/XoMnUQy9s8BNH5qoW8cdAsyPmD+P82nV6pMRaMlAf1cf9qTUKVPdfOQXFHUZp+kfm3duzz5/v9yPNKQzHDhgURSMcZ+sEU1jabpVM2VtbaFlr7sxVLbScRFRZM6Px6jxrhV3TimTxZB53IQPoq+HCKGkBjjCLwXTpEpv9/B0O4hOw1qifebl5ld9o69gBY4Tj3CJKHPYgM03Zm52/YW2Fay4CFe8dqY9LBfIaK46T6ug+7qj1qlBcZ9BooLh9fb39B9ZTtrbJiSNrS+/x7ZXvOvVgimsYroVYK5xJZc31CGaOttkzmCmx0iuPUQ+GK+0GjH7IxFooSC5z+Zk5fYlPYhFwdb20BNQI4DibYrk6zrUQa4WzTUStHC1NsLHiDh/eGAxX2iTT9VcjPx1kW1xjuzwWS1zsQcDV9f2HsoQnJvwd5xJR9txCNbsWwmvmqRBrVHmw/4b9OaJBWjMjeTgrPJjdsw9ru/5quB9vC2YyzMV+D1bF/FgLxe2jf3z/zXPWQs1+cNjuEy3fcKekn6HEXSHpjt7qGdDpXvnFtgOGbW8Km+L2TXrjz3jX+/4syJvbu9+eG2ZD3kO1r8GOXwXf2/a3L3j+/KnhHgsIU8ufWf/75Na7V6yFmmYI8bAK2zLKcaMV1zAMcQcM+7Z/kvfNrgnd2B16YeOVC7f/T/+JCysbfnRnkV7vceTCDz+UQ5qHggaXu++AIaxJlC/nJuMgQQL9JcHWcw302xeGVcx6fBznoliO3GKWYtsBw5YPbYprGNZI3uDGrr9o4EbnavtLPFxn8Jbj/ajbd+6A8RfDHVpsWRd9XGfcaKO4TtPxCQiAAAiAAAhoRACKq5GzYCoIgAAIgIDGBKC4GjsPpoMACIAACGhEAIqrkbNgKgiAAAiAgMYEoLgaOw+mgwAIgAAIaEQAiquRs2AqCIAACICAxgSguBo7D6aDAAiAAAhoRACKq5GzYCoIgAAIgIDGBKC4GjsPpoMACIAACGhEAIqrkbNgKgiAAAiAgMYEoLgaOw+mgwAIgAAIaEQAiquRs2AqCIAACICAxgSguBo7D6aDAAiAAAhoRACKq5GzYCoIgAAIgIDGBKC4GjsPpoMACIAACGhEAIqrkbNgKgiAAAiAgMYEoLgaOw+mgwAIgAAIaEQAiquRs2AqCIAACICAxgSguBo7D6aDAAiAAAhoRACKq5GzYCoIgAAIgIDGBKC4GjsPpoMACIAACGhEAIqrkbNgKgiAAAiAgMYEoLgaOw+mgwAIgAAIaEQAiquRs2AqCIAACICAxgSguBo7D6aDAAiAAAhoRACKq5GzYCoIgAAIgIDGBKC4GjsPpoMACIAACGhEAIqrkbNgKgiAAAiAgMYEoLgaOw+mgwAIgAAIaEQAiquRs2AqCIAACICAxgSguBo7D6aDAAiAAAhoRACKq5GzYCoIgAAIgIDGBKC4GjsPpoMACIAACGhEAIqrkbNgKgiAAAiAgMYEoLgaOw+mgwAIgAAIaEQAiquRs2AqCIAACICAxgSguBo7D6aDAAiAAAhoRACKq5GzYCoIgAAIgIDGBKC4GjsPpoMACIAACGhEAIqrkbNgKgiAAAiAgMYEoLgaOw+mgwAIgAAIaEQAiquRs2AqCIAACICAxgSguBo7D6aDAAiAAAhoRACKq5GzYCoIgAAIgIDGBKC4GjsPpoMACIAACGhE4P8Dd9L/rKKKkJMAAAAASUVORK5CYII=)\n",
        "\n",
        "Negative Correlation mean:\n",
        "A negative correlation is a relationship between two variables that move in opposite directions. In other words, when variable A increases, variable B decreases. A negative correlation is also known as an inverse correlation."
      ],
      "metadata": {
        "id": "Mng-1Np8xDS9"
      }
    },
    {
      "cell_type": "markdown",
      "source": [
        "3. **Define Machine Learning. What are the main components in Machine Learning?**\n",
        "\n",
        "Ans: Machine learning is a branch of artificial intelligence that enables algorithms to uncover hidden patterns within datasets. It allows them to predict new, similar data without explicit programming for each task. Machine learning finds applications in diverse fields such as image and speech recognition, natural language processing, recommendation systems, fraud detection, portfolio optimization, and automating tasks.\n",
        "\n",
        "*Machine learning is a subset of Artificial Intelligence (AI) and a field of computer science that consists of learning algorithms improving their performance (P), at executing some tasks say T, over the time with experience E.*\n",
        "\n",
        "Task (T) − A task (T) should be defined in a two-fold manner- One is from a problem’s perspective and other is from ML perspective. From a problem's perspective it can be defined as the real-world problem to be solved. For example, the problem can be anything like finding the best marketing strategy or predicting the house price.\n",
        "\n",
        "Experience (E) − Experience, in layman terms, is the knowledge someone gets by doing something or observing someone else doing it. Whereas, experience, in the case of machine learning-based tasks, is the knowledge gained from sample data points. Once an ML algorithm gets the data points, it runs iteratively and learns from the inherent pattern.\n",
        "\n",
        "Performance (P) − How can you say our machine learning model, which is supposed to perform a task T and gaining experience E from sample data points over time, is performing well or not? This is where the third component called performance (P) comes into the picture. It is a quantitative metric used to measure how well a machine learning model is performing the task(T) with experience(E)."
      ],
      "metadata": {
        "id": "Bh6pUM6W0EgX"
      }
    },
    {
      "cell_type": "markdown",
      "source": [
        "4. **How does loss value help in determining whether the model is good or not?**\n",
        "\n",
        "Ans: A lower loss value generally indicates a better performing model because it represents a smaller difference between the model's predictions and the actual target values.\n",
        "\n",
        "*Interpretation:* A loss function calculates the \"error\" between a model's predictions and the true values, so a lower loss means the model is making smaller errors on average.\n",
        "\n",
        "*Goal of training:*\n",
        "The primary goal of training a machine learning model is to minimize the loss function, meaning the model is adjusted to make predictions closer to the actual values etc."
      ],
      "metadata": {
        "id": "D2Ihq0bo07P1"
      }
    },
    {
      "cell_type": "markdown",
      "source": [
        "5. **What are continuous and categorical variables?**\n",
        "\n",
        "Ans:\n",
        "Continuous Variables:\n",
        "* can have any value between a minimun and maximum\n",
        "* often measured on a continuous scale\n",
        "* example are weight,jeight,temperature etc.\n",
        "\n",
        "Categorical variables:\n",
        "* are descriptive and not numerical\n",
        "* can have two levels(binary) or more than two levels\n",
        "* example are gender,hair color,etc."
      ],
      "metadata": {
        "id": "om9zTyTz1gvX"
      }
    },
    {
      "cell_type": "markdown",
      "source": [
        "6. **How do we handle categorical variables in Machine Learning? What are the common techniques?**\n",
        "\n",
        "Ans: Categorical data is a set of predefined categories in which datapoints can fall into. However, improper handling of this data can lead to errors in analysis and reduced model performance.\n",
        "\n",
        "**Need:**\n",
        "* Algorithms required numerical inputs\n",
        "* inconsistent categories\n",
        "* remapping categories\n",
        "* improved model performance\n",
        "Tecniques:\n",
        "* lebel encoding\n",
        "* ordinal encoding\n",
        "* target encoding\n",
        "* frequency encoding etc."
      ],
      "metadata": {
        "id": "A34FYEhu3mw_"
      }
    },
    {
      "cell_type": "markdown",
      "source": [
        "7. **What do you mean by training and testing a dataset?**\n",
        "\n",
        "Ans:\n",
        "Training data: Testing data is used to determine the performance of the trained model, whereas training data is used to train the machine learning model. Training data is the power that supplies the model in machine learning, it is larger than testing data. Because more data helps to more effective predictive models. When a machine learning algorithm receives data from our records, it recognizes patterns and creates a decision-making model.\n",
        "\n",
        "Testing data: You will need unknown information to test your machine learning model after it was created (using your training data). This data is known as testing data, and it may be used to assess the progress and efficiency of your algorithms' training as well as to modify or optimize them for better results."
      ],
      "metadata": {
        "id": "f-GUeWez4xI2"
      }
    },
    {
      "cell_type": "markdown",
      "source": [
        "8. **What is sklearn.preprocessing?**\n",
        "Ans: Sklearn preprocessing is a collection of functions and classes in the Python library scikit-learn that helps prepare raw data for machine learning. It can help make data more suitable for downstream estimators.\n",
        "\n",
        "Work:\n",
        "* Normalization: scales individual samples to have unit norm.\n",
        "* Feature scaling: standardizes the range of indepedent variables of features of a data set.\n",
        "* Filling in missing values: fill in missing values in the data set.\n",
        "* Removing repetitive features: removes repetitive featires from the data set."
      ],
      "metadata": {
        "id": "D4a6MEPn5IR3"
      }
    },
    {
      "cell_type": "markdown",
      "source": [
        "9. **What is a Test set?**\n",
        "\n",
        "Ans: ‍The test set is a portion (or partition) of the available training data that is “held back” and not used during model training. The purpose of the test set is to evaluate the performance of the model on unseen data after it has been trained."
      ],
      "metadata": {
        "id": "GGpe6KE359ts"
      }
    },
    {
      "cell_type": "markdown",
      "source": [
        "10. **How do we split data for model fitting (training and testing) in Python?\n",
        "How do you approach a Machine Learning problem?**\n",
        "\n",
        "Ans: he train_test_split() method is used to split our data into train and test sets.\n",
        "\n",
        "First, we need to divide our data into features (X) and labels (y). The dataframe gets divided into X_train,X_test , y_train and y_test. X_train and y_train sets are used for training and fitting the model.\n",
        "\n",
        "Syntax: sklearn.model_selection.train_test_split()\n",
        "\n",
        "How to approach a machine learning problem:\n",
        "\n",
        "1. define the problem\n",
        "2. data collection and processing\n",
        "3. exploratory data analysis(EDA)\n",
        "4. split data into training and testing\n",
        "5. choose model"
      ],
      "metadata": {
        "id": "ngAHacNh6K_-"
      }
    },
    {
      "cell_type": "markdown",
      "source": [
        "11. **why do we have to perform EDA before fitting a model to the data?**\n",
        "\n",
        "Ans: performing exploratory data anaysis(EDA) before fitting a model is crucial becuse it helps you understand the data's structure,identify patterns,detec anomalies and prepare it for modeling,ultimately leading to more accurate and reliable results.\n",
        "\n",
        "*why EDA is importent:*\n",
        "\n",
        "Data Understanding:\n",
        "EDA allows you to gain a thorogh understanding of the dataset's characteristics,including distribution.\n",
        "\n",
        "Identifying Errors and Outliers:\n",
        "\n",
        "EDA helps uncover errors, inconsistencies, and outliers that can negatively impact model performance."
      ],
      "metadata": {
        "id": "uSWs5iru-q28"
      }
    },
    {
      "cell_type": "markdown",
      "source": [
        "12. **What is correlation?**\n",
        "\n",
        "Ans: A statistical tool that helps in the study of the relationship between two variables is known as Correlation. It also helps in understanding the economic behaviour of the variables.\n",
        "\n",
        "Types: positive and negative correlation , linear and non linear correlation,simple-multiple and partial correlation"
      ],
      "metadata": {
        "id": "_Sffjx5F_8Sy"
      }
    },
    {
      "cell_type": "markdown",
      "source": [
        "13. **What does negative correlation mean?**\n",
        "\n",
        "Ans: When two variables move in opposite directions; i.e., when one increases the other decreases, and vice-versa, then such a relation is called a Negative Correlation. For example, the relationship between the price and demand, temperature and sale of woollen garments, etc.\n",
        "\n",
        "![image.png](data:image/png;base64,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)"
      ],
      "metadata": {
        "id": "gq-Kf78_Ar7j"
      }
    },
    {
      "cell_type": "markdown",
      "source": [
        "14. **How can you find correlation between variables in Python?**\n",
        "\n",
        "Ans: The most commonly used method is the Parametric correlation method.\n",
        "\n",
        "![image.png](data:image/png;base64,iVBORw0KGgoAAAANSUhEUgAABPMAAAE/CAIAAACsEBGRAAAgAElEQVR4Aey96XMUR7b3/0T9A3rDiyeiXiniiVAQem44FFMTChx22yOPHsAh/Yxh8LDcEYuGxeyLfMFgQAYNiMUgj5FtNgMG5IURwsZGYFYZGbAMGDBXxjIWu4BGEpLQ1qi7+mffvHNuTlZ3dXZ3VXdV60so7OyqrMyTn8zKypN58uT/CuIfCIAACIAACIAACIAACIAACIAACLiZwP9ys/CQHQRAAARAAARAAARAAARAAARAAASC0GzRCEAABEAABEAABEAABEAABEAABNxNAJqtu+sP0oMACIAACIAACIAACIAACIAACECzRRsAARAAARAAARAAARAAARAAARBwNwFotu6uP0gPAiAAAiAAAiAAAiAAAiAAAiAAzRZtAARAAARAAARAAARAAARAAARAwN0EoNm6u/4gPQiAAAiAAAiAAAiAAAiAAAiAADRbtAEQAAEQAAEQAAEQAAEQAAEQAAF3E4Bm6+76g/QgAAIgAAIgAAIgAAIgAAIgAALQbNEGQAAEQAAEQAAEQAAEQAAEQAAE3E0Amq276w/SgwAIgAAIgAAIgAAIgAAIgAAIQLNFGwABEAABEAABEAABEAABEAABEHA3AWi27q4/SA8CIAACIAACIAACIAACIAACIADNFm0ABEAABEAABEAABEAABEAABEDA3QSg2bq7/iA9CIAACIAACIAACIAACIAACIAANFu0ARAAARAAARAAARAAARAAARAAAXcTgGbr7vqD9CAAAiAAAiAAAiAAAiAAAiAAAtBs0QZAAARAAARAAARAAARAAARAAATcTQCarbvrD9KDAAiAAAiAAAiAAAiAAAiAAAhAs0UbAAEQAAEQAAEQAAEQAAEQAAEQcDcBaLburj9IDwIgAAIgAAIgAAIgAAIgAAIgAM0WbQAEQAAEQAAEQAAEQAAEQAAEQMDdBKDZurv+ID0IgAAIgAAIgAAIgAAIgAAIgAA0W7QBEAABEAABEAABEAABEAABEAABdxOAZuvu+oP0IAACIAACIAACIAACIAACIAAC0GzRBkAABEAABEAABEAABEAABEAABNxNAJqtu+sP0oMACIAACIAACIAACIAACIAACECzRRsAARAAARAAARAAARAAARAAARBwNwFotu6uP0gPAiAAAiAAAiAAAiAAAiAAAiAAzRZtAARAAARAAARAAARAAARAAARAwN0EoNm6u/4gPQiAAAiAAAiAAAiAAAiAAAiAADRbtAEQAAEQAAEQAAEQAAEQAAEQAAF3E4Bm6+76g/QgAAIgAAIgAAIgAAIgAAIgAALQbNEGQAAEQAAEQAAEQAAEQAAEQAAE3E0Amq276w/SgwAIgAAIgAAIgAAIgAAIgAAIQLNFGwABEAABEAABEAABEAABEAABEHA3AWi27q4/SA8CIAACIAACIAACIAACIAACIADNFm0ABEAABEAABEAABEAABEAABEDA3QSg2bq7/iA9CIAACIAACIAACIAACIAACIAANFu0ARAAARAAARAAARAAARAAARAAAXcTgGbr7vqD9CAAAiAAAiAAAiAAAiAAAiAAAtBs0QZAAARAAARAAARAAARAAARAAATcTQCarbvrD9KDAAiAAAiAAAiAAAiAAAiAAAhAs0UbAAEQAAEQAAEQAAEQAAEQAAEQcDcBaLburj9IDwIgAAIgAAIgAAIgAAIgAAIgAM0WbQAEQAAEQAAEQAAEQAAEQAAEQMDdBKDZurv+ID0IgAAIgAAIgAAIgAAIgAAIgAA0W7QBEAABEAABEAABEAABEAABEAABdxOAZuvu+oP0IAACIAACIAACIAACIAACIAAC0GzRBkAABEAABEAABEAABEAABEAABNxNAJqtu+sP0oMACIAACIAACIAACIAACIAACECzRRsAARAAARAAARAAARAAARAAARBwNwFotu6uP0gPAiAAAiAAAiAAAiAAAiAAAiAAzRZtAARAAARAAARAAARAAARAAARAwN0EoNm6u/4gPQiAAAiAAAiAAAiAAAiAAAiAADRbtAEQAAEQAAEQAAEQAAEQAAEQAAF3E4Bm6+76g/QgAAIgAAIgAAIgAAIgAAIgAALQbNEGQAAEQAAEQAAEQAAEQAAEQAAE3E0Amq276w/SgwAIgAAIgAAIgAAIgAAIgAAIQLNFGwABEEgEgdq6i6vLdzj/b3flwV6fLxFEDHl0dnXv/PTAkZqz3T29hpu4AALJIdDW8fjQidOVXx7r6/MnWIK+Pv+nnx/5/HBNW8fjBGeN7Po5gSQ2+35OHsUHgTgJQLONEyAeBwEQiEygu6d36oKViqo5/y8rd/TVazciF8nqGN7m1oJZSxVVy/nTlBu3m6xOHumBQIwEzpy/nJ6dr6ja4tLyzq7uGFOJ/rHOru7FpeWKqg30jDh3qT76BPAECMROIFnNPnaJ8SQIgMB/EYBmi4YAAiBgOwG/P7B07fvOV2uZhNsq9ttO5F8zuHPPO2zifEXVBuWNr29o/Neb+AUCySSg6/rx2jqm3E57vbTjcVcCpOl43DXt9VJF1dKz80+eOZ+AHJEFCPAEktLseQEQBgEQiI0ANNvYuOEpEACB6Ajc97Yw5U3Qb8fNXtbe0RldWpFi9/X5W9vam1vbGm/ePXH6XEVV9YoNW16aMI+NzgUBjD9HTl6QSOtHUmsxiI9UsbifHAK6rldUVadleBRVS4ByS2ptWoanoqpa1/XkFBu59m8CCW72/Rs2Sg8ClhGAZmsZSiQEAiBgTuDkmfMhdcvV5TsSs4VP1/Xm1rYvj54qmLV0QGaOUadlV9SsId9+f8W8LFbdJYUfg3irkCIdOwj09flXl+9gL8j0RaX2mSV3dnVPX/Tbaq2iagnrGewghjRTgEDCmn0KsEIRQMAhBKDZOqQiIAYIpD4BXde37Kky6pNq1pDjtXUJLn97R2dFVfVzwycZ5VFUbena9/3+gN0i8YP4xaXliVHv7S4U0k9VAq1t7a9MWWirzskrEnZYc6Rq1aBc9hFIQLO3T3ikDAL9kAA0235Y6SgyCCSNAK/L8SplsvaX9vp8Xx49lf1iAS+Momq5o6Y1PXhoKyZd13dXHmT55hXMuedttjU7JA4C8ROob2jMyh2tqFpahufj/YfjT1BI4XhtnZo1RFG1rNzR2HAuwMHPZBGwu9knq1zIFwRSkgA025SsVhQKBJxLoKHx1qC88YImqaiarSaO5ji8za0L//YO20ZIgn1+uMb8qTjv1tZdZLbZaRmer06eiTM1PA4CCSDAm11YPhvF9wxb9lRhe20CKhRZyBCwtdnLCIA4IAAC8gSg2cqzQkwQAAFrCNDKDKmRLPD21o+SNZwNBAJ7DxzhtwHPXrLOvoNteQu3qQtW4gBbaxoWUrGfwIOHLS9NmMde2MmvlVi14bbX5ytaXsaSfWnCvAcPW+wvCnIAAVkCNjV72ewRDwRAQJoANFtpVIgIAiBgEQF+Nx2v3CbXOTB/zAOzh7TpYFt+BSA9O/87nNVpUbtCMokh8Nmhk8zAwUKb5K9OnqE0Pzt0MjEFQS4gIE/AjmYvnztiggAISBKAZisJCtFAAASsJMAvWvLKbc7IqXfuea3MKZq0BOXWpoNtr99qenZYISt10fIy+1aGoyk64oKALAH+5bXkheUTfGXKwta2dllREA8EEkWAb6WWNPtECY58QKB/EYBm27/qG6UFAecQqG9odNqG22AwyC+oTphbbJWxJWH3+wOr3tnO1NpEHi9EAiAAAvET2HfwOE1Ixb8nds++akpt38Hj8YuHFEDADgLWNns7JESaIAAC0GzRBkAABJJDQNf1iqpqwW8Tc7taUVWdrA23wWCws6t78msliqqpWUPOWW0qfPXaDeZdVlE1OzTn5NQlcu1nBJoePMwdNY2po3E6Eud3MMaZVD+rBBQ30QQsbPaJFh35gUC/IQDNtt9UNQoKAs4j0NfnX1xaTss1FEj67tNL9Q2Zz49UVG39pt0W6ti6rq/ftJuKieUp5zVJSCRFQGjJ8djt8+tg1r5uUiVBJBCQJmBhs5fOExFBAASiIwDNNjpeiA0CIGAtgfvelmET55OyR4FhE+ff9ybNP6rfH1i69n1F1YaOnfmw5ZFVRean/AfljW+8edeqlJEOCCSYwLlL9ezsWUXVhhcWxbY5trOre8LcYvbWwzg/wTWI7GIgYEmzjyFfPAICICBJAJqtJChEAwEQsIsAnexKai0LlJRt7evz25VrpHR//Pn6hLnFQ8fOPH3ucqS4svf55al5xet9T57IPol4IOAwAm0dj0dOXsBe1bQMT23dxRgE/Pb7K6Qej5y8oK3jcQyJ4BEQSBgBS5p9wqRFRiDQDwlAs+2HlY4ig4CzCOi6vrvyoKDWsg23H+8/7CxZ45Cmu6d36oKVVEyYIsfBEo86gsCGzXuoPS9d+77fH4hKLF3XS8q2UgowRY6KHiIni0CczT5ZYiNfEOgnBKDZ9pOKRjFBwNEEOru6py8qpTEuBQblja9vaHS06NLC8b6jsnJH23RYrrQ4iAgC8RKorbtIHuBicP70sOXR0LEz2cse86pvvGXA8yAQJYE4m32UuSE6CIBAdASg2UbHC7FBAARsIsCf8kqaraJqKXO+JX+0CQwvbWpFSDaRBG7cbnrmpYkxq6a8hvDMSxNv3G5KpPDICwRiIxBns48tUzwFAiAgSQCarSQoRAMBELCdwMkz59Oz83m1loVXl+9I4oZbS4rte/JkXvF6KlrxW5ssdLlsiYRIBASiJdDV3TOp6Lfzsdjfhs17okqBt+qcVFTS1d0T1eOIDAJJIRBns0+KzMgUBPoPAWi2/aeuUVIQcDqBvj7/6vIdNFCmgJo15HhtndOlN5Xv7n1vzp+mUIk++ewr0+i4CQLuILDqne3UqqPSTjsedxXMWkrPrnpnuzsKDClBIBiMudkDHgiAgN0EoNnaTRjpgwAIREGgvaNz3OxlNN6lwKC88Q2Nt6JIyGFR+bMi0jI8Z85b42+5s6v7y6OnJswtHugZoahaenb++DnFR2rO9vp8AoC+Pv+J0+fGzylmq+K/Gzy2pGzrzTv3hGj4yRO4fqtp8mslAzJzFFV7On+CCbFAIFDf0LimfOeQMTNZfEXVfjd47Owl62rrLppYHDx42LKtYv/oaYtYDUo+xQuZ3PAnn31FL2lUFsW8SaeianHO9Vy/1bRkzXv0Fvy1aMXpc5cDgSg8WnX39Da3tsFdudCc8AoIQNjPmJt9yNRwEQRAwEIC0GwthImkQAAELCBQ39A4KG88DZcpMH1RaWdXtwUZJCMJfiT0+6F/+fl6vFp6r89XUVVN6hBRYoH8cXO/v/ITFfTW3ftjpi8W4iiqNiAzp6KqOioFgNJM+cC5S/XGdjggM2fnpwd4TTUQCBz9+tvnhk8y4qUrwwuLjJtIvc2tC//2DnlgosgUeHZY4fnLPzqc85nzl6kIUU3ZxPygAKSvz7/z0wM0m0D0FFWbs3SdTI/Bp5CVO/pSfYOQRb/9iVcgXNVb1XrDpY/rIAACMROAZhszOjwIAiBgF4GP9x+m4TI/VN2yp8qN21N1XS9+axMVZMiYmc2tbfGwa3nUTq6kB2TmFMxaurp8x+ryHWOmLyZu6dn5J8+cDwaDV6/deHZYITtFaVJRiRAzLcPz2aGT8QiTks82NN5iam32iwU7Pz1QunE76U5pGR46jKrjcdfi0nJiPihv/Bur3xUIs3ofNnH+fW8LY6Xr+qETp2lWYqBnxPRFpeypqQtWUkZsEZ5VomMh8x6/o1p6/XDvF/RGxOwqvK/Pv/bdDxn/p14Y9cbqd1f+/QPe7P/trR9F7DH4M3UVVYNdNGtseAVMXrqYm71JmrgFAiBgCQFotpZgRCIgAAJWEujr8/MHXdIImLQ1KzOzPy3B48jUBSu7e3pjzva+t+WVKQuZprruvV3tHZ2UlK7rVdUneEWr5uyFYRPn/6pyDPSMOHH6HI3y7973vrpwFQM7vLCota2dEkGg1+crWl6mqNqwifPv3PMGg0G/P7B07fvUDtkJN97mVtopOm72sl9u3iG8wWBQqAtF1diJr319/m0V+1kdDRkz89ipOn4FOBgMXv7x56zc0ZTXSxPmPXj43yqxA6umubVtyJj/PrlHUbUVG7bICGnJXI+u6xVV1Yzk6ys3djzuYlnzOvOgvPGNN++aiCScqauo2od7vzCJ309u4RUwr+jYmr15mrgLAiBgCQFotpZgRCIgAAIWE7jvbWEqGQ3xWYBf+7I4S9uSE4ZBi1Zt9Puj2AHIy0UH/6Zn51cf/4ZXpVi0zq7uCXOLCZqaNURY+mMaFy0YKqqW8czLsMDkIX93qT49Oz8tw/PVyTN0nT+0SVG1HZ8cYPMLAz0jvjx6KqRFd1vH45GTF1BdsJVJpoylZXhKyraGnODw+wOLVm2kpxRV+/xwDYnhtIDgCGr6otKeXnGPt1Hm7p7eqQtWUhkLZi0lvdQYOdyVS/UNmc+PVFRt/psbeJJCTdWcvRAuhWAwKNRRVAbVJsm6/RZeAfMajK3Zm6eJuyAAApYQgGZrCUYkAgIgYD0BNrqi4S8FipaXGT0kWZ+9dSkKpmuS61rG/HVdf3vrR2y1lgxijdFWbNhCrFigpGwrLQySPsDHqa27aEynf16h5VlhKVvQlxi9QXnjz12qDwfKqKNO+Y+/MZ15W8V+qhHj40JeMTcYY8qWXxF0VMmDmoW5nhisGCjfvII597zNfLk27ark2/aefdX8XSEsvJs5f5py9/5vq/T9+R9egYi1T82PtTTJZh8xWUQAARCInwA02/gZIgUQAAFbCPDWhvxQNS3DU1FVbVyutEUIKxK9VN+Q8czLVISYzR1pFG5+wK+g2QoGmfwhokykp14Y9ePP160oaCqkQeczCaezClSFlfBwJTc+paiaefUFg0FBs41B8Qsnj+XXY7MrJsisBcZwvPOxU3VpGR7jLnFB5Yi44v354Rp6MRVVi+rgIsthOiRBqh28AuFqJLZmHy41XAcBELCQADRbC2EiKRAAAYsJdPf0znxjDT/0ZOGs3NH1DY0WZ2ZbcrV1F/kimC8ihZPC7w+wQxRzRk5lmz9DxjSuE/J60ZO+vv8oeZsXRlG1CXOLZVzIhswu9S4eqTmrqJqaNYRfjBV2SrNlc5npFaNmO272Mn5rdEiALtJsg8EgX0ZJX1A0R8OaYrSL0r0+3+wl6xRVE9bVg8HglZ9+YSbKLGVzS3vjyyLociFrJ+Uv4hWQqeIYmr1MsogDAiAQJwFotnECxOMgAAL2Erjnbc4rmCMoY2xQ621utTdvi1IXNNvYju5svHmXees1dxAt7BtUVG3Trkq+HMKarUudcvElsjBMqo6gMtEqFrXDmW+s4fd2hpTBuH6Y+fxImS3NQh3NK17v5HNW2YQLIxObZhutO2JSjLdV7BfIb6vYT3UUcdamta1d6FuO1JwVEuxvP/EKSNZ4DM1eMmVEAwEQiIcANNt46OFZEACBRBA4eeZ8enY+P2Bl4YhWnYkQTiIP/jBbRdVi29TK1vEynx955adfTPL88efrT70wilgJa4/BYNDb3Fo4fzmLkP1iwfHaOhfZdZsU3JJbpOoI9rH88ZWKqkkqqA9bHg0d+z9+gxVVkzmExvfkybzi9VSDzj+Hhl9hNl8jpToSeEZrxcByNOZlnNYxT1nYJmDJQdNURpcG8ApIVlwMzV4yZUQDARCIhwA023jo4VkQAIFEECDPSfxwn1mE8t5rEyFKTHnwY6B4NNvBY2YsLi03XyoU9g3mjppmXNnWdb2t43FrW3tIj74xFTFFHrrvbRk/p3jwmBmCQ13BKZHkIqqgOBk1sZDUjPqwk30jG3cFy0zcCFYM5vqnkdKefdWDx8woWl4mWNELJ9MKO8xDpsN3KbG5aDYm6+oreAUkq8+SXl0yL0QDARCQJwDNVp4VYoIACCSNAJ12w49EFVUblDe+ofFW0sSSyzhhYyDj4ZySOphcOaRi1dZd5I8UEurLpp8DPSNkFCqpAhgiGRdRBQNvwxP/fUGod0kHqucu1bOzmhgrSX04nAwJuC4UU6Yi4tRsQxYq2sZPZrfUJkvKtlpiv4BXgCpIaBup9AoIRZNp9oQFARAAAfsIQLO1jy1SBgEQsJJAfUMj22hKI1G2bHvsVJ2V2diQVsLGQMIpi4qqxeyHOWYMwh5RvrJsDdvn+8fb3Jo7ahoJL3nkqVFxkjzHWFgfllQGYq6v+B+MoXnbodk2PXjIV5OiauabZu1bG8crwBpVar8CMTT7+N81pAACIBCRADTbiIgQAQRAwCkEvjp5Ji3DQzqGzAEqThA9YWOgn6/f+v3QvxAf4ybbBNBoedS+aVfl6vIdifzbtKuy5VG7TaUTFlEljzyl/YpUHTKew4xOp9Zv2m3JQqJNcJJijRyyLMyjL9HOHTWt6cHDkDHZRcFW3MKzr/AKMMKp/QokrFc3acO4BQIgYCQAzdbIBFdAAAQcSqCvz7+6fAcNXqcvKhU22jlT7oSNgYyDe+MmW2cicrJUQvXxpyiZiC0oTpJGxeQBmzXytAyP860cBT4yAlu+ZmtcHly69n2/P2BSQYLYzl8bNymL3bcEVngFYpvQsbuakD4IgEAwGIRmi2YAAiDgGgKBQGDnpwfYoH/YxPn3vS2uEF1QOGWG/rGViz+IQlG1xG+yjU1sJz9lVJkkzZ4Fh9hDx8582PIoYkn3HTxOEzeKqkk+FTFZWyPwao+kqbag9kfrQcpYHOOxTOamyMZqlbQVN2ad8leMrPAKCJqtZLNP+aaCAoKAEwhAs3VCLUAGEACByAR0Xa+oqmbWyC5Sa4PBoLBCJWOVGhmHIYZxk62koyNDSrjwPwSMuzEFt8n/E5ULGZUBGcWp1+ebvWQdr9lGXHjk8kxakJ9PScx5tsaiCpNHES3GjYayDndAbSxywq7gFQiJOoZmHzIdXAQBELCWADRba3kiNRAAAbsI0Km2g/LG1zc02pWNDekKmm38K1QhZbxxu+mZlyaSXpSUTbYhBXP1RWF18ZmXJt643RSxRNEerMoSvHrtRlbuaKrBtAxPVN7RmlvbNn7wyR9GTFZUbaBnxPw3N9Q3NNIeXW9za+nG7cxt9R///Gr18W/6+vwRCyITYcWGLSRzbJrtig1bZDIKFydar8jBYFCoVklb8XACpPZ1gZUDXwFd1y/+Z8PEeW8OyMxJz86f8h9/u37L7CVt7+isrbv48/Vb9HbEUIMxNPsYcsEjIAAC0RKAZhstMcQHARBIAgFyjJyenX/yzPkkSBBHloLGYpO/4miXreIoUD96lDe1VVRN8shTQRmQnGUQ8pI3RdZ1/dCJ00xrfTp/wuAxM1j414H+zk8P9PX5f7h6bVDe+AGZOTkjp+aOmpaenW+V9zVd14vf2kSabcTFUtZ0mlvbhoyZSU8Vv7UpHh3DaK0Q8RUTbMWxydbklRaapdNeAV3XP95/mOm0uaOmsZZvMvvpbW4dXlikqFp6dv73V34yKbjJrdiavUmCuAUCIGAVAWi2VpFEOiAAAnYRuO9tGTZxPjvjp6KqOp5BsF0imqYrrKbGs0IVCATaOh4HAiFc4/DWcYqqTV9U2tPrM5Hr9LnLeQVzpvzH3+BlKhwlo1Gx5A7Dzw/XkNomuV22s6t7wtxi/inheFVd1zftqhw8ZsaSNe/xNUtW+mOmL/7l5h32dtD5z2kZno0ffPLssMJBeeN/uHotGAz2+nxbK6r+91P/L/P5kVd++iVc2SWvC86ch4yZ2dzaFvFZYU1b0iNRuGSFTbYRNz0aq1XGVjxc7ql93cjKaa8As+WZ9nppx+OuYDD44d4v2EsUzpKfZgDj8YYdW7NP7aaC0oGAQwhAs3VIRUAMEACB0ARojG7VKlPobOy8Kmzqi20Y3d3Tu2HzngGZOYqqPfXCqK/PXuBFNi5bmW+ypQErVqt4jEJYqLiIR6Syx4ktqakyrryMy7zffn+Fl4e0QaH9sJG90U94zdkLJABZOnR2dc9Z+j9beePf8i00PEkdtafXN31RKYknuQzI0+DDgk1ERHNZ48bR+Dnw8qRS2OGvwD1vc17BHN7tAq0w5xXMaW0TTwLjDddDRpCsu9iavWTiiAYCIBAPAWi28dDDsyAAAvYS4I/5MY7d7c3butSFCX7J0T+ff6/PV7S8jDQBRdWE4zqv/PRL5vMjKULE02LodBnnH5fKc0hwWNA2fz/0Lz9fvxVRBqMyILOzetOuSqo+RdWGFxYJ43I6Vpf3+tva1v7KlIW/rr3f8zYLgvG7u2cvWdfr+20B/8z5y/yJ0HxSwuOSP2O2K+a3KUqu9IYTSdBsI6YmVCs22YYDa9yQ7KhXQNf1LXuq1Kwh5NSNn1QKqbjS9FCcruNjbvYmqHELBEDAEgLQbC3BiERAAASsJ0Bmloqq8bPy1udkf4q8qXDEkbdRnGOn6niFRFE1wVUPrVQw7ch8AKrr+vpNuxVVs8Qe1ShtylwRjIollxYFxUlmk62wBKSomrDkTlUmzGjsO3g8LcPz2aGTRuZkdamoGjn+5S8+O6zQ3NGOMU3jFUGrjLjBlVLgd7oKjZniSAYEGSK+X8LLArMFE85OfgXY2vuEucV0qjlvlx7SGpl/N4VXzASC8ZbQ5OSbvTEpXAEBELCWADRba3kiNRAAAcsIuNcZshEBP443VzuNzwaDQV4xZrorb3Jp3KJpPri/VN/AFnhDDv5CCtAPLwpOYhRVW/XOdhkOfF1LbrIVdmIbleHrt5qeHVaoqBq/xs5sAcI5mtqweQ9rKrzeeN/b8sqUhYqqZb9YcOb8ZZnimMfhF4EjbnDlk4r5QT4RFv75+q3fD/0LrXjnjppmsnWcNu1TfMG625h+v73i8Fegtu5iWoZnW8V+qiDSw8MZrfAR4mn/FrZeEh4BEAABSwhAs7UEIxIBARCwmICrnSEbWZApKfODFdWgStiUyEbki0vL6fA/cbQAACAASURBVNSWb7+/omYNoZG6omommi2N7C1ZsjOWNGWu8IaLjK2M7S5vD8meklGchCUgofr6+vwlZVsVVROqrLun94OPPvvHF0f9ftGjGL8ILKxJMidk1HjirC9ejednWyImKyjz8ex0FWrKxDMQv2mf3hda0I4oc3+LIICNeZ+5Ta/Axf9sWPfeLjqFiz8O2mjMHwwG+XdT0ol3uBqPudmHSxDXQQAErCIAzdYqkkgHBEDAMgKkfaVleNzoDNkIwtvcmjtqGg2moxrHG1dOCmYtpVUpttOSUmaBcFsHvc2tBbOWshMvXHd4kpGqrVcEbVNSbYttk63QPISd2GS8sLvyoKRjcF5vFHwsWwuNtyaYVFTS1d0jmX5Xd8+kohJqt5Lr4eES31axn5JSVG3fwePGmJ1d3YtLy/loiqqFe1OMj/fDK+56BXhpQzpw5t9N4RWLtnJjbvbRZoT4IAAC0RKAZhstMcQHARCwlwC/rrK6fIdVi0v2Ch0pdd+TJ/OK19OoOtoDPPcdPM6e/f3Qv3xx5BTzBhQMBjsed017/Tcfs+nZ+QeP1c58Yw1lsWjVRooWDAZ1XT9/+cfBY2a49/CkSIwtvs9vSY35JFtJxcnvDyxd+z7VHamIuq7X1l3Myh3NjnGi/YQRi8o7RrZvTVLQTkOqEyaikr20ompUZJP4JrdoLowxFI4z1XX9l5t3xkxfTIQpICxom2TRD2+56xWg2Y1wLx2/yTbatsrXfpzNnk8KYRAAAcsJQLO1HCkSBAEQiJ0A7wx5ztJ18kP52LNM1JO835pox9Pe5tbhhUVsOD5kzMxd//jyxOlz7+3cm/1iAa+pCuP7/HFz//HF0ROnz+36x5f54+ayx9Oz8/cdPC659JcoNk7MR3BWLDkUFpQB+Yqmzc9snmLTrsojNWfnLF3HznniV+llYJHwJqa5MumYx+FXhtWsIcIxRebPBoNBtk+SNUvJJXGTNGvOXhjoGUEqa3p2/rTXS1eX71j59w9eLiwSHLBRtGjnmEwESL1b1IoYLie/Arz/+XCe3siEONwuXMkajLPZS+aCaCAAArERgGYbGzc8BQIgYD2Bvj7/2nc/ZGPQpJ/xc/7yj3kFc4aOnXn6nAWOdoLBIH8wD+/UR5Lj1Ws3mA8hGpSzwEDPiKrqE6Sp3vM2F85fLsShn/nj5v7483XJHPt5NN7gUN6JtODFWua8H8ZZ1/V9B4+nZ+dTZbFAWoZncWl5x+Mu+ergR/nyqrV8+hSTV01D7mykmCEDTQ8ekol+nMoGS//7Kz/RDI6AUVG1/HFzj52qoxkiFsG+Be2QRXbXRRe9AhFNkflNtnFOo8TZ7N3VBiAtCLiOADRb11UZBAaB1CTgqDN+yDo0nOPZGOpA8GAcciugebKdXd0VVdX54+aydbz07PyVf/+ANtzSs4FA4PS5y38tWkFq0kDPiNlL1p0+dzkQEF0N0VMICATu3veOm71MUbXnhk+S9/jV2dW9ZM17aRmegZ4RH1UditaW/uadeyVlW383eCxbin9lysJT334fba3xZ5/YuibJmxPzTpsFkuF+0lvGlMwYUjCm3Nfnr627uGjVRsZQUbWBnhET5hafOH2ur8/PO3IzHp1lTK2fX3HRKxDR6THvDStO0/c4m30/b1QoPgjYTQCard2EkT4IgIAUAXKTI+yRk3rY6ki0vmqt9x3eIHle8XrfkydWC470QOBfrHxDrkk+au/YvHtfbd3FeGDxqkIMpsgsa375y9blZZadYF4bzmw1Hix4NikEaHk5nNNjqzbZWtLsk4IImYJAPyEAzbafVDSKCQKOJuCoM376+vzMh6olFpI898abdwfljWcrVIPyxjfevMvfRRgEoiIQCAT+8cXRgZ4RAzJzNu2qpLN/aE0pnCsdZjItbykdUip+/XPC3OLYtsS3trWTeXDM6nFI8YwX+bzYOxiD3YQxWVxJOgHe/D7ceixtslVUrebshZhltqTZx5w7HgQBEIhIAJptRESIAAIgYC8B8nvkkDN+Pt5/mO31tdAUmREUzC8xsLa3YaV66jVnL9A5xnQELn+SLV3kSbBjP+OcWNF1ff2m3Uw/DHfKDp+pSZhc2iqqFq1Bsre5tXTj9qfzJzydP+Hv2z7q7uk1yeizQyd5P1K5o6Y1PXhoEh+33EKA12xDHudj1SZbC5u9W9hCThBwHQFotq6rMggMAilFwGln/PAeVqMdZ8tUDO8CN+aVLpmMECflCazYsIV0y7yCOa1t7YKjspCj/OO1dWrWkLe3fkRex2IAxTt/isF3FJ/jnXvenJFTWUGi0jaNPtU2fvAJnzIfFo59TsvwfHboJB8BYfcS6On1TV/02+FniqqFbPNkExTn+VIWNnv30obkIOBwAtBsHV5BEA8EUpkAf8ZP0p0hB4PBH65eI2thm2wjydRZUTWbskjlFoOy/ZMAf0IyGTv09flLyraSumvcR8qG+MMmzr/vbflnSrH8nw5YVlQtTqtmXde37KkimSUNGdjKMz1lotWww5zf3voRH3nmG2vMF3hjgYJnkkeAVv6N+2zJJog1AMmzi0IWxcJmHzJ9XAQBEIifADTb+BkiBRAAgVgIOMoZsq7rtXUXs3JH0/A3zpUoEyL8sm3R8rJen88kMm6BQDgCbD/toLzxx07VBf7r3+7Kg2kZnjdWvzv5tRJ2Lu7JM+fZ47quHztVl5U7On4Pbfz65ytTFrK14nBCylznl20lE+TPFKV3Npy/N/JOx2LGr9jLFApxEkmAb0I7Pz3A3Inrun7+8o+Dx8ygFhLPJlvLm30i+SAvEOg/BKDZ9p+6RklBwFkEaLgZ/1A7zoL1+nzbP/6cHaVDYyA7TJGZnH5/YO27H7KM0rPzv7tUH6f8eLx/EqDFqD/++dXitzaxo1znLF3X2dV939vyypSFiqoNyMyZumDlig1bnhs+SVG1wWNmfH/lpzhx0YbVtAzPVyfPxJkae5w2t0vaCfPnl7JXaaBnxLlQr9K5S/VkiMEINDTeskRmJOIoAnxF/27w2MFjZrCTn/7tD6/QlGU8J9na0ewdBRDCgEBqEIBmmxr1iFKAgMsI0Man9Ox8WlZKfBnYpD5TCUinTYCd8D1vc17BHJZjyI1hiUeBHN1IgLlQYiP454ZP2nfwOJ2g29nV/d7OvX8YMZnpt69MWbjv4PH4TXAfPGx5acI81nQttDjo7Opm68yKqr00Yd6DhxGMpfkzexVVy36xwHjmsNEQI69gzo3bTW6saMgsQ6C5tW3jB5/88c+vpmV40jI8Q8fOrKiqvnG7aejYmXF2tjY1e5lCIQ4IgEBUBKDZRoULkUEABCwgcOeed9jE+cxa8nhtXTyebGKWJhAInD53ecz0xbxCS+EEHK1JS9YWLnzFTAMPgoAMAX5P7KC88dYuftJs169TS1v2VJl3C7yb8VGvvn73vleQ39vcunz9Ft4Z8msryloe/eZkC//6FYFvv79CLsS3VeyPoey2NvsY5MEjIAACJgSg2ZrAwS0QAAHrCZAJJbm9sT6P8Cl29/Seu1RfUrZ1oGcE6bHGQDxeRsJn/i93eJvkvII597zN/3IbP0DAeQTqGxqZYaeaNeR4bZ3lApJNclbu6PqGRvP0qSdhi9IFs5auLt/B/qYuWMlvLsh+seDo19+yvZfmaeKu6wh09/R+dfLM6vIdR7/+lgwWqBS9Pl/R8jLWwz87rPD6rVhW7O1u9iQtAiAAAvETgGYbP0OkAAIgIEsgMWf8BAKB1rb25ta2+96W2rqLR2rObti8Z/qiUma0adRjhStq1pCQG/ZkCykdj6exuLTcOCyTTgkRQcB2ArwHndXlO+xorryz9HGzl7V3dJqX6tbd++NmLxPeX/7nc8Mn7T1wJH4bbHMxcDdZBFrb2v99xhusxtMyPMdOibMt7IwrRdXSMjwf7z8cg5wJaPYxSIVHQAAEwhGAZhuODK6DAAhYTIAftvKjT6eFE2CKTGRp3SkpK9gkBgIgYE6Af3ltPaCLn+6R0Z8DgcAPV68tWfPe0/kTWE8yIDMnf9zcsi0V9Q2NWKc1r1a33z1Sc5b/fHx+uIYvEW/fLtOW+GdZOGHN3pg1roAACMRGAJptbNzwFAiAQHQE+DN++LGIA8ObdlVGV7b4Yt+43cS8SSXXmVZ8hcDTqUyAf3knv1Zi927VlkftzJsUpntSuVVZUbY9+6rpC8K8glOq1K8qqra4tLyzq5tuSQYS3OwlpUI0EAABcwLQbM354C4IgIA1BMhhEg1EnBnIeOblS/UN1pRZOhUahCX9ACRpkRGxvxDQdf14bV16dr6iatNeL+143JWAkpNyi+meBNB2bxZXfvol8/mR/2fQS9XHv6H1+V6f78ujp9iG8AGZOTs/PRCD5XxSmr17KwKSg4BzCECzdU5dQBIQSFkCfn/gb29v4/2UOlOtVVStYNbSxIzdhcr2NrcWzFqqqFrOn6bgYBIBDn4mkUBt3UWm1sa28BWz5J1d3YtLyxVVC3dQbcwp48GUIaDr+sf7DzNvYU/nTxg8ZkbuqGmsuaZleCbOezM2l1HBYDBZzT5lqgYFAYFkEYBmmyzyyBcEQAAE/oVAZ1f3zk8PHDpxOimq9b+Igh8g8E8CD1sefXn0VOWXx2JY+PpnGjH+v6/P/+nnR6qqTzxseRRjEnisHxC4fqtpyZr3mIPAtAzPH//86ttbP7pzTzwIKioSSWz2UcmJyCAAAgIBaLYCEPwEARAAARAAARAAARAAARAAARBwGQFoti6rMIgLAiAAAiAAAiAAAiAAAiAAAiAgEIBmKwDBTxAAARAAARAAARAAARAAARAAAZcRgGbrsgqDuCAAAiAAAiAAAiAAAiAAAiAAAgIBaLYCEPwEARAAARAAARAAARAAARAAARBwGQFotm6qMG9za+nG7QM9IxRVezp/wpI179U3NOq6LpShvaPz4/2HR09b9HT+hKfzJ7xcWLR5977m1jYhGn6CAAiAAAiAAAiAAAiAAAiAQGoQgGbrmnpsaLw1eMwM4RTQtAxPSdnW7p5eVoxen2/npwfYYW5CzKzc0afPXXZNaSEoCIAACIAACIAACIAACIAACEgTgGYrjSqpEb3NrcMLixRVy36xYOenB7Z//HlW7mjSXVeX7+jr83ubWwtmLWUXB3pGLFnz3pGas18ePTVu9rK0DI+ias8OK4z51PKklh6ZgwAIgAAIgAAIgAAIgAAIgIAZAWi2ZnQcck/X9be3fqSo2qC88fUNjUyqbRX7SbNVs4bsrz7xypSFiqqlZXjWvbers6ubRev1+b46eYYWezftqnRIoSAGCIAACIAACIAACIAACIAACFhFAJqtVSRtTKfx5t1BeeMVVduyp4p21dbWXSTNlgIDMnM+3n+Y4vCruCzOvOL1vidPbJQVSYMACIAACIAACIAACIAACIBAwglAs0048ugzZMuzg/LGN968S0/XnL1ACi0LpGV4KqqqSa3t9fmKlpcJcaYuWEmbcimpqAJ7DxwZkJkjJJvIn3OXvRVnEaIqLyKDAAiAAAiAAAiAAAiAAAg4nwA0W6fXUVvH45GTFyiqtmjVRr8/QOJ+uPcLQZ+c+cYaXuW7eu0GvxeXRV71znZKIYaA78mTecXrhXwT/POZlybeuN0Ug/B4BARAAARAAARAAARAAARAIFUJQLN1es2eu1SvZg1RVO1IzVmS1e8PLFq1kVcpjd6hjObKaRmeY6fqKJHYArfu3t+wec/q8h3J+vv67AVal46tCHgKBEAABEAABEAABEAABEAgxQhAs3V6hW7aVamomrBQSQu5pNyu37Rb0Pdu3rn3hxGTKYKiasKirtNLDvlAAARAAARAAARAAARAAARAQI4ANFs5TkmK1d3TO3XBSkXVhP2xgqWxmjXk3KV6QUZd17/57lL2iwWKqqVn52/YvIccJgsx8RMEQAAEQAAEQAAEQAAEQAAEXE0Amq2jq6+7p3dxafngMTMqvzzGC3qk5iy/GDt07MyHLY/4CBTWdb2ru0dYzqW7CBCBVxeu/L9/eMVdf//2h1fY3//9Z+Df/qsIdJGus3JFvB4xgkyCcSYiKaq5JFSPDAilSQG6LkhLD5oECDKTQfivyYOUu/AIn2DEx8MlQmnyEUzCQsF5ICRDyDghL7Lc+UTChUmkcBHkr8csCXuQZWQMk4TEAQEQAAEQAIEkEnjng09otIYACJgTgGZrzsehd1e9s53XbAXnUg4V2tlivbrwt7Vx/IEACIAACIAACIAACDiHADRbZ4+gnSUdNFtn1YeMNB2PuwpmLeV7nE8++0rmQcQxIQDNlm9RCIMACIAACIAACICAEwhAszUZvuKWQACarQDEBT9v3G565qWJ1NdkPPPypfoGF8jtbBGh2VKLQgAEQAAEQAAEQAAEHEIAmq2zR9DOkg6arbPqQ0aamrMX+L4mr2BOa1u7zIOIY0IAmi3fqBAGARAAARAAARAAAScQgGZrMnzFLYEANFsBiAt+bti8h+9osMnWkjp7deFK/IEACIAACIAACIAACDiKADRbSwa6/SQRaLYuq+iu7p5JRSW8ZotNti6rQogLAiAAAiAAAiAAAiAAAiBgNQFotlYTtTm9pG+yvXX3/obNe1aX70jW39dnL+AQI5tbGZIHARAAARAAARAAARAAAZcRgGbrsgpL7iZb35Mn84rX8yvGiQ8/89LEG7ebXFZtEBcEQAAEQAAEQAAEQAAEQMBOAtBs7aRrQ9pJ32S798CRAZk5iVdoKce5y97q7um1AS2SBAEQAAEQAAEQAAEQAAEQcCsBaLZuqrnunt6pC1aSjqeo2p591W4qAGQFARAAARAAARAAARAAARAAARsIQLO1AaptSSZ9k61tJUPCIAACIAACIAACIAACIAACIBA7AWi2sbNL/JO1dRfTMjy0Zjt07MyHLY8SLwZyBAEQAAEQAAEQAAEQAAEQAAFHEYBm66jqiCDMpl2VpNYqqoaTbCPwwm0QAAEQAAEQAAEQAAEQAIH+QQCarWvquafXN31RKa/ZYpOtayoPgoIACIAACIAACIAACIAACNhJAJqtnXQtTdvb3Jo7ahppthnPvHypvsHSHJAYCIAACIAACIAACIAACIAACLiSADRb11TbpfqGjGdeJs0Wm2xdU3MQFARAAARAAARAAARAAARAwGYC0GxtBmxd8p8friG1VlG1pWvf9/sD1iWPlFKKwO2mB+NmL1tdvqPX50upgqEwIAACIAACIAACIAACIBCKADTbUFQcee3Lo6fIMfJAz4hzl+odKSaEcgSBbRX7FVV7On/CX+cv5ydEEAYBEAABEAABEAAB5xOYu+yt7p5eRwyqIIR7CECzdU1d9fp8H1UdyiuY8+rCVVev3XCN3BA04QQ6u7onzC1WVG3i3Def/v8mOP/rBQlBAARAAARAAARAgCfwzEsTb9xuSvgYChm6mwA0W3fXH6QHASOBq9duZOWOVlRtd+XBr89eWF2+w76/ZeveH/7Xohf/fRb/N3XBytKNtmQ6d9lbeQWzR/z1tWXrNtlRqJK3t4569XW+LC/++6zxc4pX/X27Hdmx4uSPm/P6qo12pM+nWVq+49WFK20tDp8dNQybGgMVh6+sBDQMm4rDo1tdvsPuhpHgds4aQ2LaOdGzrzHwlUUk7e4l+HZuH0l6rewrDk/P7l6CzysBDYMaA19Z9pFM5GtVunHH1AW/fT6G/7Vo2br3BbD2/fz67AVd142DHFwBARMC0GxN4OAWCLiSwJ591YqqZeWOxtq+K+sPQoMACIAACIAACIAACERPAJpt9MzwBAg4mECvzzd7yTpF1SbMLe7s6nawpBANBEAABEAABEAABEAABCwjAM3WMpRICAScQKDx5t1BeeMVVdu0q9IJ8kAGEAABEAABEAABEAABEEgAAWi2CYCMLEAgcQTY6VAZz7x8qb4hcbkiJxAAARAAARAAARAAARBIKgFotknFj8xBwFICvidP5hWvV1Rt5OQFbR2PLU0biYEACIAACIAACIAACICAcwlAs3Vu3UAyEIiWwN373pw/TVFUbcPmPdE+i/ggAAIgAAIgAAIgAAIg4F4C0GzdW3eQHAREAkdqziqqpmYN+fb7K+I9/AYBEAABEAABEAABEACB1CUAzTZ16xYl62cE/P7A0rXvK6o2dOzMhy2P+lnpUVwQAAEQAAEQAAEQAIF+TQCabb+ufhQ+lQg0PXiYO2qaomolZVtxuHkq1SzKAgIgAAIgAAIgAAIgEJEANNuIiBABBNxBoLbuYlqGJy3Dc+xUnTskhpQgAAIgAAIgAAIgAAIgYBEBaLYWgUQyIJBUArqul5RtVVQt509T7t73JlUWZA4CIAACIAACIAACIAACiSYAzTbRxJEfCNhBoLWtfXhhkaJqi1Zt9PsDdmSBNEEABEAABEAABEAABEDAsQSg2Tq2aiAYCERB4Nvvr6hZQxRV+/xwTRSPISoIgAAIgAAIgAAIgAAIpAQBaLYpUY0oRL8nsGHzHkXVnnlp4o3bTf0eBgCAAAiAAAiAAAiAAAj0OwLQbPtdlaPAqUegrePxyMkLFFWbV7ze9+RJ6hUQJQIBEAABEAABEAABEAABcwLQbM354C4IuIDApfqGjGdeVlRt38HjLhAXIoIACIAACIAACIAACICA1QSg2VpNFOmBQMIJbNpVqahaVu7oq9duJDxzZAgCIAACIAACIAACIAACyScAzTb5dQAJQCAeAp1d3RPmFiuqNnXByu6e3niSwrMgAAIgAAIgAAIgAAIg4FIC0GxdWnEQGwT+m8CVn37JfH6komrbKvYDCgiAAAiAAAiAAAiAAAj0TwLQbPtnvaPUqUNgz75qRdUynnn5Un1D6pQKJQEBEAABEAABEAABEACBaAhAs42GFuKCgMMIdPf0Tl2wUlG1gllLOx53OUw6iAMCIAACIAACIAACIAACCSIAzTZBoJENCNhBoPHm3UF54xVV27SrMlz6j9o7Nu/et7p8h/P/fvz5erhS2H393KX6bRX7f7l5x+6MkD4I9CsC6H9kqhv9jwwlxAEBEACBiASg2UZEhAgg4FwCnx+uUVRNzRpy7lJ9OClr6y4qquaKv5KyrbquhyuITdd1Xd938Hh6dn5ahmfjB58kXgCbyoVk3U5A1/Ufrl7b8ckBCydcdF2vb2hcsua9p/MnsD7h6fwJs5esq6272Nfnt4MY+h9zquh/zPngrq0E2joeHzpxuvLLYxa+/oFA4PS5y7OXrPvd4LGKqqVleJ4bPmnJmvd+uHotEAjYWhwkDgLBYBCaLZoBCLiVgO/Jk3nF6xVVGzl5QVvH43DFIBdTzlduc0dNa3rwMFxB7LgeCAR2Vx5My/Aoqra6fIeFX3c7pEWa/YpAT69vztJ17ECv0+cux192b3Pr9EWl4fqB7BcLjtfWWT6zg/7HpOLQ/5jAwa0EEDhz/nJ6dr6iaotLyzu7uuPP8Zebd4YXFoXrZPLHzf3+yk/x54IUQMCEADRbEzi4BQKOJnDjdtMzL01UVG39pt0m41Fd1yuqqpnyxn9v0jI8X508Y3kJH3d2Nbe2eZtb6y7+55Gasxs275m+qJQWiHgBQoY/P1xjuUjhEuSHldMXlVryXQ+XF66DQAwEOh53TXv9N100PTs/TrWzofHW4DEz0jI8M99Y8+33V5pb2+57Wz4/XDNkzEx6E5nZgrXzO+h/wtU7+p9wZHA9YQR0XT9eW8eU22mvl8bpreP0uctZuaMHZOYsX7/lh6vXmlvbbjc92PWPL7NfLKBOJj07f9/B4yYjloSVHRmlKgFotqlasyhX6hM4UnOWmfrU1l00L21nV3fItZpBeePrGxrNn7Xqru/Jkx+uXltTvpNtDKbvnBCYvWRdr89nVaYm6fAD7mET59/3tphExi0QSBaB+96WYRPnx6nceptbhxcWpWV4dlceFAwCu3t633xrM72GaRmeiqpqa8ed6H+MjQf9j5EJriSFAN8U41FuGxpvDcobH3IOruVR++TXSqiTSc/OP3nmfFIKi0z7AwFotv2hllHGFCTg9wcWrdqoqNrQsTMftjyKWMI797w5I6fSp4UCk18rSfBaZSAQ+OHqtTlL1/06s0tiUCDz+ZFXfvolYnHij3DyzHk2UZ35/EgcmBQ/T6RgH4H6hkY2HxTbiFDX9be3fsQMDkOuxwqapx1vBPofoXmg/xGA4GcSCfT1+VeX72Bf4djMl3p9vqLlZb96/diypyrkvBjN0LFcckZOvXPPm8QiI+sUJgDNNoUrF0VLZQJNDx7mjpqmqNrSte/7/VJeGWgsRWokCyRrf+nNO/deW1FmNJPeVrHf7pq7523OK5jDir+78mDIL7HdMiB9EJAn8Nmhk+xNicHOgvUV5nNG9Q2NWbmjqWeQ71Xki4D+h1ih/yEUCDiEQGtb+ytTFsY8JGDb6c09ZRyvrVOzhlAnk4APvUPYQowEE4Bmm2DgyA4ErCFw7FRdWoYnLcNz7FSdZIp+f2Dtux/Sd4UCsS0ESWZqHi0QCBz9+lt+E05Eh1jmCcrc7e7pnfnGGlb8cbOXtXd0yjyFOCCQRAJ9ff6Ssq2s0Q4vLPI2t8oLU3P2AnswPTv/7a0fdff0Gp8ld3Qs5jMvTbxxu8kYLZ4r6H8YPfQ/8bQiPGsfAZreSsvwfLz/cFQZfbj3C9Z1PPXCqI/3Hw5pG9LW8Xjk5AUsWgI+9FHJj8ipRACabSrVJsrSXwjous6GuTl/mnL3fhQmPZ1d3fx2F/rGPDus8Potiwey8pVxz9tcMGspCaNmDfn2+yvyj0cbk5a/1KwhNWcvRPs44oNAUgjwBr1R2Vls2lVJL5eiauGWSj757Cs+2pGas5YXE/1PMBhE/2N5u0KClhDQdX3LnirWCURlG0J7o9izJhPuq97ZTp1MxjMvYx+QJRWHRAQC0GwFIPgJAi4g8LDl0dCxv3k0XbRqo6QpMpWKMZpkDwAAIABJREFU9uzRB4YFYttdQ8nGGSAfsEwY+w625dWDouVlifFWFSccPA4CjMCefdXsBVGzhhyvlTXWWLFhC/+yT19U2tMbwknbuUv1vK3gpl2VdmBH/0P+DtD/2NHAkGY8BB48bHlpwjzWXcj74Oju6Z26YCXfyax6Z3tIMT4/XMNHs2P6LGS+uNivCECz7VfVjcKmCIFvv7/CxqCxnZFDiwb8N8bE90NiqPHKrfl2nZjlIVc6zNPsd5fqY04KD4JA4gnwe+HkbZKFNdtw02FXr93gt9qu2LDFpgKi/0H/Y1PTQrLxE6DXU94mWVizVVQt3LxYbd1FftSxZ191/AIjBRAQCECzFYDgJwi4gMCGzXsUVYt5LxzvCJH/zCRxwy2DTguqJuZM8VQPP3ZP2PFC8QiMZ0FAIEDjTvmpKHYaB3vTB3pGnAszocO/HYqq2afZov9RVA39j9Cw8dMhBPjpM3kPxrV1F9lZA4qq5fxpSrhd+tBsHVLLqS0GNNvUrl+ULgUJkBuGeMZGggt+0m+TfrIruU+cV7ze9+SJhfXn9wdok49NmrOF0iIpEAhJoLWtfXhhEXth5cedza1tOz45sK1iv8lJG2fOX+Ydldu6nIL+R97zX8hmgIsgYB+BfQeP05Ag3Ck+xtxv3rn37o69H+8/3NzaZrzLrgib+WvrLoaLiesgEDMBaLYxo8ODIJAcArQdbt/B4/FIcKm+IfP5kfQBo0Byd3/19fkXl5YrqjYob3zjzbvxFFB4tvHmXXYoqKJqwwuLWtvahQj4CQKuILCtYj+9reHcQcVQENrE++tqsJo1JNzSbgwph3wE/U9ILLgIAkknQGcKKqpm4c4g8nzJuq+Yjc6SzgcCOJwANFuHVxDEAwGRANs1l5U7+uq1G+K9aH7rul5RVc2v0rDvTVqGp6KqOolHvLKT8RRVs3bViNcH1m/ancQCRlNLiAsCIgF+jsaqcWdnV/eEucWkME+YW9zZ1S1mbOlv9D+W4kRiIGAZAV3X12/aTb2BVdNnvMKsqJodh2ZbhgAJuZkANFs31x5k738EOh53sQNypi5YGfJcyqiQ8Ccr0mdMUbWs3NH1DY1RJWVh5F6fb9OuyryCOYtWbYy/jEww3oYzAetRFtJAUiAgEBDOno3TdoMlTk7pmHOjxFgJov8RahY/QcAhBMg0zEITJ97IeVDe+IbGWw4pLMRIMQLQbFOsQlGcFCdA65lWTaPe8zbnFczh1VoWlve86gritXUXaXUapsiuqDIIaUKAPzwj/kku4ZjZt7d+lDCLBvQ/JrWMWyCQLALkzkNRtbQMT/xTXfybnpbh+ezQyWQVDfmmPAFotilfxShgShFgJrXWHnF+8sx58mrIq7iry3f09flTAJ+wvce+w3JTgBWK4AoCN243PfPSRPa2Zj4/8spPv8QstmAVvLi03G47ZEFU9D8CEPwEAScQYEcwsE4mTsth3h16WoZn4wefpMbQwgnVBBmMBKDZGpngCgg4lACdh14wa2nH4y6rpORPeeU125SZWH3Y8mjo2JlUtNgOAbaKNtIBgfgJUFfAWnU8Fhy8J6fEq7XBYBD9T/ztASmAgOUEeEOnOPfzf3XyDLOZglpreTUhQSMBaLZGJrgCAg4lQAdOhjsGPWa5O7u6py8qJd2PAoPyxidxw23MxREe5LcMPfXCqB9/vi5EwE8QcB0BfkUlZoNkOn0nLcOzpnxnr8+XFA7of5KCHZmCgAkB3jAkHoPk+oZGdirBgMyciqrqQCBgkilugUD8BKDZxs8QKYBAgggwBww2OUCizw+ptSww+bWSBFsnWk6TeZNmxckrmIPzfiwnjAQTT6Dm7AV6VWM7P6PlUfvk10oUVRuQmbPz0wPJtQ9E/5P4JoQcQcCEQFd3z6Si3/oH9rdh8x6TyOFu3bjdxBx5DPSMOHTidMI28IeTB9f7AwFotv2hllHGVCBADlFHTl7Q1vHYjiKRyRB9zFhg7bsf+v1unWclbqws0xeV9vRasDCl6/rVazfWlO/8459fZXZWfxgxeU35zpt37hmrpunBw7fe3/WHEZOZFvHKlIWHTpxO1vqYUTxccSOBn6/f+v3Qv9CrWnP2QlSloGVS54w40f9ErMHOru5tFfv/+OdXmV+foWNnVlRVRzXz2Nfnb21rf9xp2WaWiDIjgnsJrHpnO/Uwk4pKurp7oioLmYQ8O6zw/OUfo3oWkUEgZgLQbGNGhwdBIKEEyDTIvrNYeTcP9D1jp4CcPHM+oaW1LrPWtnbe+fOqd7bHn/b1W03jZi/jEVF4QGbOhs176LCivj5/RVV1SAddr0xZeOeeN35hUjKFXp/vo6pDzIYtPTv/z1PN5gLaOzq/PHpqwtzi3w0eyypiQGZO/ri5m3fve/CwJRyfvj5/bd3FRas2Pjd8EpubkHkqXGqJvy407KhWVHp9PjZmddSIE/2PeSs6f/nHZ4cVUldDgWeHFUqebU4ppGV4tlXsxwIaAfc2t76x+l3WUf9u8Nj5b26ob2gMyUfX9Vt377+3c+9LE+ZRxz7QM2LC3OKvTp6hnp9SpkB7R+feA0f4bkrmKXo8KYFPPvuKmlm0hiEdj7umvf7bFqfhhUU3bjclRX5k2j8JQLPtn/WOUruPADvnI57tLjJl9ja3Di8soo8ZBXJGTnWpGvbjz9efemEUFWTPvmoZDuHi6Lp+6MTpgZ4RLMFBeePfWP3u6vIdb6x+l89l+qLSzq7uvj7/2nc/ZFpT9osFKzZsEWK+MmUhTKONqLt7et98azNVGQWMIyRvc+vi0vIBmTkURwiEtLMNBAJHv/42+8UCITL9TMvwlJRtNRmkGmVO/JWeXh+/N17eGIEUyMFjZoQ8UvKet7lsS8WhE6cTXyj0P+GY15y9wLqdAZk5UxesXF2+Y+K8N6nFyvQk/JneiqphXwahJotZ4smWxIVOQNf185d/DPl9pAdDThV1dnVv2LzHpJtyjt0EMWGBM+cvs+8XA3Lm/GUhQrifZBJSMGupt7nVGK2h8dbq8h3fXao33sIVEIiTADTbOAHicRBIBAG/P7Bo1UZF1YaOnfmw5ZGtWdY3NGbljqZPNQWYtmZr1nYkzm9HVFQtnnP5dF3/eP9hNkAZPGbGd5fqeWcY3ubW0dMWEa415Tt3fnqADQtmvbGWfFn39fm/OHKKJvv3HTxuR6ndm6bfH1j77odsIDXzjTX/+OJo/ri5RJWOWdZ1/ZvvLpF2OiAzp2DW0tXlO4S5A5ZORVU1Lb+0PGonhTAtwzN07Ew247Biw5bnhk+ijBRVc36DX7FhCwksqaj09fm3VexPy/AMmzg/3FxVbd1FRdXinAOKuQWi/zGio03Ig8fMIAd4wpxdxJ6Ed3WrqFoMxqVGwVLgCk2mDPSM2LB5z6ZdlTRxqaga7cTp9fnKt39K2ulAz4j/KHmbdThTF6yk64qqCW4XaZ2cWT+Nn1PMnnptRRl9BYzdlEPAktNK1s988tlXMoLR1OS010vpwyc8uGdfdZyfYyFB/AQBIgDNllAgAALOJXD3vjfnT1MUVYvzWDmZEgrnW9LQOS3Dw2sIMkk5IQ77grJSxHkOMB28Ofm1kpZH7cbSHTtVx89w/++n/p+gIHmbWwvnLyekiqotWrXRvXuYjQTiv/Ldpfr07Py0DM/uyoNs4uDKT79kPj+SoDEryn0Hj7Nx4UDPiN2VB4X1VWGWgU58pcWZAZk5JWVbmx485AXu9fl4XTGJ2h0vlUmYb9tZuaMjmqTSqx1uIYXl9eHeL5I46CQhqcZZoN/2P+0dnWzvw3PDJ127cZvag6B1FL+1iaZvKA4f4J1pK6pmyb4MPn03hunEqUF543+4eo0VgR0az1od6zp+NcBZXFrOruSPmyvMaQaDwdPnLvN91IS5xZ1d3bquVx//hnVT2S8W7D1wROimbjc94HfKyLzCCYbc3No2ZMz/HJi3YsOWiAKQSYjJEWK6rhe/tcmB5Y1YOkRwBQFotq6oJgjZ3wkwlSktw3PsVF0CWPT6fEXLy4SRJZtydp35EK+rxPMpvX6riW1yo2VDY0UIY01F1bJyR9OxSX19fhoeEduYz2sx5p4CV6jhjZu9rL2jk5VIGF39+4w3Nu2qZIsk0xeVhjR1CwaDzHqfOJeUbb3nbR42cb6iaiEtBllel+obMp55mZ6yz1ubJZV1pOYsiZqW4TG3FdR1/XhtXXp2frh5GSYS87gWz5sSf9GoGVDpWCA9O78f9j9s/kLNGnK89l86f6GtmvckwgHIiqodqTkbf025PQXq1bfsqaJ5AWazQG1v7bsfzlm6jjn/2/7x5yE9/wl+CtmmIZoJnb6oNORMaDAY5P32/7pyG9Vu+QTA73jcVTBrKaGIuOUhEAjsrjyYluF5863NghrPS9vW8Xjk5AVDxsxsbm3jryMMApYQgGZrCUYkAgI2EvD7A0vXvq+oWs6fpty9nyCfQ+TVkL5qLDBs4vz73rBeeWykEFPSZMXNhM8dNS2cImSevN8fYB53BEsz4SmjZsu7+yIfYDzSiCstQhap/ZOWZ3nTSkGzJXrmgydh3J8zcurIyQvY9kITdyZCXslV8CLWtTAE//xwjckjbJz9l5lLbt6519zaFvLvdtOD/dUnsnJHx/ymmAgQ1S30PwxX04OHuaOmKapWtLxM0Kn4FXtF1eYVr/c9eRIOstD54FhvBootzw7KG9948y6hE14r1uGkZ+dXH/+GtF+KTAFBR/3LzCXMAZ55NyXkZT49QXklLCBMiJjP9JG1xcK/vXPf2xKyh2lubWu8eXf7x5+rWUNgD5+weuxvGUGz7W81jvK6j8DDlkdDx/5mEZRgy9Xauov8RiDSKErKtib36Ev5KhQ+zDFPEpPKyk/tG8UQtCnB3df3V34SeCZsEd4oqjOvsNGh4IST4FMLFGy8Q5Yl5FPmExPBYFDQbJNolBuyUMJFYaelyc5Y2qjJMzQJF8xaGm6DnCCDfT/R/wSDQTrD/Nvvr/CoO7u6J8wt5mtw065KPoIQ5pf3FVUzV1GEZ1P1Jy1ICpMCwpSB5CZY41My3ZSg2cb8hbKpjpjZMDUzc/FojZrimwcSPJ6xCRGSdSABaLYOrBSIBAL/QoA8f5ivyfzLM1b80HV9d+VB48cpLcPz8f7DVuRgexqCZivpZUcQS9f19Zt2/7ZmHslBtGABK6yxC8smMuMeQZLU/hluoCn4AFNUTcZwwKjZpmV4vjp5xpyhuzRboYzhdsHduedlZtjGdzncFWGsbw7Nprvof6j7Yvs2ec5k3cBqkHaS83H4MH8waeInSXlJnBOmiUj+wyrocgzv6vIdESdzjZptxO9FMBh0uGYbDAYlt/P8cPUaW6MO16UYrzvN9No5LROSxEkAmm2cAPE4CNhLgNQqYSHL3lz/mTr57hc+SxHXvv6ZQJL/L5z5GZutF62Zm7vvMg6JBPVA1/Wq6hPM8WZahmfh394Jt/kqydSSlD0NNHlTZONWtPTsfBkH18KQUVG1xaXlEYenwuyDmjXknIPPpfj5+q3fD/0LvZvhNFt+bEqRzQMOcS/Uz/sfmrkwrscK7qDMezaaM6JKl3Rym6SeIEHZMgsRwRTZyMrEsQIvqPCWycyjGd0BOHAtnZ8TCbc7g6ZgqIHJBNAI+faDsIUEoNlaCBNJgYD1BJivBUXVZi9ZJ+yzsj6zUCmSjw3hW8X7+An1nCOuCUtw5uO/cBLf97aMn1OcVzDn9Dmz0/yopgjUh3u/MKbpe/KkubXNxLuG8ZF+cuWTz75SVE3YASic2iqpoAaDQWEJ5dlhhddvNUUkee5SvZo1hGrw90P/8vP1WxGfSlYEoXmHs+4TxtxUOpMAv4qVrNKxfPtz/1Pf0PhyYdHLhUXkhY4xEU6mVVRNmAwSqow0ZFbjcbqIFxJ36U/qWITdnsJskaSCalTtjPuiQ4ISZigiumgKmYitF/mONFzLMRbfpG9htxw+aWgrUiRuNwFotnYTRvogEBcBGmqbj13iyiPSw+H2z9BZf5ESSNp9Yegfm2YrKb0wfEz8l7u7p3fusrciDiksjzB32VuWKOp79lUPHjOjaHlZZ1c3MafzrqIaDwmew+TNL/lhnPO3IyayeVONJD6A/kdgTvtT2EsR0ZxH2GRr1aHoP1+/xdzFW96lmCQ4IDNn74EjApAYfnZ2dRctLxs8ZoawO11gJbmIKnRTkq6njQqhAw10hS5Rxl4mhurAIyBgIQFothbCRFIgYD0BNqcbzgrI+vxCpUgn1AkDDuPur1BPJ/NaIof+wpAo8d5lBUtaobLs+xlxYB1PC6CZHSa/sHU5XMpkQE6lllmEFI7ukNeHw4lh9/VENm+7y2KSPvofHg65yqe2HW6tnj2l63pJ2VaKHNGLMp+XeVhwK8BnYWtY2OVhLmS0d4VFVHO2lHi0cw3sQWOP7cCjmKDZUi0j4BYC0GzdUlOQ09EE+vr8lixbCYWkPT+2LjYKmYb82d7ROW72Mn684oqttokc+vP7kSwcPoasjpAXdV3/+uyF1eU7Evz39dkLJodhhBRV/uKHe7/gW52ktR5t2WXPhjOiE8QwLrzI6MNCIon8mcjmnchyGfNC/0NMhFYa0b86fUToPQq5S4LSlw909/TurjyY4N5mw+Y9t+7elxcyqphd3T2TikoIlKJqkntBhSN/JF2LC5Ohtk4RRsWBjwzNlqeBsCsIQLN1RTVBSEcTYMe4fVR1yHIpaYC+rWK/5YlHmyB/cEh6dv7JM+ejTSHx8RM29Ldv+Jh4aM7J0biIanSlE1JatmWXRqiSPrGFhRfBtUzIjJJ7MWHNO7nFZLmj/2EcBHUod9S0pgcPTSoo6bskTGRz2i1hEVVyRoy27FKHI+OAzbiWnixXGua1AM3WnA/uOpAANFsHVgpEchMBXdf3HTyenp1vh4kUO0de8vtqN7XbTQ/yCuZIHu5ntzCS6QsKp31L34LfkcRvspUE4q5oglGxcD5wuLLEtsmWnJDT8NS+1hJO8miv9yvNFv1PMBiMoW0LmrCkPX+0TTE14gtzW5IbkoVVdMlNtkY3YMKOX4cghWbrkIqAGPIEoNnKs0JMEAhBgLybWD5i6OzqnjC3WFE1SdOmEMJZd+m+t4UdiZmW4amoqrbP+tQ6kX9LSXDRIbl2F4MMGD7GAC3iI2SzwLRNSWs94agnRdVkhoxuGWjy0ATNVtJUm0/BLWH0P6ymYlCikr5Lwi1tzHjAmORs9Znzl9MyPDQjJukU49vvr/Bu2CWfSjxMXrNNy/CcOW92QEDixUOOIGAkAM3WyARXQECWAG8gJ7mgJJt0MEhWZJIWmPIpRxuTP1VS5sz6aNO3L76g2Q4ZM7O5tc2O7AS/I5JDIjskSaU0+UGVomrC+RzhSirow5ImD8JAM/P5kVd++iVcFg65LlgKhDvP1iHSxiwG+h9CJywqRpzrEYxWFFVL+teEyuK0gPCxUFRNckNyDJtsjRYijnXHyM+MOFb9dlpbgjzJJQDNNrn8kbuLCdAyAk3WlpRttXAxkw3rk27Xyjsmnb6olD+RxRWVxx/maZO/Ygwf7WgJRsNLySMxBJetMiaFxj1vUQ00A4HA6XOX/1q0Ij07Py3DM3TszIqqanpTAoHAiW++e7mwKC3Dk56dv2jVxrv3vZYQo8kv1gWlpGaL/odvKoISFXGuR5j7SPrXhC+L08LCergkK6MvAJlhgLDPQlE1SVca3ubW0o3bB3pGsH7m6NffBgKBcCT7+vwX/7Phu0v1vT5fuDgRr/MfUGi2EXEhghMIQLN1Qi1ABvcR4JcRSLOVPPtOprS9Pt/sJeuSfqImc47FTK2GTZx/39siI7yj4vCrqXF+mLt7ekN6wBaGjxFNtrp7eheXlg8eM6Pyy2OOYuUoYYyDP5kjMYz6sMz6uTEvGQNmhqvlUfv0RaWKqqVn5+eOmvbc8EnsfRleWHTjdlOvz8cWPX43eOzgMTOezp+gqJpVfsV//Pn6Uy+Mov4n9Zbj0P/wr6SxbUf0VIRdEjxA87CwHi65vUjQhxVVk3GoLuQl+WG6eu3Gs8MK0zI8zw2fxHoSk81Bfn9g7bsfss5h4wefmJc93F1d14vf2kQ9jCSTcKnhOggkhgA028RwRi4pRYBfRqBOX1E1SbtHGRbkpHH9pt0WrgPLZM3HoV3EVo3F+cQTE+bd5MZcQd9f+Sl/3FzmPWv+mxtoOY4VIdrhI5nLyoyBEkPJgbkQJfaKRTS8ZEVo63g8cvIC/q2U0VGPnaoz3yl343bT6GmL8grmfPv9FZ4VM9xIz87fXXmQZj3orSmYtXTZuvcVVVv1zna2bPLLzTusIS1d+77fH3axhc/CJFxbdzHakpqk5sBbRLKf9z+saozmsuYdiNESIYV3YsffeoX1cJkZsWAwKBy4LaOjGk8kNjqr+/LoqcFjZkxdsJK2z7CuZlDe+B+uXgsGgzSrFc45Nq9yS5pVGxkKTc6+7TzGrHEFBGImAM02ZnR4sJ8S4JcR+GElC8sMo2XAMYtKNWuIMJKWedaqOLSL2C1n/IQsuDD6r627GDKaycXvLtWnZ+fzdc1bjskMU/jEaYeV8w+V4cVOfJifkpD3oybowzImhcalMOPxG+x9FGZGmOGG8e0QTsUkG/6asxcGekawhmSJMzNhSiWGtp34apXPEf2PwEpQMxRVM69x7JIQAJr8NJ7cI2kBIejDMnZbvM7JeoN9B4/zspGFMzmP7Ovzl5Rt5bsa2okQzkSIloXDReBzDBcWmpBRAw/3IK6DQBIJQLNNInxk7UoCtIwwbOL8ya/9y6nuiqpJTvSal5w+bDJbBM2Tivku7SI2sXeKOfFEPiiYCkc79UAeqnnNlt/QaDRkNTcRbLx5d1DeeEXVLFm1SyTJROZl1DbNqZJsgj4s8wbFMNBk2X126GRahmd35UHBqoLXQGhyShg605iVJI8hwHvYeuqFUT/+fD2GRJz5CPofY73w7Yp1R+aaLSk/LLLMLI8x035yRegEJLVB4aVWVE1mk60wIWWc4iSLLdKuL9U3ZD4/ctU728nQgxIJJyptw5G0dglZ0YL39eK3Ngl9XcincBEEkksAmm1y+SN3lxGgZQRmHUdfF1J7LNmIQl9Zmc+kHQT5XcTucoZspCGcASOpIFE6gmLMKpp3ZSQYspqfMdPX519cWq6omitc7xKExAeMRsX2bbIV3mLjK0yTEfxaPTsl6JUpC1vb2gU+/EIHreHwFxVVe3vrR/GPEXnnLjZ5RxOKlpif6H9CcjbqUTVnL4SMGQwGjVtmjA073LP98LpgVCzJir7UNAAwtw+XPJF438Hj/DeCWZXznwx+4i+kNTLf28QziSZMjsRs1dwPWxSKnEQC0GyTCB9Zu4wALSOQURDNrdKHTfKUdvOSs6F2Wobn2Kk685h23OWHRGRIaUdGiUmTFsBZHUW700w4q5ANOC7VNzDhydEX3wDCLQvzduyWKDaJAZiUXGgXGQP7+6F/+fn6rYiSCLMY5rMMlBotbrC8BLMLXdff3voRc/vUePMuPcWM/ULWNd8t0OSUrusf7z88IDMnLcOzZM17wlZtSlY+IOg50TZs+YwSHBP9jwlwoa2G0zT4roa6JqFhm+TSD299uPcLAqWomuTbJHwdZDbZGufsBGW4ta39lSkLFVWjPRHMLIj31h6yh+FrjY8Q7WQunw5fwHCLw3x8hEHACQSg2TqhFiCDCwj4/YGSsq3Mh1BFVTVbbzGah0naI5kUmPZtSk4bmyQVwy1+SORSZ8jGUvOjlmj3NwoqVnp2/r6Dx2m1jdmj8kMiRdUWrdpINmMkjK7r+w4eZ/t1U2C+gMplU0A4uUdy2UHYZCtsiw0nKr/yaVSG6xsas3JHG1dZL/5nw7r3dt243WRMll8EFoat3T29jzu7jI/EcEVQ43k7ghhSc8gj6H/MK+LKT79kPj+SOhxSfvin+K6GYuIkWx6REBZmP+VZCZtsZbopwb5XUIZ1Xd9deZA5Wv/uUj2Ts7m1beMHn/DT3GxRV1E12uwglIjvgmSsXYTH6Se/uSMeq2ZKEAEQSAABaLYJgIwsUoRAy6P2ya+VCNa52yr286OH+M/poX2bIRUku1HSLmL3OiM1IuItzaLdjsiMTlkVz39zw80791j6uq4fr60jTfXQidPkZSrz+ZHnL//Ii9HZ1b3uvV2uPjyJL47dYaNPV0m1jR+HKaoms8k2GAzyEx+CVx4yi80rmHPP2yxZcFpYE4atko9LRhPs5E0MUyUTdEI09D/mtcAvaAvTrOzB9o5O6mr4DxM22ZqApW8uIybJSjCakJzUFtzLCd6GabtTSdnWvj5/SJn5+XTa7CDEZCeNKaoWZxdE6SiqFvHwZEEG/ASBZBGAZpss8sjXlQSe9PUJ3xthmSj+s3/IpWE8U62xwaXP6kDPiNQYKDMOwsBFWEaLyOrj/YeZUjogM2dxafmRmrNfHj316sJVvKbKrzWxGfcVG7YcO1V3pObsG6vfJaW3YNZSb3NrxBz7eQR+kxgba8q8C/zeM/aU5NyQsA5GLb/jcdfrKzey2jx55rxkpfAj13DjTsmkzKPVnL1AqktqLKeg/zGvcXb3vreFWauy2k/L8LxcWLTy7x+sLt8x7fVS6mqobbBAKm3DlqEUVRzhIy5pLWXcZCvTTQWDQX42nK+XH3++PnjMDEXVzK2l+P6KXEzx5eX7z3i6IL4r+3UaRXJ6kZcEYRBICgFotknBjkxTh4Bx24zRoFG+tLRalfihKjsFPtpxvHzR5GP2+nxvvrV58JgZi1ZtpDNC5R83xiQDbzbIo62Pxpghr/T1+de++yF/3imNGgvnLydNNRAI/OOLo3SsC8VhgQGZOeXbP2WHmobMBReJgDBklHwX+PEcYy45hUFuvdhTY6YvPlJzduenB54bPom9Drz9OQkZLsALb6srUVoZ5rfkhZPK+dfR/8jXUcuj9oV/eydkj6QHCM4WAAAUIElEQVSo2kDPiIqq6tKN2/kuCJtsTfDytrvyBxwI+rBkNxUMBu/c8+aMnMpqJy3D87e3tx07VbdiwxY2KzF4zIyGRjOfAuQRPdxuC96aI9qPHU+J36wbzuyZj48wCDiEADRbh1QExHArAdJF+WFEzMe+ke1rggci5BzLCWf80Jx0SPc8sTUU3oPx8MIioz9b82R1Xa9vaJz/5obfDR7LKjp/3NwT33wXCASEB9meqD+MmEwDl6FjZ27eva+5tU2IiZ/hCPAjM/njkYTzmV6aMO/Bw5ZwWQjXvc2tBbOW8q8wC2e/WPDNd5doW7XwVMifZHOhqJqkah0yHfOLvEWiomrCeZjmzzrwLvqfaCtF1/Xrt5rKtlQMHTuTLEryx83dVrG/vaPTON9qYV8arajOj8/vYpB33EjfKdZX8EfyRCzy6XOX2e59oc8pnL/cfNcD/+KHW4/lFfV4uiC+K4vhoxkRAiKAgE0EoNnaBBbJ9iMC/IeEfajkp28FTLQjNJFDVdpMqKiasItYEC8BP2l9Nc4NQoKovEGy5DYqIQX8TBgBvz/wyWdfDfSMGJCZU/zWJnk3wmfOX85+sUBRtXGzl926ez8qgXt9vkMnTr8yZeGAzBy28LV+0+4Y5iPIqUy0O7qjkpZfTjGehxlVUkmPjP7H8ioQlhPDLe5Znq9LE3zU3rFo1ca0DM9TL4zaX31Cciarr8//3s69AzJzfnV4vmHznmjNi4Q50D/++dUvj56KaNTDv/jhnB6TNUecXRClo6ja+k27JbG4tA1A7FQiAM02lWoTZUkOAf5jQ1OwkltuBInZtySRQ1XeJYkTfPayI+kVVYt53VtAyn7qur5+026qHXynQ1LCxTgJyKyo1NZd3Lx736P2jnjy4n1Hh3SQG0/iiXwW/Y/ltIW+LjWM1S2n5NIE+WN4Qo4x+E0Z4RZ1ZcrOL/vDFFmGGOI4hwA0W+fUBSRxKwHjmQGSbhKFAtO3xFqlTsiF/8n7PTL3WsE/ZV/Y29w6vLCI6Z+Wm8/xxmOwrbKvEvtJyve8zYXzlyuqlj9u7i8377BS85NcIf1XMZNpSafN4UjyHY688WS41JJ4Hf2PJPxen6/yy2P54+Y+9cKoVxeuMrdHuH6r6dlhhTSL5+oWIsmn/0SjTbbh1mP5rRzx7PMn8zFF1fijdPsPapTUvQSg2bq37iC5gwjQ94bGEzFMl5IJmeVKXThSjjpjo7Ore87SdQygHavWvKMgjPbCNQlclyHAr83yHuP4jQkh3+Jvv7+iZg2J02Sg8ebdQXnj2Zvi6jka9D8yjY3vGFmlj3r19faOzpDP6rr+9taP6DOkqFrR8rKINq4hk8JFBxKgkUa43Tp8FxTzJlth2T+Re6McyBwiuY4ANFvXVRkEdiIBUkppSBHDZk62Qy/z+ZFXfvolAYWkMzbSs/PlDzWxSbBen48/Os8mA0sydYaFnk312E+SvXrtBu8A5pPPvgoGg7RFnHUCtXUXBRqdXd2TXyt5dljh9VtNwq2ofvKnhrh30In+R1Lh3HfwOH1WWCCcVhMMBr+7VM8f/DMob7y5o92oGh4iJ50AObsK2Qb4LevhFnVlitD04GHuqGmssbl67kymsIiTegSg2aZenaJESSBAhsT8ECTkWXPhhCPPrgWzlnY87goXzarrjnJGSgeHEj2bxuv8sm16dv53l+qt4ol0+hUB3lSPzPjrGxp5dVfYBcc2lMbve5zcpyuqFpX/Z0dVEPofyf6Htzyn7jGcNTtRZTGdMGXpqFaXAsLwe2pC9jDUSGKwGiM+/GRKSNsTiokACDiQADRbB1YKRHIfgfjP/qFVoKj04dhI8TO7SXeG/MvNO7S3ln2V7TBFJlANjbfIkhN2eoQFgagI0H7axaXl7EDjO/e8wybOH5Q3/t0de9miGe+PreVR+2sryizxPf7ZoZPslJe0DM9nh05GJbZDIqP/YR2dTP8j2L0rqpaW4dn4wSdGR7Utj9onv1ZCik16dn5U5zA7pG1ADHMC/OTspKISmgT3NreyHoYaQMybbFvb2l+ZspCl88qUhdGekGcuP+6CQAIIQLNNAGRk0S8I8Cemsq9CVGf/sP0zCTiewTnOSDu7ujds3sMOWaHvsd12wrqu7648yLJTs4bUnL3QL1onCmkpAXJ9lJ6dP+310tdWlKVn5w/0jKg5e0HX9Y/3H2at+rnhk1Zs2DJ1wcpfzwVJy/C89f6uaI8GEaTmB53jZi8Lt9lSeMpRP9H/RNX/+P2BRas2Uvc4IDPnvZ17+/r8Qp3e8zbzBzKnZ+dXH//GqP0KT+GnGwnwUxjp2fm5o6Y9N3zSr/MdAzJznhs+iZpKzJts+bmzr06ecSMiyNzPCUCz7ecNAMW3jMDd+96cP02h7woLCPZC4TKjifl4LIjCJc5fDwQCuysPsjWfaa+X0owvHycB4ebWtnc++HigZ4SAi/2M+ZMsKTm/ZORS9UCypIhmH4FAIHDim+/Y+bcDMnPmLF1HHmt1Xb/4nw1/LVrBFm9/N3jskjXv/XLzTvyaBvmPkbRlta/4saWM/icYDEbb/9CcaebzI0+eOS+0ol6fb++BI7wZ/OAxM76/8lNsFYSnXEGAHb7956kLqYcpKdt68869krKt7BsacheuTNEePGx5acI8loiMTYFMmogDAgkmAM02wcCRXcoSCLkhqqRsqzAQCVl+cna6YfOekBEsuUgLTYqq0eZAS1KWSSQQCNy9762qPvFyYRFTrUOqtVEtdMvkGzIOb5O8u/KgTB2FTAcXQSBhBO7c8+aMnMremrXvfuj3BxKWtSUZof8hjFH1P/wqt6Jqf/zzqys2bFldvmN1+Y43Vr/71AujqCP91TRgw+Y9nV3dlBEC/YcAvwM/tnN6dF3fsqeKNSf4Hus/LSf1SgrNNvXqFCVKGgFaUaGhRjhXH4KInx+uUVTN7vPQE3PGRndPb3NrW3NrW31D44nT5yqqqlds2JI/bq7R6pgo8YF5xet9T54IfOz4STQynx95qb7BjiyQJghYRaCvz08LMpNfK3Gj9kJv3KC88fUNjVaREdJJyf6nu6c35MYN6jnTs/NX/v2D/7+9+32tq77jAA73H+jTwXnkozJ8MIIXyoZ2InRph2VOLWgDZV2ZSm3cuh+U1a5WNmyp0zzpwGZ0CJpCHzSUiZUxzXAGmSFgspVQSy3VrV3bLEtN1l82uR144HC99ybe3t6bnPP9vp7dn+d8P6/P5d68c875fs9fnKzRcDcYgfn5+X+cPN3XP/DqkTcuz8zW11V9FnFrV+Bnc+AlXWuHhkfqd+ERAoUQkGwL0SaDLIZAa2v/ZAd7Ozq9frbGRvbHUD5vdPpU5OyTtLxHkLJhuEGgGYHsz9aOxsJmRtLaa3z/1Li18P1zcXKq//XB6v8Sfmv95p17D/zl/dE7vH67Zmzu5k2gUqkc+MOR7Fyn3S++UnPKxr8v/efBTT9Jf9N7d+1v4fNQfQ3/ss8rmTd/4ymWgGRbrH4Zba4FWlv7J5tntclTl1sgqFkNIp+ZtpSUH3j0yXMXLrVQYGtvuXlz7tDhY+mfC9Uz2ba2Ne8i0CGBLBYWdB0X3z8NPxi+fxqyeLBeoGYWj5ozm6qv3G7tOqPqM979FNb7e6RYApJtsfpltHkX6OsfqMmNT+14YfF/oP753b+lazkMj4x1orzqn72aseXt7s69B2r+Fd0JkOptVv9x6R/V1TJu50Qgi4UFnfDW988iHyTfP4vgeCoTyBYFLCXl+x7acvL02eypq9euP/9Sf/pT3r1x26kzn2ZPNXmj+vSBJ37xm6npz5p8o5cRyKeAZJvPvhhVUQWGR8ayU4bSH5vFp0TKFnVY89jWDl0lNXHqzKrvbspbiG04niankm7vh6NSqQweH7pr1fqFFops7+5sjUDzAjOzV7b+cl8pKd+1av3Q8EgRpzrz/bN4u33/LO7j2XQ+7c3b95SS8q/7fp9dY1+pVCZOndn49LPpj+nTO/e1EEorlcrQ8Eg6x/IyLpegywTaKCDZthHTpgjcqjlrKP3JWeTa0fMXJ9c8trWUlOuvnKG5lAKj4xOHDh/r3MQ2S1mLfYUhcPXa9d5d+0tJuWvN4++P/j2MolTRUMD3T0MWD2YCJ0+fve+hLaWk/PXVj3Rv3Na9cds93T3pHxjffvhHb//1g/n5ViZLHx4ZS2Pts/t+l2XmbKduECiigGRbxK4Zc34Fsumgqo9JLnKSbXaMd1kOV+bX0cgIRC8wNzf/4YmPXj3yxsef/Ct6DAAEYhf435Wrhw4fW9fTm54Xdk93z8+e7xsdn2gt06aak1PTb7793tE337l5cy52X/WHIiDZhtJJdeRGoPm1fyqVSrqSxxLPnJQbKgMhQIAAAQIECBAg0B4BybY9jrZCIBOonuwhPXKbdK0dHZ/IXpDdmJyaXtfTW0rKNVMdZi9wgwABAgQIECBAgACBZgQk22aUvIbAbQjMzF7Z9Mzu6rORS0n54GtH6zfxwYcnkq61paS8yIW49e/yCAECBAgQIECAAAECNQKSbQ2IuwTaIFC/9s/m7Xvqp2dIX/bNB39w5pNzbdirTRAgQIAAAQIECBCIVUCyjbXz6u6kQDYvVHbktmvN49Vr0N26devyzOyGJ3aUkvKPf/Xb6zdudHI4tk2AAAECBAgQIEAgcAHJNvAGK29ZBJpZ+2d0fCI9FXlg8K1lGaSdEiBAgAABAgQIEAhGQLINppUKyZFAM2v/HHztaLpSZc2x3ByVYSgECBAgQIAAAQIECiIg2RakUYZZNIHB40PZqcjpjXU9vZNT02kd2SxTDa+/LVqtxkuAAAECBAgQIEBgmQUk22VugN2HKrD42j8nPvr47vs3lJLyocPHQhVQFwECBAgQIECAAIElE5Bsl4zajuISyI7KVh+57esfSBUGBt8qJeWV935/fOJUXC6qJUCAAAECBAgQINABAcm2A6g2SeALgfq1fzY9s3tm9srVa9ef2vFCKSmnd2kRIECAAAECBAgQIHCHApLtHQJ6O4EFBRZa+yc7UTk7hLvgJjxBgAABAgQIECBAgEATApJtE0heQqAlgYXW/kknl0q61o6OT7S0YW8iQIAAAQIECBAgQOBLApLtlzjcIdBGgYZr/2x/7qXeXftLSfnhLT//7+XP2rg7myJAgAABAgQIECAQrYBkG23rFb4UAulMUdWTSH3tG99ZsXJ1KSm/fPD1SqWyFIOwDwIECBAgQIAAAQKhC0i2oXdYfcsqkF1SWx1uS0l5xcrVwyNjyzo0OydAgAABAgQIECAQjoBkG04vVZJDgYZr/5SS8rqe3smp6RwO2JAIECBAgAABAgQIFFFAsi1i14y5SAL1a/+UkvLuF1+Zm5svUhnGSoAAAQIECBAgQCDHApJtjptjaEEI1K/9s2Ll6nfeGwmiOEUQIECAAAECBAgQyIWAZJuLNhhEwAL1a/888OiT5y5cCrhkpREgQIAAAQIECBBYYgHJdonB7S46gfq1f3buPeBU5Og+BwomQIAAAQIECBDopIBk20ld2ybwhUDN2j9//NO7YAgQIECAAAECBAgQaKOAZNtGTJsi0Figeu2fe7/3w7P/PN/4dR4lQIAAAQIECBAgQKAlAcm2JTZvInA7AtVr//x0z8s3Pv/8dt7ttQQIECBAgAABAgQIfIWAZPsVQJ4m0BaBbO2fweNDbdmgjRAgQIAAAQIECBAgkAlIthmFGwQ6KDA8Mnb3/Rs2b9/z6bkLHdyNTRMgQIAAAQIECBCIUkCyjbLtiiZAgAABAgQIECBAgEBAApJtQM1UCgECBAgQIECAAAECBKIUkGyjbLuiCRAgQIAAAQIECBAgEJCAZBtQM5VCgAABAgQIECBAgACBKAUk2yjbrmgCBAgQIECAAAECBAgEJCDZBtRMpRAgQIAAAQIECBAgQCBKAck2yrYrmgABAgQIECBAgAABAgEJSLYBNVMpBAgQIECAAAECBAgQiFJAso2y7YomQIAAAQIECBAgQIBAQAKSbUDNVAoBAgQIECBAgAABAgSiFJBso2y7ogkQIECAAAECBAgQIBCQgGQbUDOVQoAAAQIECBAgQIAAgSgFJNso265oAgQIECBAgAABAgQIBCQg2QbUTKUQIECAAAECBAgQIEAgSgHJNsq2K5oAAQIECBAgQIAAAQIBCUi2ATVTKQQIECBAgAABAgQIEIhSQLKNsu2KJkCAAAECBAgQIECAQEACkm1AzVQKAQIECBAgQIAAAQIEohSQbKNsu6IJECBAgAABAgQIECAQkIBkG1AzlUKAAAECBAgQIECAAIEoBSTbKNuuaAIECBAgQIAAAQIECAQkINkG1EylECBAgAABAgQIECBAIEoByTbKtiuaAAECBAgQIECAAAECAQlItgE1UykECBAgQIAAAQIECBCIUkCyjbLtiiZAgAABAgQIECBAgEBAApJtQM1UCgECBAgQIECAAAECBKIUkGyjbLuiCRAgQIAAAQIECBAgEJCAZBtQM5VCgAABAgQIECBAgACBKAUk2yjbrmgCBAgQIECAAAECBAgEJCDZBtRMpRAgQIAAAQIECBAgQCBKAck2yrYrmgABAgQIECBAgAABAgEJSLYBNVMpBAgQIECAAAECBAgQiFJAso2y7YomQIAAAQIECBAgQIBAQAKSbUDNVAoBAgQIECBAgAABAgSiFJBso2y7ogkQIECAAAECBAgQIBCQgGQbUDOVQoAAAQIECBAgQIAAgSgFJNso265oAgQIECBAgAABAgQIBCQg2QbUTKUQIECAAAECBAgQIEAgSgHJNsq2K5oAAQIECBAgQIAAAQIBCUi2ATVTKQQIECBAgAABAgQIEIhSQLKNsu2KJkCAAAECBAgQIECAQEAC/wcRAA3KeO31DwAAAABJRU5ErkJggg==)\n",
        "\n",
        "*r takes value between -1 (negative correlation) and 1 (positive correlation).\n",
        "*r = 0 means no correlation.\n",
        "*Can not be applied to ordinal variables.\n",
        "*The sample size should be moderate (20-30) for good estimation.\n",
        "*Outliers can lead to misleading values means not robust with outliers.\n",
        "\n",
        "Syntax:\n",
        "pearsonr(x, y)\n",
        "Parameters:\n",
        "x, y: Numeric vectors with the same length"
      ],
      "metadata": {
        "id": "ykOoPAxOA8BF"
      }
    },
    {
      "cell_type": "markdown",
      "source": [
        "15. **What is causation? Explain difference between correlation and causation with an example.**\n",
        "\n",
        "Ans: causation refers to the relationship of cause and effect between one event or action and the result.\n",
        "\n",
        "*correlation vs causation:*\n",
        "1. it's important to note that correlation, where two variables move together, does not necessarily imply causation.\n",
        "2. Correlation simply shows a relationship between two variables, while causation indicates a direct influence where a change in one variable directly results in a change in another.\n"
      ],
      "metadata": {
        "id": "XvD2LjFDBuut"
      }
    },
    {
      "cell_type": "markdown",
      "source": [
        "16. **What is an Optimizer? What are different types of optimizers? Explain each with an example.**\n",
        "\n",
        "Ans: Optimizers are mathematical functions which are dependent on model's learnable parameters i.e Weights & Biases. Optimizers help to know how to change weights and learning rate of neural network to reduce the losses.\n",
        "\n",
        "*Types:*\n",
        "1. **Gradient Descent:** Gradient Descent is a popular optimization method for training machine learning models. It works by iteratively adjusting the model parameters in the direction that minimizes the loss function.\n",
        "2. **Stochastic Gradient Descent**\n",
        "Stochastic Gradient Descent (SGD) updates the model parameters after each training example, making it more efficient for large datasets compared to traditional Gradient Descent, which uses the entire dataset for each update.\n",
        "3. **Adam(adaptive moment estimation)**\n",
        "Adam combines the advantages of Momentum and RMSProp. It uses both the first moment (mean) and second moment (variance) of gradients to adapt the learning rate for each parameter.\n",
        "4. **RMS propagation (Root Mean Square propagation)**\n",
        "RMSProp improves upon AdaGrad by introducing a decay factor to prevent the learning rate from decreasing too rapidly."
      ],
      "metadata": {
        "id": "IAr3d3CdCaQX"
      }
    },
    {
      "cell_type": "markdown",
      "source": [
        "17.**What is sklearn.linear_model ?**\n",
        "\n",
        "Ans: Scikit-learn is a Python package that makes it easier to apply a variety of Machine Learning (ML) algorithms for predictive data analysis, such as linear regression.\n",
        "\n",
        "Linear regression is defined as the process of determining the straight line that best fits a set of dispersed data points:"
      ],
      "metadata": {
        "id": "ejRkVmp3D97v"
      }
    },
    {
      "cell_type": "markdown",
      "source": [
        "18.**What does model.fit() do? What arguments must be given?**\n",
        "Ans: model.fit() is a method in Keras, a popular deep learning library, used to train a neural network model.\n",
        "\n",
        "model.fit() trains the model on the provided data, optimizing the model's parameters to minimize the loss function.\n",
        "\n",
        "*Arguments to model.fit()*\n",
        "Here are the main arguments:\n",
        "1. *x*: The input data, which can be:\n",
        "    - A NumPy array\n",
        "    - A Pandas DataFrame\n",
        "    - A list of NumPy arrays or Pandas DataFrames\n",
        "    - A generator yielding batches of data\n",
        "2. *y*: The target output data, which should have the same number of samples as x.\n",
        "3. *batch_size*: The number of samples to include in a single batch. Default is 32.\n"
      ],
      "metadata": {
        "id": "7dScU96jEmS7"
      }
    },
    {
      "cell_type": "markdown",
      "source": [
        "19. **What does model.predict() do? What arguments must be given?**\n",
        "\n",
        "Ans: The output of the model.predict function from Keras represents the model's predictions or estimated probabilities for the input data.\n",
        "\n",
        "The model.predict function in Keras is used to generate predictions from a trained neural network model. The output of this function typically represents the model's predictions or estimated probabilities for the input data.\n",
        "\n",
        "When you call model.predict on a set of input data, you receive an array or tensor containing the model's predictions for each input sample. The shape of this output tensor depends on various factors, such as the number of input samples and the number of output units in the model's final layer."
      ],
      "metadata": {
        "id": "V2UqvI9pGnER"
      }
    },
    {
      "cell_type": "markdown",
      "source": [
        "20.**What are continuous and categorical variables?**\n",
        "\n",
        "Ans: a continuous variable can take any value within a given range, while a categorical variable represents distinct categories or groups.\n",
        "\n",
        "*Continuous Variables:*\n",
        "* These variables are numerical and can take on any value within a specified range, including decimals and fractions.\n",
        "* Examples include height, weight, temperature, or time.\n",
        "\n",
        "*Categorical Variables:*\n",
        "\n",
        "* These variables represent categories or groups, rather than numerical values.\n",
        "* Examples include gender (male/female), color (red/blue/green), or type of car (sedan/SUV/truck).\n"
      ],
      "metadata": {
        "id": "_xAQVYXJHGf7"
      }
    },
    {
      "cell_type": "markdown",
      "source": [
        "21. **What is feature scaling? How does it help in Machine Learning?**\n",
        "\n",
        "Ans: Feature scaling is a crucial data preprocessing technique in machine learning that transforms the values of numerical features to a common scale, ensuring that all features contribute equally to the model's training and performance.\n",
        "\n",
        "*Improved model performance:* Ensures all features contribute equally, leading to more accurate and reliable models.\n",
        "\n",
        "*Faster convergence:*Gradient-based algorithms, like those used in neural networks, can converge much faster with scaled data."
      ],
      "metadata": {
        "id": "0XcpRdZ8IDjK"
      }
    },
    {
      "cell_type": "markdown",
      "source": [
        "22. **How do we perform scaling in Python?**\n",
        "\n",
        "Ans: Feature Scaling is a technique to standardize the independent features present in the data. It is performed during the data pre-processing to handle highly varying values. If feature scaling is not done then machine learning algorithm tends to use greater values as higher and consider smaller values as lower regardless of the unit of the values.\n",
        "\n",
        "* Absolute Maximum Scaling\n",
        "* Min-Max Scaling"
      ],
      "metadata": {
        "id": "81rD1gDrIy00"
      }
    },
    {
      "cell_type": "markdown",
      "source": [
        "23. **What is sklearn.preprocessing?**\n",
        "Ans: In the context of scikit-learn (sklearn), \"preprocessing\" refers to the techniques used to transform raw data into a format more suitable for machine learning algorithms, including cleaning, scaling, and encoding data.\n",
        "\n",
        "Preprocessing aims to make the data more robust, consistent, and usable by machine learning models.\n",
        "\n",
        "*Techniques: *\n",
        "* Cleaning: Handling missing values,removing duplicates & correcting inconsistencies.\n",
        "* Scaling: Transforming data to a uniform scale (e.g., standardization, normalization) to prevent features with larger ranges from dominating the learning process."
      ],
      "metadata": {
        "id": "hpnKR-wUJWV8"
      }
    },
    {
      "cell_type": "markdown",
      "source": [
        "24. **How do we split data for model fitting (training and testing) in Python?**\n",
        "\n",
        "Ans: First, we need to divide our data into features (X) and labels (y). The dataframe gets divided into X_train,X_test , y_train and y_test. X_train and y_train sets are used for training and fitting the model. The X_test and y_test sets are used for testing the model if it’s predicting the right outputs/labels.\n",
        "\n",
        "Syntax: sklearn.model_selection.train_test_split()"
      ],
      "metadata": {
        "id": "D_XCxmfwKNSl"
      }
    },
    {
      "cell_type": "code",
      "source": [
        "# example\n",
        "import numpy as np\n",
        "import pandas as pd\n",
        "from sklearn.model_selection import train_test_split\n",
        "\n",
        "# importing data\n",
        "df = pd.read_csv('Bikram.csv')\n",
        "\n",
        "# head of the data\n",
        "print(df.head())\n",
        "\n",
        "X= df['Head Size(cm^3)']\n",
        "y=df['Brain Weight(grams)']\n",
        "\n",
        "# using the train test split function\n",
        "# The train_test_split function returns 4 values, so you need to assign them to 4 variables.\n",
        "# In your original code, you were trying to assign them to X_train, X_test, y_train, y_test in two separate lines.\n",
        "# This is not how Python syntax works. You need to assign them in one line.\n",
        "X_train, X_test, y_train, y_test = train_test_split(X, y,\n",
        "                                   random_state=104,\n",
        "                                   test_size=0.25,\n",
        "                                   shuffle=True)\n",
        "\n",
        "# printing out train and test sets\n",
        "\n",
        "print('X_train : ')\n",
        "print(X_train.head())\n",
        "print('')\n",
        "print('X_test : ')\n",
        "print(X_test.head())\n",
        "print('')\n",
        "print('y_train : ')\n",
        "print(y_train.head())\n",
        "print('')\n",
        "print('y_test : ')\n",
        "print(y_test.head())"
      ],
      "metadata": {
        "colab": {
          "base_uri": "https://localhost:8080/"
        },
        "id": "lQDMY6sqK2lW",
        "outputId": "65de6438-57c7-40b9-99c3-12eb1fab8c06"
      },
      "execution_count": 2,
      "outputs": [
        {
          "output_type": "stream",
          "name": "stdout",
          "text": [
            "   Head Size(cm^3)  Brain Weight(grams)\n",
            "0             4512                 1530\n",
            "1             3738                 1297\n",
            "2             4261                 1335\n",
            "3             3777                 1282\n",
            "4             4177                 1590\n",
            "X_train : \n",
            "99     3478\n",
            "52     4270\n",
            "184    3479\n",
            "139    3171\n",
            "107    3399\n",
            "Name: Head Size(cm^3), dtype: int64\n",
            "\n",
            "X_test : \n",
            "66     3415\n",
            "113    3594\n",
            "135    3436\n",
            "227    4204\n",
            "68     4430\n",
            "Name: Head Size(cm^3), dtype: int64\n",
            "\n",
            "y_train : \n",
            "99     1270\n",
            "52     1335\n",
            "184    1160\n",
            "139    1127\n",
            "107    1226\n",
            "Name: Brain Weight(grams), dtype: int64\n",
            "\n",
            "y_test : \n",
            "66     1310\n",
            "113    1290\n",
            "135    1235\n",
            "227    1380\n",
            "68     1510\n",
            "Name: Brain Weight(grams), dtype: int64\n"
          ]
        }
      ]
    },
    {
      "cell_type": "markdown",
      "source": [
        "25.**Explain data encoding?**\n",
        "Ans: In machine learning, data encoding transforms categorical or textual data into a numerical format, enabling machine learning algorithms to process it effectively, as most algorithms work with numerical inputs.\n",
        "\n",
        "*Types of Categorical Data*\n",
        "\n",
        "* Nominal Data: Nominal data consists of categories without any inherent order or ranking. These are simple labels used to classify data.\n",
        "*Ordinal Data:Ordinal data includes categories with a defined order or ranking, where the relationship between values is important.\n",
        "\n",
        "**Techniques to perform Categorical Data Encoding**\n",
        "\n",
        "1.  *Label Encoding:*\n",
        "Label Encoding assigns a unique integer to each category. However, it does not respect the order of the categories, making it more suitable for nominal data where the order doesn’t matter. For ordinal data, Ordinal Encoding is a better choice as it preserves the ordinal relationship."
      ],
      "metadata": {
        "id": "4Ld5Jp28Ld3h"
      }
    },
    {
      "cell_type": "code",
      "source": [
        "from sklearn.preprocessing import LabelEncoder\n",
        "\n",
        "data = ['Low', 'Medium', 'High', 'Medium', 'Low']\n",
        "\n",
        "# Create LabelEncoder object\n",
        "le = LabelEncoder()\n",
        "encoded_data = le.fit_transform(data)\n",
        "print(f\"Encoded Data: {encoded_data}\")\n"
      ],
      "metadata": {
        "colab": {
          "base_uri": "https://localhost:8080/"
        },
        "id": "LWu7Py2XMgPp",
        "outputId": "a2541205-9e9e-40db-e802-a67e36231b1c"
      },
      "execution_count": 3,
      "outputs": [
        {
          "output_type": "stream",
          "name": "stdout",
          "text": [
            "Encoded Data: [1 2 0 2 1]\n"
          ]
        }
      ]
    },
    {
      "cell_type": "markdown",
      "source": [
        "2.*One-Hot Encoding*\n",
        "One-Hot Encoding converts categorical data into a binary format, where each category is represented by a new column. A value of 1 indicates the presence of that category, while 0 indicates its absence.\n",
        "\n",
        "ordinal encoding, target encoding binar encoding etc.\n"
      ],
      "metadata": {
        "id": "CuTgNH02Mn6J"
      }
    }
  ]
}