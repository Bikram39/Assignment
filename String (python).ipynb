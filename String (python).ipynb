{
  "nbformat": 4,
  "nbformat_minor": 0,
  "metadata": {
    "colab": {
      "provenance": [],
      "authorship_tag": "ABX9TyP7I4e/ZcFS6zDv/YITuhjT",
      "include_colab_link": true
    },
    "kernelspec": {
      "name": "python3",
      "display_name": "Python 3"
    },
    "language_info": {
      "name": "python"
    }
  },
  "cells": [
    {
      "cell_type": "markdown",
      "metadata": {
        "id": "view-in-github",
        "colab_type": "text"
      },
      "source": [
        "<a href=\"https://colab.research.google.com/github/Bikram39/Assignment/blob/main/String%20(python).ipynb\" target=\"_parent\"><img src=\"https://colab.research.google.com/assets/colab-badge.svg\" alt=\"Open In Colab\"/></a>"
      ]
    },
    {
      "cell_type": "markdown",
      "source": [
        "String is a sequnce of character==> represent and manipulate textual data\n",
        "\n",
        "character are represented using numerical values >> each character is assigned a unique"
      ],
      "metadata": {
        "id": "mDGHFfFxHzIv"
      }
    },
    {
      "cell_type": "code",
      "source": [
        "char = 'A'\n",
        "ord(char)\n",
        "char1 = 'a'\n",
        "ord(char1)"
      ],
      "metadata": {
        "colab": {
          "base_uri": "https://localhost:8080/"
        },
        "id": "OAmpSiOBG86m",
        "outputId": "05f3f672-561f-476e-8fde-027951ab6b90"
      },
      "execution_count": 3,
      "outputs": [
        {
          "output_type": "execute_result",
          "data": {
            "text/plain": [
              "97"
            ]
          },
          "metadata": {},
          "execution_count": 3
        }
      ]
    },
    {
      "cell_type": "code",
      "source": [
        "'\\u03A9'#Omega"
      ],
      "metadata": {
        "colab": {
          "base_uri": "https://localhost:8080/",
          "height": 36
        },
        "id": "n3s6kHkzHA45",
        "outputId": "2d683d77-6662-4612-c9b1-647376b97206"
      },
      "execution_count": 4,
      "outputs": [
        {
          "output_type": "execute_result",
          "data": {
            "text/plain": [
              "'Ω'"
            ],
            "application/vnd.google.colaboratory.intrinsic+json": {
              "type": "string"
            }
          },
          "metadata": {},
          "execution_count": 4
        }
      ]
    },
    {
      "cell_type": "code",
      "source": [
        "'\\u03A3'"
      ],
      "metadata": {
        "colab": {
          "base_uri": "https://localhost:8080/",
          "height": 36
        },
        "id": "K-rYbypFHcIH",
        "outputId": "264fca60-b635-4b7b-dc38-3fd5b5693d3d"
      },
      "execution_count": 5,
      "outputs": [
        {
          "output_type": "execute_result",
          "data": {
            "text/plain": [
              "'Σ'"
            ],
            "application/vnd.google.colaboratory.intrinsic+json": {
              "type": "string"
            }
          },
          "metadata": {},
          "execution_count": 5
        }
      ]
    },
    {
      "cell_type": "code",
      "source": [
        "'\\u0973'"
      ],
      "metadata": {
        "colab": {
          "base_uri": "https://localhost:8080/",
          "height": 36
        },
        "id": "VXcw8I6LHkf3",
        "outputId": "32d890a7-0966-4334-f492-f377b25efe0e"
      },
      "execution_count": 6,
      "outputs": [
        {
          "output_type": "execute_result",
          "data": {
            "text/plain": [
              "'ॳ'"
            ],
            "application/vnd.google.colaboratory.intrinsic+json": {
              "type": "string"
            }
          },
          "metadata": {},
          "execution_count": 6
        }
      ]
    },
    {
      "cell_type": "code",
      "source": [
        "string = \"bikram\"\n",
        "type(string)"
      ],
      "metadata": {
        "colab": {
          "base_uri": "https://localhost:8080/"
        },
        "id": "k0QeIvTtJiM5",
        "outputId": "83c75419-6e6f-414e-8187-ee04d7f155bb"
      },
      "execution_count": 7,
      "outputs": [
        {
          "output_type": "execute_result",
          "data": {
            "text/plain": [
              "str"
            ]
          },
          "metadata": {},
          "execution_count": 7
        }
      ]
    },
    {
      "cell_type": "markdown",
      "source": [
        "concatenation of string >> combination of two string"
      ],
      "metadata": {
        "id": "XERBSQo2KbrA"
      }
    },
    {
      "cell_type": "code",
      "source": [
        "\"Bikram\" + \" Midya\""
      ],
      "metadata": {
        "colab": {
          "base_uri": "https://localhost:8080/",
          "height": 36
        },
        "id": "YV8mIvA_KvCJ",
        "outputId": "d232a390-462f-4650-e00a-69771eb027ca"
      },
      "execution_count": 9,
      "outputs": [
        {
          "output_type": "execute_result",
          "data": {
            "text/plain": [
              "'Bikram Midya'"
            ],
            "application/vnd.google.colaboratory.intrinsic+json": {
              "type": "string"
            }
          },
          "metadata": {},
          "execution_count": 9
        }
      ]
    },
    {
      "cell_type": "code",
      "source": [
        "string1 = 'bikram'\n",
        "string2 = 'midya'\n",
        "string1 + \",\"+string2"
      ],
      "metadata": {
        "colab": {
          "base_uri": "https://localhost:8080/",
          "height": 36
        },
        "id": "FSiPYAGUK5E2",
        "outputId": "bde71414-d214-4fa0-ff2e-aceb46fd1579"
      },
      "execution_count": 10,
      "outputs": [
        {
          "output_type": "execute_result",
          "data": {
            "text/plain": [
              "'bikram,midya'"
            ],
            "application/vnd.google.colaboratory.intrinsic+json": {
              "type": "string"
            }
          },
          "metadata": {},
          "execution_count": 10
        }
      ]
    },
    {
      "cell_type": "markdown",
      "source": [
        "SLICING of string"
      ],
      "metadata": {
        "id": "jmhkr2xbLjSQ"
      }
    },
    {
      "cell_type": "code",
      "source": [
        "a = 'bikram'\n",
        "a[0]\n",
        "a[-1]"
      ],
      "metadata": {
        "colab": {
          "base_uri": "https://localhost:8080/",
          "height": 36
        },
        "id": "6u_vQ3-JLnmG",
        "outputId": "6b34003a-e649-433a-daf4-a44b3c9039a7"
      },
      "execution_count": 12,
      "outputs": [
        {
          "output_type": "execute_result",
          "data": {
            "text/plain": [
              "'m'"
            ],
            "application/vnd.google.colaboratory.intrinsic+json": {
              "type": "string"
            }
          },
          "metadata": {},
          "execution_count": 12
        }
      ]
    },
    {
      "cell_type": "code",
      "source": [
        "b = \"i am a data science student\"\n",
        "print(b[0:5])\n",
        "print(b[-1])\n"
      ],
      "metadata": {
        "colab": {
          "base_uri": "https://localhost:8080/"
        },
        "id": "KMfT04cuLtZq",
        "outputId": "baa3bf27-13d5-4c42-9170-b4552acca064"
      },
      "execution_count": 22,
      "outputs": [
        {
          "output_type": "stream",
          "name": "stdout",
          "text": [
            "i am \n",
            "t\n"
          ]
        }
      ]
    },
    {
      "cell_type": "code",
      "source": [
        "s = \"bikram\"\n",
        "s[:-2]"
      ],
      "metadata": {
        "colab": {
          "base_uri": "https://localhost:8080/",
          "height": 36
        },
        "id": "TSALtzFXL-7T",
        "outputId": "ab859747-b712-4a8b-8709-e31a0d1c3d62"
      },
      "execution_count": 24,
      "outputs": [
        {
          "output_type": "execute_result",
          "data": {
            "text/plain": [
              "'bikr'"
            ],
            "application/vnd.google.colaboratory.intrinsic+json": {
              "type": "string"
            }
          },
          "metadata": {},
          "execution_count": 24
        }
      ]
    },
    {
      "cell_type": "code",
      "source": [
        "s[0:2:4]"
      ],
      "metadata": {
        "colab": {
          "base_uri": "https://localhost:8080/",
          "height": 36
        },
        "id": "eScf--qBM2tU",
        "outputId": "3a1cc296-5973-4f8a-96e7-83d039f1fb4b"
      },
      "execution_count": 25,
      "outputs": [
        {
          "output_type": "execute_result",
          "data": {
            "text/plain": [
              "'b'"
            ],
            "application/vnd.google.colaboratory.intrinsic+json": {
              "type": "string"
            }
          },
          "metadata": {},
          "execution_count": 25
        }
      ]
    },
    {
      "cell_type": "code",
      "source": [
        "H = \"hello world\"\n",
        "H[0:5:1]"
      ],
      "metadata": {
        "colab": {
          "base_uri": "https://localhost:8080/",
          "height": 36
        },
        "id": "nI22aAQaNeou",
        "outputId": "4be73612-01f1-4dc4-ce83-e079d077a255"
      },
      "execution_count": 26,
      "outputs": [
        {
          "output_type": "execute_result",
          "data": {
            "text/plain": [
              "'hello'"
            ],
            "application/vnd.google.colaboratory.intrinsic+json": {
              "type": "string"
            }
          },
          "metadata": {},
          "execution_count": 26
        }
      ]
    },
    {
      "cell_type": "code",
      "source": [
        "H[::1]"
      ],
      "metadata": {
        "colab": {
          "base_uri": "https://localhost:8080/",
          "height": 36
        },
        "id": "ZwmyhigdNoxC",
        "outputId": "a0eaa4b8-12b8-4b57-ab47-9685e7b8781c"
      },
      "execution_count": 27,
      "outputs": [
        {
          "output_type": "execute_result",
          "data": {
            "text/plain": [
              "'hello world'"
            ],
            "application/vnd.google.colaboratory.intrinsic+json": {
              "type": "string"
            }
          },
          "metadata": {},
          "execution_count": 27
        }
      ]
    },
    {
      "cell_type": "code",
      "source": [
        "H[::2]"
      ],
      "metadata": {
        "colab": {
          "base_uri": "https://localhost:8080/",
          "height": 36
        },
        "id": "5_8wk_6BN3bJ",
        "outputId": "b31d1227-34dd-43c6-ddce-f5d66774d583"
      },
      "execution_count": 28,
      "outputs": [
        {
          "output_type": "execute_result",
          "data": {
            "text/plain": [
              "'hlowrd'"
            ],
            "application/vnd.google.colaboratory.intrinsic+json": {
              "type": "string"
            }
          },
          "metadata": {},
          "execution_count": 28
        }
      ]
    },
    {
      "cell_type": "code",
      "source": [
        "H[::-1] # reverse string"
      ],
      "metadata": {
        "colab": {
          "base_uri": "https://localhost:8080/",
          "height": 36
        },
        "id": "zMHpQlFpN_YJ",
        "outputId": "32fd2f06-bd41-4591-9bff-a48dca968860"
      },
      "execution_count": 29,
      "outputs": [
        {
          "output_type": "execute_result",
          "data": {
            "text/plain": [
              "'dlrow olleh'"
            ],
            "application/vnd.google.colaboratory.intrinsic+json": {
              "type": "string"
            }
          },
          "metadata": {},
          "execution_count": 29
        }
      ]
    },
    {
      "cell_type": "code",
      "source": [
        "s = \"i am a stduent \"\n",
        "len(s)"
      ],
      "metadata": {
        "colab": {
          "base_uri": "https://localhost:8080/"
        },
        "id": "uyXVNdWHOIBV",
        "outputId": "6e0fdd18-fbfb-48a9-9e7b-065897f33dc5"
      },
      "execution_count": 30,
      "outputs": [
        {
          "output_type": "execute_result",
          "data": {
            "text/plain": [
              "15"
            ]
          },
          "metadata": {},
          "execution_count": 30
        }
      ]
    },
    {
      "cell_type": "code",
      "source": [
        "s = \"i am a student\"\n",
        "s.replace(\"student\", \"teacher\")"
      ],
      "metadata": {
        "colab": {
          "base_uri": "https://localhost:8080/",
          "height": 36
        },
        "id": "NDTPqzslOyef",
        "outputId": "3cdcc304-801d-44de-bdb7-9b110e293dbd"
      },
      "execution_count": 32,
      "outputs": [
        {
          "output_type": "execute_result",
          "data": {
            "text/plain": [
              "'i am a teacher'"
            ],
            "application/vnd.google.colaboratory.intrinsic+json": {
              "type": "string"
            }
          },
          "metadata": {},
          "execution_count": 32
        }
      ]
    },
    {
      "cell_type": "code",
      "source": [
        "v = \" 711303 Bhatora , howrha \"\n",
        "v.replace(\"Bhatora\" , \"Bgnan\")"
      ],
      "metadata": {
        "colab": {
          "base_uri": "https://localhost:8080/",
          "height": 36
        },
        "id": "1XFwFbNrO60s",
        "outputId": "fb3867fa-b719-465e-f089-fa9b705acba2"
      },
      "execution_count": 1,
      "outputs": [
        {
          "output_type": "execute_result",
          "data": {
            "text/plain": [
              "' 711303 Bgnan , howrha '"
            ],
            "application/vnd.google.colaboratory.intrinsic+json": {
              "type": "string"
            }
          },
          "metadata": {},
          "execution_count": 1
        }
      ]
    },
    {
      "cell_type": "code",
      "source": [
        "text = \" my name is bikram, my brother name is rajkumar\"\n",
        "text.replace(\"rajkumar\", \"Hagu\").replace(\"bikram\", \"bunip\")"
      ],
      "metadata": {
        "colab": {
          "base_uri": "https://localhost:8080/",
          "height": 36
        },
        "id": "LZEkj7qZ6phS",
        "outputId": "c24e1f19-3358-41b5-8a43-7f7826b498c1"
      },
      "execution_count": 2,
      "outputs": [
        {
          "output_type": "execute_result",
          "data": {
            "text/plain": [
              "' my name is bunip, my brother name is Hagu'"
            ],
            "application/vnd.google.colaboratory.intrinsic+json": {
              "type": "string"
            }
          },
          "metadata": {},
          "execution_count": 2
        }
      ]
    },
    {
      "cell_type": "code",
      "source": [
        "text = \"BIKRAM MIDYA\"\n",
        "text.lower()"
      ],
      "metadata": {
        "colab": {
          "base_uri": "https://localhost:8080/",
          "height": 36
        },
        "id": "ZhTgYejf7V6V",
        "outputId": "2a592d4d-291c-49cd-f8bf-d90499aebe28"
      },
      "execution_count": 3,
      "outputs": [
        {
          "output_type": "execute_result",
          "data": {
            "text/plain": [
              "'bikram midya'"
            ],
            "application/vnd.google.colaboratory.intrinsic+json": {
              "type": "string"
            }
          },
          "metadata": {},
          "execution_count": 3
        }
      ]
    },
    {
      "cell_type": "code",
      "source": [
        "text.upper()"
      ],
      "metadata": {
        "colab": {
          "base_uri": "https://localhost:8080/",
          "height": 36
        },
        "id": "n_NtdEAc8ibA",
        "outputId": "9d45387e-a174-409c-fddc-21d12b6b44cf"
      },
      "execution_count": 4,
      "outputs": [
        {
          "output_type": "execute_result",
          "data": {
            "text/plain": [
              "'BIKRAM MIDYA'"
            ],
            "application/vnd.google.colaboratory.intrinsic+json": {
              "type": "string"
            }
          },
          "metadata": {},
          "execution_count": 4
        }
      ]
    },
    {
      "cell_type": "code",
      "source": [
        "text.title()"
      ],
      "metadata": {
        "colab": {
          "base_uri": "https://localhost:8080/",
          "height": 36
        },
        "id": "2t6XVNxy8l5h",
        "outputId": "ae376cf5-ab66-4c8b-b28b-ef143a72f6fd"
      },
      "execution_count": 5,
      "outputs": [
        {
          "output_type": "execute_result",
          "data": {
            "text/plain": [
              "'Bikram Midya'"
            ],
            "application/vnd.google.colaboratory.intrinsic+json": {
              "type": "string"
            }
          },
          "metadata": {},
          "execution_count": 5
        }
      ]
    },
    {
      "cell_type": "code",
      "source": [
        "text = \"i am a enginner\"\n",
        "text.swapcase()"
      ],
      "metadata": {
        "colab": {
          "base_uri": "https://localhost:8080/",
          "height": 36
        },
        "id": "SlXvuV5p8tSh",
        "outputId": "21d443f2-7cf1-4921-e199-9c924d38249c"
      },
      "execution_count": 7,
      "outputs": [
        {
          "output_type": "execute_result",
          "data": {
            "text/plain": [
              "'I AM A ENGINNER'"
            ],
            "application/vnd.google.colaboratory.intrinsic+json": {
              "type": "string"
            }
          },
          "metadata": {},
          "execution_count": 7
        }
      ]
    },
    {
      "cell_type": "code",
      "source": [
        "text.capitalize()"
      ],
      "metadata": {
        "colab": {
          "base_uri": "https://localhost:8080/",
          "height": 36
        },
        "id": "j0ErH0ar80_W",
        "outputId": "f649b565-0ed6-4499-eb6d-079a53cbd658"
      },
      "execution_count": 8,
      "outputs": [
        {
          "output_type": "execute_result",
          "data": {
            "text/plain": [
              "'I am a enginner'"
            ],
            "application/vnd.google.colaboratory.intrinsic+json": {
              "type": "string"
            }
          },
          "metadata": {},
          "execution_count": 8
        }
      ]
    },
    {
      "cell_type": "code",
      "source": [
        "#string searching\n",
        "\n",
        "sent = \" i am student at brainware university\"\n",
        "sent_word = \"brainware\"\n",
        "if sent_word in sent:\n",
        "    print(\"found\")\n",
        "else:\n",
        "    print(\"not found\")\n"
      ],
      "metadata": {
        "colab": {
          "base_uri": "https://localhost:8080/"
        },
        "id": "oFyYGFf_9KXK",
        "outputId": "2b72dc8f-68c1-4595-9412-4dc427b9ca1e"
      },
      "execution_count": 9,
      "outputs": [
        {
          "output_type": "stream",
          "name": "stdout",
          "text": [
            "found\n"
          ]
        }
      ]
    },
    {
      "cell_type": "code",
      "source": [
        "email = \"bikrammidya1610@gmail.com\"\n",
        "if \"@\" in email:\n",
        "    print(\"valid email\")\n",
        "else:\n",
        "  print(\"invalid email\")"
      ],
      "metadata": {
        "colab": {
          "base_uri": "https://localhost:8080/"
        },
        "id": "YzK4mUDd9f1C",
        "outputId": "e424b439-a346-408d-9960-2f46f9fd0ecc"
      },
      "execution_count": 10,
      "outputs": [
        {
          "output_type": "stream",
          "name": "stdout",
          "text": [
            "valid email\n"
          ]
        }
      ]
    },
    {
      "cell_type": "code",
      "source": [
        "document  = \"some_file.pdf\"\n",
        "if \".pdf\" in document:\n",
        "  print(\"its a pdf file\")\n",
        "else:\n",
        "  print(\"not a pdf file\")"
      ],
      "metadata": {
        "colab": {
          "base_uri": "https://localhost:8080/"
        },
        "id": "GGVhhyoi94Yu",
        "outputId": "92ea077b-0935-43d0-a18e-d4d8c4a6d876"
      },
      "execution_count": 11,
      "outputs": [
        {
          "output_type": "stream",
          "name": "stdout",
          "text": [
            "its a pdf file\n"
          ]
        }
      ]
    },
    {
      "cell_type": "code",
      "source": [
        "# string comparing\n",
        "str1 = \"bikram\"\n",
        "str2 = \"bikram\"\n",
        "str1 == str2"
      ],
      "metadata": {
        "colab": {
          "base_uri": "https://localhost:8080/"
        },
        "id": "HYLtEeYm-Sqj",
        "outputId": "2e4c1ead-da73-4d8f-fd1f-546ef9964b1e"
      },
      "execution_count": 12,
      "outputs": [
        {
          "output_type": "execute_result",
          "data": {
            "text/plain": [
              "True"
            ]
          },
          "metadata": {},
          "execution_count": 12
        }
      ]
    },
    {
      "cell_type": "code",
      "source": [
        "str1.upper() == str2.upper()"
      ],
      "metadata": {
        "colab": {
          "base_uri": "https://localhost:8080/"
        },
        "id": "gIUQu7qy-bWg",
        "outputId": "4b8f629d-ea82-4868-dd2a-3f93fae271c3"
      },
      "execution_count": 13,
      "outputs": [
        {
          "output_type": "execute_result",
          "data": {
            "text/plain": [
              "True"
            ]
          },
          "metadata": {},
          "execution_count": 13
        }
      ]
    },
    {
      "cell_type": "code",
      "source": [
        "price_code = \"vio093o\"\n",
        "scaned_code = input(\"enter a scaned code:\")\n",
        "if price_code == scaned_code:\n",
        "  print(\"the price is 1000\")\n",
        "else:\n",
        "  print(\"ivalid code\")"
      ],
      "metadata": {
        "colab": {
          "base_uri": "https://localhost:8080/"
        },
        "id": "pYNhFjOX-kK9",
        "outputId": "68bb3284-b154-4671-dd8c-a4643a25d2f3"
      },
      "execution_count": 14,
      "outputs": [
        {
          "output_type": "stream",
          "name": "stdout",
          "text": [
            "enter a scaned code:120w0f1f\n",
            "ivalid code\n"
          ]
        }
      ]
    },
    {
      "cell_type": "code",
      "source": [
        "# string ordering\n",
        "\n",
        "name = [\"bikram\",\"hagu\",\"bode\",\"tusu\"]\n",
        "sorted(name)"
      ],
      "metadata": {
        "colab": {
          "base_uri": "https://localhost:8080/"
        },
        "id": "JgoSMnpU_SGw",
        "outputId": "00136d22-ccb2-4cec-f1c3-8ecb23d774b6"
      },
      "execution_count": 15,
      "outputs": [
        {
          "output_type": "execute_result",
          "data": {
            "text/plain": [
              "['bikram', 'bode', 'hagu', 'tusu']"
            ]
          },
          "metadata": {},
          "execution_count": 15
        }
      ]
    },
    {
      "cell_type": "code",
      "source": [
        "playlist = [\"ami j tomar\",\"ishqu\",\"janam janam\",\"dil tu jan tu \"]\n",
        "sorted(playlist)"
      ],
      "metadata": {
        "colab": {
          "base_uri": "https://localhost:8080/"
        },
        "id": "P6Shyo2c_lNW",
        "outputId": "bf80abd2-d424-4df7-8ec3-27885fc26921"
      },
      "execution_count": 16,
      "outputs": [
        {
          "output_type": "execute_result",
          "data": {
            "text/plain": [
              "['ami j tomar', 'dil tu jan tu ', 'ishqu', 'janam janam']"
            ]
          },
          "metadata": {},
          "execution_count": 16
        }
      ]
    },
    {
      "cell_type": "code",
      "source": [
        "#common string operations\n",
        "input_str = \"      Bikram      \"\n",
        "input_str.strip()"
      ],
      "metadata": {
        "colab": {
          "base_uri": "https://localhost:8080/",
          "height": 36
        },
        "id": "t3N4_sap_6GJ",
        "outputId": "ad2b6ec8-bf76-4c02-8a4d-cb300ec28945"
      },
      "execution_count": 17,
      "outputs": [
        {
          "output_type": "execute_result",
          "data": {
            "text/plain": [
              "'Bikram'"
            ],
            "application/vnd.google.colaboratory.intrinsic+json": {
              "type": "string"
            }
          },
          "metadata": {},
          "execution_count": 17
        }
      ]
    },
    {
      "cell_type": "code",
      "source": [
        "# string sppliting\n",
        "\n",
        "data = \"bikram , data science , student\"\n",
        "data.split(',')\n"
      ],
      "metadata": {
        "colab": {
          "base_uri": "https://localhost:8080/"
        },
        "id": "0PNV-D8YANL-",
        "outputId": "49cbac46-dfc4-4fc2-bfdf-2b965c989846"
      },
      "execution_count": 19,
      "outputs": [
        {
          "output_type": "execute_result",
          "data": {
            "text/plain": [
              "['bikram ', ' data science ', ' student']"
            ]
          },
          "metadata": {},
          "execution_count": 19
        }
      ]
    },
    {
      "cell_type": "code",
      "source": [
        "info = data.split( \",\")\n",
        "print(info[0])\n",
        "print(info[1])\n",
        "print(info[2])"
      ],
      "metadata": {
        "colab": {
          "base_uri": "https://localhost:8080/"
        },
        "id": "Ewc97of2Ahux",
        "outputId": "1763933f-f82d-4f91-bbc9-2f48dc839745"
      },
      "execution_count": 20,
      "outputs": [
        {
          "output_type": "stream",
          "name": "stdout",
          "text": [
            "bikram \n",
            " data science \n",
            " student\n"
          ]
        }
      ]
    },
    {
      "cell_type": "code",
      "source": [
        "#escape sequence >> speical combination of character used within a string\n",
        "address = \"\"\" 123, Bhatora,\n",
        "kulia , Bagnan\"\"\"\n",
        "print(address)\n"
      ],
      "metadata": {
        "colab": {
          "base_uri": "https://localhost:8080/"
        },
        "id": "GB9wp6qWA7qK",
        "outputId": "0a1d460c-927e-44d4-a7d3-0a391b63585f"
      },
      "execution_count": 21,
      "outputs": [
        {
          "output_type": "stream",
          "name": "stdout",
          "text": [
            " 123, Bhatora,\n",
            "kulia , Bagnan\n"
          ]
        }
      ]
    },
    {
      "cell_type": "code",
      "source": [
        "table = \"name\\tage\\tgender\\nbikram\\t20\\ta\\nhagu\"\n",
        "print(table)"
      ],
      "metadata": {
        "colab": {
          "base_uri": "https://localhost:8080/"
        },
        "id": "8UA74Pk9BcRm",
        "outputId": "a8816b71-6dc7-4199-c6a4-ce6cb9da1bbf"
      },
      "execution_count": 25,
      "outputs": [
        {
          "output_type": "stream",
          "name": "stdout",
          "text": [
            "name\tage\tgender\n",
            "bikram\t20\ta\n",
            "hagu\n"
          ]
        }
      ]
    },
    {
      "cell_type": "code",
      "source": [
        "file_path = \"C:\\\\user\\\\download\\\\files.txt\"\n",
        "print(file_path)"
      ],
      "metadata": {
        "colab": {
          "base_uri": "https://localhost:8080/"
        },
        "id": "BupHyuB0CLOO",
        "outputId": "192c22f5-7aa9-4499-f318-5f536e461afd"
      },
      "execution_count": 26,
      "outputs": [
        {
          "output_type": "stream",
          "name": "stdout",
          "text": [
            "C:\\user\\download\\files.txt\n"
          ]
        }
      ]
    },
    {
      "cell_type": "code",
      "source": [
        "# \\ single qoute escape\n",
        "str1 = \"i can\\'t go today\"\n",
        "print(str1)"
      ],
      "metadata": {
        "colab": {
          "base_uri": "https://localhost:8080/"
        },
        "id": "Uk771MLDCzFX",
        "outputId": "e9921681-7516-4d70-e759-41749a9c8880"
      },
      "execution_count": 27,
      "outputs": [
        {
          "output_type": "stream",
          "name": "stdout",
          "text": [
            "i can't go today\n"
          ]
        }
      ]
    },
    {
      "cell_type": "code",
      "source": [
        "# carriage return \\r .. moves the cursor to the begining of line\n",
        "print(\"hello, i am \\rbikram, i am going to  my home\")\n"
      ],
      "metadata": {
        "colab": {
          "base_uri": "https://localhost:8080/"
        },
        "id": "1p75ZTHBDDs5",
        "outputId": "c25d3948-2c1e-4265-e054-ec2b3036073c"
      },
      "execution_count": 28,
      "outputs": [
        {
          "output_type": "stream",
          "name": "stdout",
          "text": [
            "hello, i am \rbikram, i am going to  my home\n"
          ]
        }
      ]
    },
    {
      "cell_type": "code",
      "source": [
        "name = 'bikram'\n",
        "greeting = f\"hello {name}, welcome to python\"\n",
        "print(greeting)"
      ],
      "metadata": {
        "colab": {
          "base_uri": "https://localhost:8080/"
        },
        "id": "r5kG7_eHDd4Z",
        "outputId": "decceea9-252c-47d6-cf8a-9189682b5aa3"
      },
      "execution_count": 29,
      "outputs": [
        {
          "output_type": "stream",
          "name": "stdout",
          "text": [
            "hello bikram, welcome to python\n"
          ]
        }
      ]
    },
    {
      "cell_type": "code",
      "source": [
        "name  = \"Bidisha\"\n",
        "greeting = \"Hello %s, wish you a wonderful day\"%name\n",
        "print(greeting)"
      ],
      "metadata": {
        "colab": {
          "base_uri": "https://localhost:8080/"
        },
        "id": "Mnsve7_lECl3",
        "outputId": "52c80023-8d6d-419b-eae3-15708e5a9c17"
      },
      "execution_count": 30,
      "outputs": [
        {
          "output_type": "stream",
          "name": "stdout",
          "text": [
            "Hello Bidisha, wish you a wonderful day\n"
          ]
        }
      ]
    },
    {
      "cell_type": "code",
      "source": [
        "#.format\n",
        "temp = \"hello, {} wellcome to {}\"\n",
        "message = temp.format(\"Bikram\",\"Bidisha\")\n",
        "print(message)"
      ],
      "metadata": {
        "colab": {
          "base_uri": "https://localhost:8080/"
        },
        "id": "ekB10T5sEdff",
        "outputId": "fc3c42cc-0bff-4dc4-fca3-401e760c6f90"
      },
      "execution_count": 32,
      "outputs": [
        {
          "output_type": "stream",
          "name": "stdout",
          "text": [
            "hello, Bikram wellcome to Bidisha\n"
          ]
        }
      ]
    },
    {
      "cell_type": "code",
      "source": [
        "love = \"Bikram and you\"\n",
        "relation_time = 3.5\n",
        "f\"we are couple {love} and relation time is {relation_time} years\""
      ],
      "metadata": {
        "colab": {
          "base_uri": "https://localhost:8080/",
          "height": 36
        },
        "id": "zQS-nn8aE4mW",
        "outputId": "280e9ddc-95ae-4588-bb2f-3ae1e5b2be81"
      },
      "execution_count": 34,
      "outputs": [
        {
          "output_type": "execute_result",
          "data": {
            "text/plain": [
              "'we are couple Bikram and you and relation time is 3.5 years'"
            ],
            "application/vnd.google.colaboratory.intrinsic+json": {
              "type": "string"
            }
          },
          "metadata": {},
          "execution_count": 34
        }
      ]
    },
    {
      "cell_type": "code",
      "source": [
        "user_name = \"Bikram\"\n",
        "post_date = \"12.12.2024\"\n",
        "print(f\"Hello user,{user_name}, today is {post_date}\")"
      ],
      "metadata": {
        "colab": {
          "base_uri": "https://localhost:8080/"
        },
        "id": "Jh8tIqftFdJN",
        "outputId": "e3ca162d-e1e9-40e9-f275-e2a6f40b0cd1"
      },
      "execution_count": 35,
      "outputs": [
        {
          "output_type": "stream",
          "name": "stdout",
          "text": [
            "Hello user,Bikram, today is 12.12.2024\n"
          ]
        }
      ]
    },
    {
      "cell_type": "code",
      "source": [
        "celsius = 40\n",
        "f\"{celsius} is = to {(celsius * 9/5)+32} F\""
      ],
      "metadata": {
        "colab": {
          "base_uri": "https://localhost:8080/",
          "height": 36
        },
        "id": "VsnSxWckGBjY",
        "outputId": "c9003664-273f-4f33-bc3e-1e0e73119b9d"
      },
      "execution_count": 37,
      "outputs": [
        {
          "output_type": "execute_result",
          "data": {
            "text/plain": [
              "'40 is = to 104.0 F'"
            ],
            "application/vnd.google.colaboratory.intrinsic+json": {
              "type": "string"
            }
          },
          "metadata": {},
          "execution_count": 37
        }
      ]
    },
    {
      "cell_type": "code",
      "source": [
        "str_1 = \"IITian\"\n",
        "str_1.startswith(\"I\")"
      ],
      "metadata": {
        "colab": {
          "base_uri": "https://localhost:8080/"
        },
        "id": "yKuZ0oLzGYfB",
        "outputId": "148a84c6-6b38-4960-bb33-7ecd670b5826"
      },
      "execution_count": 38,
      "outputs": [
        {
          "output_type": "execute_result",
          "data": {
            "text/plain": [
              "True"
            ]
          },
          "metadata": {},
          "execution_count": 38
        }
      ]
    },
    {
      "cell_type": "code",
      "source": [
        "str_1.endswith(\"n\")\n"
      ],
      "metadata": {
        "colab": {
          "base_uri": "https://localhost:8080/"
        },
        "id": "nN4DbP4HGsUx",
        "outputId": "98011817-acce-428c-8d9e-d9e8fc98f01e"
      },
      "execution_count": 39,
      "outputs": [
        {
          "output_type": "execute_result",
          "data": {
            "text/plain": [
              "True"
            ]
          },
          "metadata": {},
          "execution_count": 39
        }
      ]
    },
    {
      "cell_type": "code",
      "source": [
        "str_1.startswith(\"n\")"
      ],
      "metadata": {
        "colab": {
          "base_uri": "https://localhost:8080/"
        },
        "id": "_BW2l2KqGvEb",
        "outputId": "5b073b9c-0652-4caa-e9d5-dec8a1f52a7a"
      },
      "execution_count": 40,
      "outputs": [
        {
          "output_type": "execute_result",
          "data": {
            "text/plain": [
              "False"
            ]
          },
          "metadata": {},
          "execution_count": 40
        }
      ]
    },
    {
      "cell_type": "code",
      "source": [],
      "metadata": {
        "id": "EL0g-CKkGz8s"
      },
      "execution_count": null,
      "outputs": []
    }
  ]
}