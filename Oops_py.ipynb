{
  "nbformat": 4,
  "nbformat_minor": 0,
  "metadata": {
    "colab": {
      "provenance": []
    },
    "kernelspec": {
      "name": "python3",
      "display_name": "Python 3"
    },
    "language_info": {
      "name": "python"
    }
  },
  "cells": [
    {
      "cell_type": "markdown",
      "source": [
        "### 1. ** What are the five key concept of Object - Oriented programming(oop)?**\n",
        "\n",
        "Ans: in python object-oriented programming is a programming paradigm that uses object and classes in programming. the aims to implement real world entites like inheritance , polymorphisms , encapsulation etc. the concept of oops concept in python is to bind the data and the function that work together as a single unit so that no other part of code can access data.\n",
        "\n",
        "The five key concept of oop in python:\n",
        "\n",
        "A. **Encapsulation:** in python object oriented programming , encapsulation is one of the fundamental concept in oop. it describe the idea of wrapping data and the methods that work on data within one unit. this restrictions on accessing variablees and method directly and can prevent the accidental modification of data.\n",
        "\n",
        "A class is example of encapsulation as it encapsulates all the data that is member functions, variable, etc.\n",
        "\n",
        "B. **Abstraction:** data abstraction and encapsulation both are often used as synonyms. both are neraly synonyms because data abstraction is achived through encapsulation.\n",
        "\n",
        "abstraction is used to hide internal details and show only functionalities.\n",
        "\n",
        "C. **Inheritance:** inheritance is most importent aspect of oop, which simulates the real world concept of inheritance. it specifies that the child object acquires all the properties and behaviors of the paraent object.\n",
        "\n",
        "D.**Polymorphism:** polymorphism contains two words \"poly\" and \"morphs\". poly means many and morph means shape.\n",
        "by polymorphism we understand that one task can be performed in different ways.\n",
        "\n",
        "E.**Creating object:**\n",
        " A class can function as a blueprint to create objects."
      ],
      "metadata": {
        "id": "mAoFbcUAsz8I"
      }
    },
    {
      "cell_type": "markdown",
      "source": [
        "2. ** write a python class for a 'car' with attributes for 'make' and 'year'. include a method to display the car's information. **"
      ],
      "metadata": {
        "id": "a7HR3Tai5lba"
      }
    },
    {
      "cell_type": "code",
      "source": [
        "class Car:\n",
        "    def __init__(self, make, year):\n",
        "        \"\"\"Initialize the attributes of the Car class.\"\"\"\n",
        "        self.make = make\n",
        "        self.year = year\n",
        "\n",
        "    def display_info(self):\n",
        "        \"\"\"Display the car's information.\"\"\"\n",
        "        print(f\"Car Make: {self.make}, Year: {self.year}\")\n",
        "\n",
        "# Example usage:\n",
        "my_car = Car(\"Toyota\", 2020)\n",
        "my_car.display_info()\n"
      ],
      "metadata": {
        "colab": {
          "base_uri": "https://localhost:8080/"
        },
        "id": "VEuDyTJm6Dqn",
        "outputId": "14e94078-086f-4d72-fdd2-32bee1a2adf5"
      },
      "execution_count": 1,
      "outputs": [
        {
          "output_type": "stream",
          "name": "stdout",
          "text": [
            "Car Make: Toyota, Year: 2020\n"
          ]
        }
      ]
    },
    {
      "cell_type": "markdown",
      "source": [
        "3. ** Explain the difference between instance methods and class methods. Provide an example of each.**\n",
        "\n",
        "Ans:\n",
        "**Instance method:**\n",
        "a. A method defined within a class taking 'self' as the first parameter, representing the instance.\n",
        "\n",
        "b. we can access and modify instance attributes.\n",
        "\n",
        "c. we can overridden in subclasses with 'self' referring to the subclass instance.\n",
        "\n",
        "d. commonly used for operations specific to individual instances.\n",
        "\n",
        "e. syntax: class my_class:\n",
        "    def instance_method(self, arg1,arg2,..):\n",
        "        #instance method\n",
        "\n",
        "**Class method:**\n",
        "a. A method bound to the class itself, defined with @classmethod\n",
        "\n",
        "b. we can access class attributes and modify them.\n",
        "\n",
        "c. receives 'cls' as the firdt argument representing the class.\n",
        "\n",
        "d. we can overridden in subclasses, with 'cls' referring to the subclass.\n",
        "\n",
        "e. syntax:  class C(obj):\n",
        "    @classmethod\n",
        "    def fun(cls , arg1,arg2,...):\n",
        "        ....\n",
        "fun: function that need to be converted into a class method\n",
        "returns: a class method for function."
      ],
      "metadata": {
        "id": "HPKB9prW6PNT"
      }
    },
    {
      "cell_type": "code",
      "source": [
        "# class method\n",
        "class myclass:\n",
        "  class_var = 0\n",
        "  def __init__(self , value):\n",
        "    self.instance_var = value\n",
        "  @classmethod\n",
        "  def class_method(cls , new_value):\n",
        "    cls.class_var  += new_value\n",
        "    return cls.class_var\n",
        "\n",
        "obj1 = myclass(10)\n",
        "obj2 = myclass(20)\n",
        "print(myclass.class_method(5))\n",
        "print(myclass.class_method(10))"
      ],
      "metadata": {
        "colab": {
          "base_uri": "https://localhost:8080/"
        },
        "id": "4MZ9gWeHH2IY",
        "outputId": "35f29915-5c82-4bfd-9257-5f0375812050"
      },
      "execution_count": 2,
      "outputs": [
        {
          "output_type": "stream",
          "name": "stdout",
          "text": [
            "5\n",
            "15\n"
          ]
        }
      ]
    },
    {
      "cell_type": "code",
      "source": [
        "# instance method\n",
        "\n",
        "class person:\n",
        "  def __init__(self,name,age):\n",
        "    self.name = name\n",
        "    self.age = age\n",
        "  def display_info(self):\n",
        "     return f\"hi, I'm {self.name} and I'm {self.age} years old.\"\n",
        "\n",
        "person1 = person(\"Bikram\", 20)\n",
        "print(person1.display_info())"
      ],
      "metadata": {
        "colab": {
          "base_uri": "https://localhost:8080/"
        },
        "id": "Dh5xeIYWIy0f",
        "outputId": "b73a9add-c111-4aa1-e601-6ccc69068fa9"
      },
      "execution_count": 3,
      "outputs": [
        {
          "output_type": "stream",
          "name": "stdout",
          "text": [
            "hi, I'm Bikram and I'm 20 years old.\n"
          ]
        }
      ]
    },
    {
      "cell_type": "markdown",
      "source": [
        "4. ** How does Python implement method overloading? Give an example.**\n",
        "\n",
        "Ans: two or more methods have the same name but different numbers of parameters or different types of parameters or both. These methods are called overloded methods and this is called method overloading.\n",
        "\n",
        "the problem with method overloading in python is that we may overload the methods but can only use the latestn definrd method."
      ],
      "metadata": {
        "id": "AgSLbj4aJi5p"
      }
    },
    {
      "cell_type": "code",
      "source": [
        "def product(x,y):\n",
        "  p = x*y\n",
        "  print(p)\n",
        "\n",
        "def product(x,y,z):\n",
        "  p = x*y*z\n",
        "  print(p)\n",
        "\n",
        "product(2,3,4)"
      ],
      "metadata": {
        "colab": {
          "base_uri": "https://localhost:8080/"
        },
        "id": "Lg27reCRKVJR",
        "outputId": "fe5b16fc-1790-47b1-adee-7f6201e89554"
      },
      "execution_count": 4,
      "outputs": [
        {
          "output_type": "stream",
          "name": "stdout",
          "text": [
            "24\n"
          ]
        }
      ]
    },
    {
      "cell_type": "markdown",
      "source": [
        "5. **. What are the three types of access modifiers in Python? How are they denoted?**\n",
        "\n",
        "Ans: A class in python has 3 types access modifiers:\n",
        "\n",
        "a. **Public access modifier:**\n",
        "Theoretically, public methods and fields can be accessed directly by any class.\n",
        "denoted: '_'symbol\n",
        "b.**Protected access modifier:**\n",
        "protected methods and fields can be accessed within the same class it is declared and its subclass.\n",
        "denoted: \"_\"\n",
        "c. **Private access modifier:**\n",
        "private methods and fields can be only accessed within the same class it is decleared.\n",
        "denoted: '__'"
      ],
      "metadata": {
        "id": "TECiODTkKlaY"
      }
    },
    {
      "cell_type": "markdown",
      "source": [
        "6. ** Describe the five types of inheritance in Python. Provide a simple example of multiple inheritance.**\n",
        "\n",
        "Ans:\n",
        "single inheritance , multiple inheritance , multilevel inheritance , hybrid inheritance, hierarchical inheritance.\n",
        "\n",
        "a. **Single Inheritance:**\n",
        "Single inheritance enebles a derived class to inherit properties from a single parent class,\n",
        "thus enebling code reusability and addition of new features to exisiting code.\n",
        "Ex:"
      ],
      "metadata": {
        "id": "1wDTPBYgMXhV"
      }
    },
    {
      "cell_type": "code",
      "source": [
        "class parent:\n",
        "  def func1(self):\n",
        "    print(\"this function is in parent class.\")\n",
        "\n",
        "class child(parent):\n",
        "  def func2(self):\n",
        "    print(\"this function is in child class.\")\n",
        "\n",
        "object = child()\n",
        "object.func1()\n",
        "object.func2()"
      ],
      "metadata": {
        "colab": {
          "base_uri": "https://localhost:8080/"
        },
        "id": "eX0evFZRNShS",
        "outputId": "8e469a02-a10c-44a1-fa45-a9c7a52c8b7b"
      },
      "execution_count": 5,
      "outputs": [
        {
          "output_type": "stream",
          "name": "stdout",
          "text": [
            "this function is in parent class.\n",
            "this function is in child class.\n"
          ]
        }
      ]
    },
    {
      "cell_type": "markdown",
      "source": [
        "b. **Multiple Inheritance:**\n",
        "when a class can be derived from more than one base class this type of inheritance is called multiple inheritance. all features of the base classes are inheritance into the derived class.\n",
        "\n",
        "Ex:"
      ],
      "metadata": {
        "id": "IaEOFeCFNbX5"
      }
    },
    {
      "cell_type": "code",
      "source": [
        "class me:\n",
        "  me_name = \"\"\n",
        "  def me(self):\n",
        "    print(self.me_name)\n",
        "\n",
        "class friend:\n",
        "  friend_name = \"\"\n",
        "  def friend(self):\n",
        "    print(self.friend_name)\n",
        "\n",
        "class family(me,friend):\n",
        "  def parents(self):\n",
        "    print(\"my name is\", self.me_name, \"and my friend's name is\", self.friend_name)\n",
        "    s1 = family()\n",
        "    s1.me_name = \"Bikram\"\n",
        "    s1.friend_name = \"Suman\"\n",
        "    s1.parents()"
      ],
      "metadata": {
        "id": "bIsd-6d9Ny47"
      },
      "execution_count": 8,
      "outputs": []
    },
    {
      "cell_type": "markdown",
      "source": [
        "c. **Multilevel inheritance:**\n",
        "in multilevel inheritance features of the base class and the derived class are further inherited into the new derived class.\n"
      ],
      "metadata": {
        "id": "9FLzhMQHOKbF"
      }
    },
    {
      "cell_type": "code",
      "source": [
        "class Grandfather:\n",
        "\n",
        "    def __init__(self, grandfathername):\n",
        "        self.grandfathername = grandfathername\n",
        "\n",
        "# Intermediate class\n",
        "\n",
        "\n",
        "class Father(Grandfather):\n",
        "    def __init__(self, fathername, grandfathername):\n",
        "        self.fathername = fathername\n",
        "\n",
        "        # invoking constructor of Grandfather class\n",
        "        Grandfather.__init__(self, grandfathername)\n",
        "\n",
        "# Derived class\n",
        "\n",
        "\n",
        "class Son(Father):\n",
        "    def __init__(self, sonname, fathername, grandfathername):\n",
        "        self.sonname = sonname\n",
        "\n",
        "        # invoking constructor of Father class\n",
        "        Father.__init__(self, fathername, grandfathername)\n",
        "\n",
        "    def print_name(self):\n",
        "        print('Grandfather name :', self.grandfathername)\n",
        "        print(\"Father name :\", self.fathername)\n",
        "        print(\"Son name :\", self.sonname)\n",
        "\n",
        "\n",
        "#  Driver code\n",
        "s1 = Son('Bikram', 'Dipak', 'Bholanath')\n",
        "print(s1.grandfathername)\n",
        "s1.print_name()"
      ],
      "metadata": {
        "colab": {
          "base_uri": "https://localhost:8080/"
        },
        "id": "XFMjLL3dOkPT",
        "outputId": "ae5d3191-e992-4247-f2aa-7dbeb61ff08b"
      },
      "execution_count": 10,
      "outputs": [
        {
          "output_type": "stream",
          "name": "stdout",
          "text": [
            "Bholanath\n",
            "Grandfather name : Bholanath\n",
            "Father name : Dipak\n",
            "Son name : Bikram\n"
          ]
        }
      ]
    },
    {
      "cell_type": "markdown",
      "source": [
        "d. **Hierarchical inheritance:**\n",
        "when more than one derived class are created from a single base this type of inheritance is called hierarchical inheritance."
      ],
      "metadata": {
        "id": "53VNO_ffO1QR"
      }
    },
    {
      "cell_type": "code",
      "source": [
        "class Parent:\n",
        "    def func1(self):\n",
        "        print(\"This function is in parent class.\")\n",
        "\n",
        "# Derived class1\n",
        "\n",
        "\n",
        "class Child1(Parent):\n",
        "    def func2(self):\n",
        "        print(\"This function is in child 1.\")\n",
        "\n",
        "# Derivied class2\n",
        "\n",
        "\n",
        "class Child2(Parent):\n",
        "    def func3(self):\n",
        "        print(\"This function is in child 2.\")\n",
        "\n",
        "\n",
        "# Driver's code\n",
        "object1 = Child1()\n",
        "object2 = Child2()\n",
        "object1.func1()\n",
        "object1.func2()\n",
        "object2.func1()\n",
        "object2.func3()"
      ],
      "metadata": {
        "colab": {
          "base_uri": "https://localhost:8080/"
        },
        "id": "TLd8QclLPKDw",
        "outputId": "a7598fb4-ee56-4b42-eaca-801d1d267632"
      },
      "execution_count": 11,
      "outputs": [
        {
          "output_type": "stream",
          "name": "stdout",
          "text": [
            "This function is in parent class.\n",
            "This function is in child 1.\n",
            "This function is in parent class.\n",
            "This function is in child 2.\n"
          ]
        }
      ]
    },
    {
      "cell_type": "markdown",
      "source": [
        "e. **Hybrid inheritance:**\n",
        "inheritance consisting of multiple types of inheritance is called hybris inheritance."
      ],
      "metadata": {
        "id": "6GrCXTlTPO_r"
      }
    },
    {
      "cell_type": "code",
      "source": [
        "class School:\n",
        "    def func1(self):\n",
        "        print(\"This function is in school.\")\n",
        "\n",
        "\n",
        "class Student1(School):\n",
        "    def func2(self):\n",
        "        print(\"This function is in student 1. \")\n",
        "\n",
        "\n",
        "class Student2(School):\n",
        "    def func3(self):\n",
        "        print(\"This function is in student 2.\")\n",
        "\n",
        "\n",
        "class Student3(Student1, School):\n",
        "    def func4(self):\n",
        "        print(\"This function is in student 3.\")\n",
        "\n",
        "\n",
        "# Driver's code\n",
        "object = Student3()\n",
        "object.func1()\n",
        "object.func2()"
      ],
      "metadata": {
        "colab": {
          "base_uri": "https://localhost:8080/"
        },
        "id": "QSX-RHPcPf6f",
        "outputId": "75d2fe41-2a0a-49cb-ee65-1b801fea9b7e"
      },
      "execution_count": 12,
      "outputs": [
        {
          "output_type": "stream",
          "name": "stdout",
          "text": [
            "This function is in school.\n",
            "This function is in student 1. \n"
          ]
        }
      ]
    },
    {
      "cell_type": "markdown",
      "source": [
        "7.** What is the method resolution order(MRO) in python? How can you retrive it programmatically?**\n",
        "\n",
        "Ans: Method Resolution Order(MRO) it denotes the way a programming language resolves a method or attribute. Python support classes inheritance from other classes. the class being inheritance is called the paraent /superclass , while the class that inheritance is called the child / superclass.\n",
        "\n",
        "In python method resolution order defines the order in which the base classes are searched when excuting a method.\n",
        "\n",
        "1st, method/attributes is searched within a class and then it follows the order we speicified while inheriting.\n",
        "this order is also called 'Linearization of class' and rules are called MRO(Method Resolution Order).\n",
        "\n"
      ],
      "metadata": {
        "id": "Z2cxeEs5yaF9"
      }
    },
    {
      "cell_type": "code",
      "source": [
        "class me:\n",
        "  def my_name(self):\n",
        "    print(\"I'm a class me\")\n",
        "class me1(me):\n",
        "  def my_name(self):\n",
        "    print(\"I'm a class me1\")\n",
        "class me2(me1):\n",
        "  def my_name(self):\n",
        "    print(\"I'm a class me2\")\n",
        "\n",
        "x = me2()\n",
        "print(x.my_name())"
      ],
      "metadata": {
        "colab": {
          "base_uri": "https://localhost:8080/"
        },
        "id": "BR4LGSj614qY",
        "outputId": "e28aee97-63e2-4150-cde5-b063d42edcaf"
      },
      "execution_count": 1,
      "outputs": [
        {
          "output_type": "stream",
          "name": "stdout",
          "text": [
            "I'm a class me2\n",
            "None\n"
          ]
        }
      ]
    },
    {
      "cell_type": "markdown",
      "source": [
        "8. **Create an abstract base class `Shape` with an abstract method `area()`. Then create two subclasses\n",
        "`Circle` and `Rectangle` that implement the `area()` method.**"
      ],
      "metadata": {
        "id": "P_L3ZQX32dwP"
      }
    },
    {
      "cell_type": "code",
      "source": [
        "from abc import ABC, abstractmethod\n",
        "import math\n",
        "\n",
        "class Shape(ABC):\n",
        "    @abstractmethod\n",
        "    def area(self):\n",
        "        \"\"\"Calculate the area of the shape.\"\"\"\n",
        "        pass\n",
        "\n",
        "class Circle(Shape):\n",
        "    def __init__(self, radius):\n",
        "        self.radius = radius\n",
        "\n",
        "    def area(self):\n",
        "        return math.pi * (self.radius ** 2)\n",
        "\n",
        "class Rectangle(Shape):\n",
        "    def __init__(self, width, height):\n",
        "        self.width = width\n",
        "        self.height = height\n",
        "\n",
        "    def area(self):\n",
        "        return self.width * self.height\n",
        "\n",
        "# Example usage:\n",
        "circle = Circle(5)\n",
        "print(f\"Circle Area: {circle.area():.2f}\")\n",
        "\n",
        "rectangle = Rectangle(4, 7)\n",
        "print(f\"Rectangle Area: {rectangle.area():.2f}\")\n"
      ],
      "metadata": {
        "colab": {
          "base_uri": "https://localhost:8080/"
        },
        "id": "2p4lunev2xdj",
        "outputId": "2a39b9af-db98-43eb-a131-534ebdc28690"
      },
      "execution_count": 2,
      "outputs": [
        {
          "output_type": "stream",
          "name": "stdout",
          "text": [
            "Circle Area: 78.54\n",
            "Rectangle Area: 28.00\n"
          ]
        }
      ]
    },
    {
      "cell_type": "markdown",
      "source": [
        "9. ** Demonstrate polymorphism by creating a function that can work with different shape objects to calculate\n",
        "and print their areas.**"
      ],
      "metadata": {
        "id": "mQ7FZP3F29_R"
      }
    },
    {
      "cell_type": "code",
      "source": [
        "import math\n",
        "\n",
        "class Shape:\n",
        "    def area(self):\n",
        "        pass  # To be implemented in subclasses\n",
        "\n",
        "# Circle class\n",
        "class Circle(Shape):\n",
        "    def __init__(self, radius):\n",
        "        self.radius = radius\n",
        "\n",
        "    def area(self):\n",
        "        return math.pi * self.radius ** 2\n",
        "\n",
        "# Rectangle class\n",
        "class Rectangle(Shape):\n",
        "    def __init__(self, width, height):\n",
        "        self.width = width\n",
        "        self.height = height\n",
        "\n",
        "    def area(self):\n",
        "        return self.width * self.height\n",
        "\n",
        "# Triangle class\n",
        "class Triangle(Shape):\n",
        "    def __init__(self, base, height):\n",
        "        self.base = base\n",
        "        self.height = height\n",
        "\n",
        "    def area(self):\n",
        "        return 0.5 * self.base * self.height\n",
        "\n",
        "# Function that demonstrates polymorphism\n",
        "def print_area(shape):\n",
        "    print(f\"The area is: {shape.area()}\")\n",
        "\n",
        "# Creating objects of different shapes\n",
        "circle = Circle(5)\n",
        "rectangle = Rectangle(4, 7)\n",
        "triangle = Triangle(6, 8)\n",
        "\n",
        "# Calling the same function with different shape objects\n",
        "print_area(circle)      # Area of Circle\n",
        "print_area(rectangle)   # Area of Rectangle\n",
        "print_area(triangle)    # Area of Triangle\n"
      ],
      "metadata": {
        "colab": {
          "base_uri": "https://localhost:8080/"
        },
        "id": "MqgWqGMG3VNg",
        "outputId": "50a84e9c-1199-4b8a-9d6c-aa13803ecf94"
      },
      "execution_count": 3,
      "outputs": [
        {
          "output_type": "stream",
          "name": "stdout",
          "text": [
            "The area is: 78.53981633974483\n",
            "The area is: 28\n",
            "The area is: 24.0\n"
          ]
        }
      ]
    },
    {
      "cell_type": "markdown",
      "source": [
        "polymorphism : the print_area() fun takes any shape object and called its area() method.\n",
        "\n",
        "inheritance: each shape class inheritance from the shape base class, not necessary for polymorphism.\n",
        "\n",
        "method overriding: each shape class overrides the area() method to provides its specific calculation."
      ],
      "metadata": {
        "id": "KsOz6QlB3cpU"
      }
    },
    {
      "cell_type": "markdown",
      "source": [
        "10. ** Implement encapsulation in a `BankAccount` class with private attributes for `balance` and\n",
        "`account_number`. Include methods for deposit, withdrawal, and balance inquiry.**"
      ],
      "metadata": {
        "id": "Uo84gLo14HiI"
      }
    },
    {
      "cell_type": "code",
      "source": [
        "class BankAccount:\n",
        "    def __init__(self, account_number, initial_balance=0):\n",
        "        # Private attributes\n",
        "        self.__account_number = account_number\n",
        "        self.__balance = initial_balance\n",
        "\n",
        "    # Method to deposit money\n",
        "    def deposit(self, amount):\n",
        "        if amount > 0:\n",
        "            self.__balance += amount\n",
        "            print(f\"Deposited: ${amount}\")\n",
        "        else:\n",
        "            print(\"Invalid deposit amount!\")\n",
        "\n",
        "    # Method to withdraw money\n",
        "    def withdraw(self, amount):\n",
        "        if 0 < amount <= self.__balance:\n",
        "            self.__balance -= amount\n",
        "            print(f\"Withdrew: ${amount}\")\n",
        "        else:\n",
        "            print(\"Invalid withdrawal amount or insufficient balance!\")\n",
        "\n",
        "    # Method to inquire the balance\n",
        "    def get_balance(self):\n",
        "        return self.__balance\n",
        "\n",
        "    # Method to get the account number\n",
        "    def get_account_number(self):\n",
        "        return self.__account_number\n",
        "\n",
        "# Usage example\n",
        "account = BankAccount(\"123456789\", 500)\n",
        "\n",
        "# Performing some operations\n",
        "account.deposit(100)        # Deposited: $100\n",
        "account.withdraw(50)         # Withdrew: $50\n",
        "print(f\"Balance: ${account.get_balance()}\")  # Balance: $550\n",
        "print(f\"Account Number: {account.get_account_number()}\")  # Account Number: 123456789\n",
        "\n",
        "# Trying invalid operations\n",
        "account.withdraw(1000)      # Invalid withdrawal amount or insufficient balance!\n",
        "account.deposit(-50)        # Invalid deposit amount!\n"
      ],
      "metadata": {
        "colab": {
          "base_uri": "https://localhost:8080/"
        },
        "id": "FU1Pi8pN4V1E",
        "outputId": "6934e4a2-d356-4f81-845e-7a7116741138"
      },
      "execution_count": 4,
      "outputs": [
        {
          "output_type": "stream",
          "name": "stdout",
          "text": [
            "Deposited: $100\n",
            "Withdrew: $50\n",
            "Balance: $550\n",
            "Account Number: 123456789\n",
            "Invalid withdrawal amount or insufficient balance!\n",
            "Invalid deposit amount!\n"
          ]
        }
      ]
    },
    {
      "cell_type": "markdown",
      "source": [
        "11. ** Write a class that overrides the `__str__` and `__add__` magic methods. What will these methods allow\n",
        "you to do?**\n",
        "\n",
        "Ans:\n",
        "__str__ : this method allows you to define a string representation of an object. used when call str(obj), use print(obj).\n",
        "\n",
        "__add__ allows you to define custom behavior for the + operator, enabling you to use + to combine object of your class in meaningful ways."
      ],
      "metadata": {
        "id": "vWXJRaKm4cnF"
      }
    },
    {
      "cell_type": "code",
      "source": [
        "class point:\n",
        "  def __init__(self,x,y):\n",
        "    self.x = x\n",
        "    self.y = y\n",
        "\n",
        "  def __str__(self):\n",
        "    return f\"({self.x},{self.y})\"\n",
        "\n",
        "  def __add__(self,other):\n",
        "    if isinstance(other,point):\n",
        "      return point(self.x + other.x, self.y + other.y)\n",
        "    return notimplemented\n",
        "\n",
        "point1 = point(1,2)\n",
        "point2 = point(3,4)\n",
        "print(point1)\n",
        "\n",
        "point3 = point1 + point2\n",
        "print(point3)"
      ],
      "metadata": {
        "colab": {
          "base_uri": "https://localhost:8080/"
        },
        "id": "qE7H9deKd-uX",
        "outputId": "57fb27e7-1ee6-4432-c7fb-22284846519f"
      },
      "execution_count": 1,
      "outputs": [
        {
          "output_type": "stream",
          "name": "stdout",
          "text": [
            "(1,2)\n",
            "(4,6)\n"
          ]
        }
      ]
    },
    {
      "cell_type": "markdown",
      "source": [
        "12.** Create a decorator that measures and prints the execution time of a function**\n",
        "\n",
        "Ans:  "
      ],
      "metadata": {
        "id": "IDJV3BbXeoEz"
      }
    },
    {
      "cell_type": "code",
      "source": [
        "import time\n",
        "\n",
        "# Decorator to measure execution time\n",
        "def time_it(func):\n",
        "    def wrapper(*args, **kwargs):\n",
        "        start_time = time.time()  # Start the timer\n",
        "        result = func(*args, **kwargs)  # Execute the function\n",
        "        end_time = time.time()  # Stop the timer\n",
        "        execution_time = end_time - start_time\n",
        "        print(f\"Function '{func.__name__}' executed in {execution_time:.6f} seconds\")\n",
        "        return result  # Return the result of the function\n",
        "    return wrapper\n",
        "\n",
        "# Using the decorator\n",
        "@time_it\n",
        "def slow_function():\n",
        "    time.sleep(2)  # Simulate a time-consuming operation\n",
        "\n",
        "@time_it\n",
        "def add(a, b):\n",
        "    return a + b\n",
        "\n",
        "# Calling the decorated functions\n",
        "slow_function()  # This will take ~2 seconds\n",
        "result = add(5, 10)  # This will be fast\n",
        "print(f\"Addition result: {result}\")\n"
      ],
      "metadata": {
        "colab": {
          "base_uri": "https://localhost:8080/"
        },
        "id": "4o1UHvP4fTRp",
        "outputId": "7a35f52d-0e15-455d-e6d2-86232bff0012"
      },
      "execution_count": 2,
      "outputs": [
        {
          "output_type": "stream",
          "name": "stdout",
          "text": [
            "Function 'slow_function' executed in 2.002114 seconds\n",
            "Function 'add' executed in 0.000002 seconds\n",
            "Addition result: 15\n"
          ]
        }
      ]
    },
    {
      "cell_type": "markdown",
      "source": [
        "13. **Explain the concept of the Diamond Problem in multiple inheritance. How does Python resolve it?**\n",
        "\n",
        "Ans: the diamond problem occurs in multiple inheritance when a class inherits from or more classes that have a common ancestor.\n",
        "This can create ambiguity in the method resolution order (MRO).\n"
      ],
      "metadata": {
        "id": "qixcyNyFfXv3"
      }
    },
    {
      "cell_type": "code",
      "source": [
        "class A:\n",
        "    def show(self):\n",
        "        print(\"Method from class A\")\n",
        "\n",
        "class B(A):\n",
        "    def show(self):\n",
        "        print(\"Method from class B\")\n",
        "\n",
        "class C(A):\n",
        "    def show(self):\n",
        "        print(\"Method from class C\")\n",
        "\n",
        "class D(B, C):  # D inherits from both B and C\n",
        "    pass\n",
        "\n",
        "# Creating an object of class D\n",
        "obj = D()\n",
        "obj.show()  # Which 'show()' method will be called?\n"
      ],
      "metadata": {
        "colab": {
          "base_uri": "https://localhost:8080/"
        },
        "id": "NjazgpQ1gaRj",
        "outputId": "103550b0-6fe9-4f72-baeb-18fa7823327d"
      },
      "execution_count": 3,
      "outputs": [
        {
          "output_type": "stream",
          "name": "stdout",
          "text": [
            "Method from class B\n"
          ]
        }
      ]
    },
    {
      "cell_type": "markdown",
      "source": [],
      "metadata": {
        "id": "UvABfTDPgg7V"
      }
    },
    {
      "cell_type": "markdown",
      "source": [
        "14. ** Write a class method that keeps track of the number of instances created from a class.**"
      ],
      "metadata": {
        "id": "7QdfepU9gdsR"
      }
    },
    {
      "cell_type": "code",
      "source": [
        "class InstanceCounter:\n",
        "    # Class attribute to keep track of the number of instances\n",
        "    _instance_count = 0\n",
        "\n",
        "    def __init__(self):\n",
        "        # Increment the counter every time a new instance is created\n",
        "        InstanceCounter._instance_count += 1\n",
        "\n",
        "    @classmethod\n",
        "    def get_instance_count(cls):\n",
        "        # Class method to return the number of instances\n",
        "        return cls._instance_count\n",
        "\n",
        "# Creating instances of the class\n",
        "obj1 = InstanceCounter()\n",
        "obj2 = InstanceCounter()\n",
        "obj3 = InstanceCounter()\n",
        "\n",
        "# Accessing the number of instances created\n",
        "print(f\"Number of instances: {InstanceCounter.get_instance_count()}\")\n"
      ],
      "metadata": {
        "colab": {
          "base_uri": "https://localhost:8080/"
        },
        "id": "lthQILztgxtW",
        "outputId": "8bd81901-2164-445a-8031-1d27cc2ba3b7"
      },
      "execution_count": 4,
      "outputs": [
        {
          "output_type": "stream",
          "name": "stdout",
          "text": [
            "Number of instances: 3\n"
          ]
        }
      ]
    },
    {
      "cell_type": "markdown",
      "source": [
        "15. ** Implement a static method in a class that checks if a given year is a leap year.**"
      ],
      "metadata": {
        "id": "lnoKIx7pg2yW"
      }
    },
    {
      "cell_type": "code",
      "source": [
        "class DateUtils:\n",
        "    @staticmethod\n",
        "    def is_leap_year(year):\n",
        "        if (year % 4 == 0 and year % 100 != 0) or (year % 400 == 0):\n",
        "            return True\n",
        "        return False\n",
        "\n",
        "# Testing the static method\n",
        "print(DateUtils.is_leap_year(2024))  # True (leap year)\n",
        "print(DateUtils.is_leap_year(1900))  # False (not a leap year)\n",
        "print(DateUtils.is_leap_year(2000))  # True (leap year)\n",
        "print(DateUtils.is_leap_year(2023))  # False (not a leap year)\n"
      ],
      "metadata": {
        "colab": {
          "base_uri": "https://localhost:8080/"
        },
        "id": "vnMUfOhXhAdq",
        "outputId": "ef704e57-a816-42ac-9c3c-7706ad8a1864"
      },
      "execution_count": 5,
      "outputs": [
        {
          "output_type": "stream",
          "name": "stdout",
          "text": [
            "True\n",
            "False\n",
            "True\n",
            "False\n"
          ]
        }
      ]
    }
  ]
}