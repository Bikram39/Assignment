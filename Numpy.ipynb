{
  "nbformat": 4,
  "nbformat_minor": 0,
  "metadata": {
    "colab": {
      "provenance": []
    },
    "kernelspec": {
      "name": "python3",
      "display_name": "Python 3"
    },
    "language_info": {
      "name": "python"
    }
  },
  "cells": [
    {
      "cell_type": "markdown",
      "source": [
        "## **Theoretical Questions:**"
      ],
      "metadata": {
        "id": "7AdP2DJNzWLe"
      }
    },
    {
      "cell_type": "markdown",
      "source": [
        "1. **Explain the purpose and advantages of NumPy in scientific computing and data analysis. How does it\n",
        "enhance Python's capabilities for numerical operations?**\n",
        "\n",
        "Ans: Numpy is a foundation library in python for numerical and scientific computing, primarily because it enhance python's capablilities in handiling large, multidimensional array and matrices, along with providing a varity of mahemetical functions.\n",
        "\n",
        "**Purpose of NumPy:**\n",
        "1. Efficient Array Processing: NumPy provides a powerful object, the ndarray, which allows for fast and efficient processing of large datasets. It supports arrays of any dimension and data type.\n",
        "2. Mathematical Operations: NumPy includes a wide range of functions for mathematical operations like linear algebra, statistical operations, Fourier transforms, and more.\n",
        "3. Interfacing with Other Libraries: NumPy serves as a foundation for other scientific computing libraries in Python, like SciPy, Pandas, and scikit-learn, all of which build on its data structures and routines.\n",
        "\n",
        "**Advantages of NumPy:**\n",
        "A. Performance: NumPy is highly optimized, as it’s implemented in C, which makes operations on arrays much faster than using Python's native lists. Vectorized operations, which process entire arrays at once, eliminate the need for loops in many cases, leading to substantial speedups.\n",
        "\n",
        "B. 50X faster then list in python\n",
        "C.  Manipulation and accessing of element are very very easy\n",
        "D. continous storing of array Locality of reference\n",
        "E. very useful for performing logical and mathematical calculations on array and matrix.\n",
        "\n",
        "**How NumPy Enhances Python’s Capabilities:**\n",
        "\n",
        "A. Providing Fast Array Operations: NumPy’s array-based computing is faster than Python’s native lists due to its C-based implementation, making it suitable for high-performance tasks.\n",
        "\n",
        "B. Enabling Data Interoperability: NumPy arrays are a standard data format, facilitating data exchange between various Python libraries."
      ],
      "metadata": {
        "id": "6DLAKrpmzl6N"
      }
    },
    {
      "cell_type": "markdown",
      "source": [
        "2. ** Compare and contrast np.mean() and np.average() functions in NumPy. When would you use one over the\n",
        "other?**\n",
        "\n",
        "Ans:\n",
        "\n",
        "**np.mean()  :**\n",
        "\n",
        "1. use to calculate arithmetic mean\n",
        "2. all element have equal weight\n",
        "3. weight cannot be passed through the parameter of the given function.\n",
        "4. **syntax**\n",
        "    np.mean(arr,axis=None)\n",
        "ex:"
      ],
      "metadata": {
        "id": "4lfk-HNx2TM2"
      }
    },
    {
      "cell_type": "code",
      "source": [
        "import numpy as np\n",
        "arr = np.array([1,2,3,4,5])\n",
        "print(np.mean(arr))"
      ],
      "metadata": {
        "colab": {
          "base_uri": "https://localhost:8080/"
        },
        "id": "I1MnA_1l3A28",
        "outputId": "c39ecd7d-1f66-4e97-a6af-9c4d9bcb8a7c"
      },
      "execution_count": 1,
      "outputs": [
        {
          "output_type": "stream",
          "name": "stdout",
          "text": [
            "3.0\n"
          ]
        }
      ]
    },
    {
      "cell_type": "markdown",
      "source": [
        "**np.average() **\n",
        "1. use to calculate the artihmetic mean as well as weight average.\n",
        "2. all element may or may not have equal weight.\n",
        "3. weight can be passed through the parameter of the given function.\n",
        "4. **syntax**\n",
        "    numpy.average(arr, axis=None, weight = none)\n",
        "\n",
        "ex:"
      ],
      "metadata": {
        "id": "st8EeJ5q3LI1"
      }
    },
    {
      "cell_type": "code",
      "source": [
        "import numpy as np\n",
        "arr = np.array([1,2,3,4,5,6,7,8,9,10])\n",
        "print(\"Array : \",arr,\"\\n\")\n",
        "print(\"Mean of the Array : \",np.average(arr),\"\\n\")\n",
        "weight = np.array([4,5,6,12,15,10,2,8,19,20])\n",
        "print(\"Weight average of Array : \",np.average(arr, weights=weight))"
      ],
      "metadata": {
        "colab": {
          "base_uri": "https://localhost:8080/"
        },
        "id": "6Mx1athW3xAc",
        "outputId": "9da583f4-42c0-43e3-b0d6-1693d4b6c533"
      },
      "execution_count": 2,
      "outputs": [
        {
          "output_type": "stream",
          "name": "stdout",
          "text": [
            "Array :  [ 1  2  3  4  5  6  7  8  9 10] \n",
            "\n",
            "Mean of the Array :  5.5 \n",
            "\n",
            "Weight average of Array :  6.574257425742574\n"
          ]
        }
      ]
    },
    {
      "cell_type": "code",
      "source": [],
      "metadata": {
        "id": "7suZ7qxs3x8y"
      },
      "execution_count": null,
      "outputs": []
    },
    {
      "cell_type": "markdown",
      "source": [
        "3.**Describe the methods for reversing a NumPy array along different axes. Provide examples for 1D and 2D\n",
        "arrays.**\n",
        "\n",
        "Ans: **Reversing a 1D array**\n"
      ],
      "metadata": {
        "id": "neJUdbEk330b"
      }
    },
    {
      "cell_type": "code",
      "source": [
        "import numpy as np\n",
        "\n",
        "arr_1d = np.array([1,2,3,4,5,6])\n",
        "reversed_arr_1d = arr_1d[::-1]\n",
        "print(reversed_arr_1d)"
      ],
      "metadata": {
        "colab": {
          "base_uri": "https://localhost:8080/"
        },
        "id": "LVch645S4u6h",
        "outputId": "28e18f5a-1f06-438f-e0ea-9cddd5d678f6"
      },
      "execution_count": 3,
      "outputs": [
        {
          "output_type": "stream",
          "name": "stdout",
          "text": [
            "[6 5 4 3 2 1]\n"
          ]
        }
      ]
    },
    {
      "cell_type": "markdown",
      "source": [
        "**Reversing a 2D array **"
      ],
      "metadata": {
        "id": "5R-7d3Dp5SRv"
      }
    },
    {
      "cell_type": "code",
      "source": [
        "# 2D array example\n",
        "arr_2d = np.array([[1, 2, 3], [4, 5, 6], [7, 8, 9]])\n",
        "reversed_rows = arr_2d[::-1, :]\n",
        "print(reversed_rows)\n"
      ],
      "metadata": {
        "colab": {
          "base_uri": "https://localhost:8080/"
        },
        "id": "yZjHAsCc5Yty",
        "outputId": "9ed97034-0866-4e1f-b55c-8a0a3d842d2d"
      },
      "execution_count": 4,
      "outputs": [
        {
          "output_type": "stream",
          "name": "stdout",
          "text": [
            "[[7 8 9]\n",
            " [4 5 6]\n",
            " [1 2 3]]\n"
          ]
        }
      ]
    },
    {
      "cell_type": "markdown",
      "source": [
        " **Reverse Along Both Axes (180-degree Rotation)**"
      ],
      "metadata": {
        "id": "R-u4-5dP5jei"
      }
    },
    {
      "cell_type": "code",
      "source": [
        "reversed_both_axes = arr_2d[::-1, ::-1]\n",
        "print(reversed_both_axes)\n"
      ],
      "metadata": {
        "colab": {
          "base_uri": "https://localhost:8080/"
        },
        "id": "c5aUOA3N5rOb",
        "outputId": "d7090466-17a8-4dd8-e4fa-51629c55b84e"
      },
      "execution_count": 5,
      "outputs": [
        {
          "output_type": "stream",
          "name": "stdout",
          "text": [
            "[[9 8 7]\n",
            " [6 5 4]\n",
            " [3 2 1]]\n"
          ]
        }
      ]
    },
    {
      "cell_type": "markdown",
      "source": [
        "4. ** How can you determine the data type of elements in a NumPy array? Discuss the importance of data types\n",
        "in memory management and performance.**\n",
        "\n",
        "Ans: Numpy array is a multi-dimensional data structure that is the core of scientific computing in python.\n",
        "\n",
        "all values in array are homogenous .\n",
        "\n",
        "**Dimensions in array**\n",
        "0D(zero dimensional): for example scalar- a single element\n",
        "\n",
        "1D (one- Dimension): for example vector- a list of integer\n",
        "\n",
        "2D (two- Dimensional): for example matrix - a spreadsheet of data\n",
        "\n",
        "3D(three-Dimensional): for example tensor-storing a color image.\n",
        "\n",
        "**Create a Array Object:**\n",
        "Numpy array's object allow us to work with arrays in python. the array object is called ndarray.\n",
        "\n",
        "array() function of the Numpy library creates a ndarray."
      ],
      "metadata": {
        "id": "nJKmu6iPIWCO"
      }
    },
    {
      "cell_type": "code",
      "source": [
        "import numpy as np\n",
        "arr = np.array([1,2,3,4,5,6,7,8])\n",
        "print(arr)"
      ],
      "metadata": {
        "colab": {
          "base_uri": "https://localhost:8080/"
        },
        "id": "E3nV3zw9K_O1",
        "outputId": "4a551785-f4fc-4428-9255-35ba41f6d5f6"
      },
      "execution_count": 2,
      "outputs": [
        {
          "output_type": "stream",
          "name": "stdout",
          "text": [
            "[1 2 3 4 5 6 7 8]\n"
          ]
        }
      ]
    },
    {
      "cell_type": "markdown",
      "source": [
        "5. ** Define ndarrays in NumPy and explain their key features. How do they differ from standard Python lists?**\n",
        "\n",
        "\n",
        "Ans: array in numpy is a table of element(usually numbers), all of the same type, indexed by a tuple of positive integers. In Numpy, number of dimensions of the array is called rank of the array. A tuple of integers giving the size of the array along each dimension is known as shape of the array, An array class in numpy is called as ndarray.\n",
        "\n",
        "element in numpy array are accessed by using square brackets and can be initilized by using nested python list.\n",
        "\n",
        "ex: [[1,2,3],[4,3,1]]\n",
        "here, rank = 2 , 1st dimension length = 2, 2nd dimension has length = 3\n",
        "overall shape can be expressed (2,3)\n",
        "\n",
        "**importent point of list**\n",
        "\n",
        "1. the list can be homogeneous or heterogoneous.\n",
        "2. element wise operation is not possible on the list.\n",
        "3. python list is by default 1D. But we can create an N-D list. but then too it will be 1D list strong another 1D list\n",
        "4. element of a list need not be contiguous in memory.\n",
        "\n",
        "**Comparison between Numpy array and Python List**\n",
        "\n",
        "1. **Element Overhead:** Lists in Python store additional information about each element, such as its type and reference count. This overhead can be significant when dealing with a large number of elements.\n",
        "\n",
        "2. **Datatype:** Lists can hold different data types, but this can decrease memory efficiency and slow numerical operations.\n",
        "\n",
        "3. **Memory Fragmentation:** Lists may not store elements in contiguous memory locations, causing memory fragmentation and inefficiency.\n"
      ],
      "metadata": {
        "id": "36wISLGzLKTB"
      }
    },
    {
      "cell_type": "markdown",
      "source": [
        "6. ** Analyze the performance benefits of NumPy arrays over Python lists for large-scale numerical operations**\n",
        "\n",
        "Ans:\n",
        "**Memory Efficiency**\n",
        "Homogeneous Data Storage: NumPy arrays are typed, meaning all elements have the same data type, allowing them to be stored in contiguous memory blocks. This differs from Python lists, which can store mixed data types, requiring separate references for each element. The result is lower memory overhead and better memory locality in NumPy.\n",
        "\n",
        "**peed of Element-wise Operations**\n",
        "Vectorization: NumPy supports vectorized operations, allowing operations to be applied to entire arrays without the need for explicit loops. This leads to significantly faster execution since the underlying operations are implemented in C and run at compiled speeds. In contrast, Python lists require iteration through each element, which is slower and more computationally intensive.\n",
        "\n",
        "**Optimized Mathematical and Statistical Functions**\n",
        "NumPy offers a range of highly optimized functions for mathematical and statistical operations (e.g., np.sum, np.mean, np.dot). These functions are often implemented in lower-level languages, like C or Fortran, and they take advantage of optimized linear algebra libraries (e.g., BLAS, LAPACK).\n",
        "\n",
        "**Performance Comparison: NumPy Array vs. Python List**"
      ],
      "metadata": {
        "id": "YbryK08Eg8v3"
      }
    },
    {
      "cell_type": "code",
      "source": [
        "import numpy as np\n",
        "import time\n",
        "\n",
        "# Large dataset\n",
        "n = 10_000_000\n",
        "list_data = list(range(n))\n",
        "array_data = np.array(list_data)\n",
        "\n",
        "# Using a Python list\n",
        "start_time = time.time()\n",
        "list_squared = [x**2 for x in list_data]\n",
        "print(\"Time taken using list:\", time.time() - start_time, \"seconds\")\n",
        "\n",
        "# Using a NumPy array\n",
        "start_time = time.time()\n",
        "array_squared = array_data**2\n",
        "print(\"Time taken using NumPy array:\", time.time() - start_time, \"seconds\")\n"
      ],
      "metadata": {
        "colab": {
          "base_uri": "https://localhost:8080/"
        },
        "id": "SpBZQ96AjSf5",
        "outputId": "23b5d2fa-b22e-4190-e85f-993892dab4e5"
      },
      "execution_count": 1,
      "outputs": [
        {
          "output_type": "stream",
          "name": "stdout",
          "text": [
            "Time taken using list: 4.708946466445923 seconds\n",
            "Time taken using NumPy array: 0.05474591255187988 seconds\n"
          ]
        }
      ]
    },
    {
      "cell_type": "markdown",
      "source": [
        "7. ** Compare vstack() and hstack() functions in NumPy. Provide examples demonstrating their usage and\n",
        "output**\n",
        "\n",
        "Ans:\n",
        "vstack( vertical stack):\n",
        "Purpose: Stack arrays vertically, along rows. It concatenates arrays along the first axis (axis=0).\n",
        "Requirements: Arrays must have the same number of columns to stack vertically.\n",
        "\n",
        "Example:"
      ],
      "metadata": {
        "id": "lTHMW30_jZOZ"
      }
    },
    {
      "cell_type": "code",
      "source": [
        "import numpy as np\n",
        "\n",
        "# Creating two 1D arrays\n",
        "array1 = np.array([1, 2, 3])\n",
        "array2 = np.array([4, 5, 6])\n",
        "\n",
        "# Using vstack\n",
        "result_vstack = np.vstack((array1, array2))\n",
        "print(\"Result of vstack:\\n\", result_vstack)\n"
      ],
      "metadata": {
        "colab": {
          "base_uri": "https://localhost:8080/"
        },
        "id": "Bi12WfbMkNSD",
        "outputId": "6bf59993-9c09-4e0d-86c6-9296004cf435"
      },
      "execution_count": 2,
      "outputs": [
        {
          "output_type": "stream",
          "name": "stdout",
          "text": [
            "Result of vstack:\n",
            " [[1 2 3]\n",
            " [4 5 6]]\n"
          ]
        }
      ]
    },
    {
      "cell_type": "markdown",
      "source": [
        "hstcak(horizontal stack):\n",
        "Purpose: Stack arrays horizontally, along columns. It concatenates arrays along the second axis (axis=1).\n",
        "Requirements: Arrays must have the same number of rows to stack horizontally."
      ],
      "metadata": {
        "id": "NKbzsA8pkS_t"
      }
    },
    {
      "cell_type": "code",
      "source": [
        "# Creating two 1D arrays\n",
        "array5 = np.array([1, 2, 3])\n",
        "array6 = np.array([4, 5, 6])\n",
        "\n",
        "# Using hstack\n",
        "result_hstack = np.hstack((array5, array6))\n",
        "print(\"Result of hstack:\\n\", result_hstack)\n"
      ],
      "metadata": {
        "colab": {
          "base_uri": "https://localhost:8080/"
        },
        "id": "-lrJAWPekcdn",
        "outputId": "9cfb7833-0751-4d2c-9b80-2c1b79b24929"
      },
      "execution_count": 3,
      "outputs": [
        {
          "output_type": "stream",
          "name": "stdout",
          "text": [
            "Result of hstack:\n",
            " [1 2 3 4 5 6]\n"
          ]
        }
      ]
    },
    {
      "cell_type": "markdown",
      "source": [
        "8. **Explain the differences between fliplr() and flipud() methods in NumPy, including their effects on various\n",
        "array dimensions.**\n",
        "\n",
        "Ans:\n",
        "**fliper(): flip left to right (horizontal flip)**\n",
        "\n",
        "*  fliplr() flips an array along its horizontal axis, effectively reversing the order of columns for each row.\n",
        "\n",
        "* fliplr() only works with arrays that have two or more dimensions (i.e., it requires at least two columns in the array).\n",
        "\n",
        "example with a 2D array"
      ],
      "metadata": {
        "id": "9t1d-cjvkevY"
      }
    },
    {
      "cell_type": "code",
      "source": [
        "import numpy as np\n",
        "\n",
        "array_2d = np.array([[1, 2, 3],\n",
        "                     [4, 5, 6],\n",
        "                     [7, 8, 9]])\n",
        "\n",
        "# Using fliplr\n",
        "flipped_lr = np.fliplr(array_2d)\n",
        "print(\"Result of fliplr:\\n\", flipped_lr)\n"
      ],
      "metadata": {
        "colab": {
          "base_uri": "https://localhost:8080/"
        },
        "id": "VhbSGrBblJBe",
        "outputId": "e0df5c8e-a2af-4159-a534-03fe2f442a48"
      },
      "execution_count": 4,
      "outputs": [
        {
          "output_type": "stream",
          "name": "stdout",
          "text": [
            "Result of fliplr:\n",
            " [[3 2 1]\n",
            " [6 5 4]\n",
            " [9 8 7]]\n"
          ]
        }
      ]
    },
    {
      "cell_type": "markdown",
      "source": [
        "**flipud(): Flip Up to Down (Vertical Flip)**\n",
        "\n",
        "* flipud() flips an array along its vertical axis, reversing the order of rows.\n",
        "* flipud() works with arrays of any dimension that have at least one row.\n",
        "\n",
        "example with 2D array"
      ],
      "metadata": {
        "id": "7kWIJX9IlNWL"
      }
    },
    {
      "cell_type": "code",
      "source": [
        "# Using flipud\n",
        "flipped_ud = np.flipud(array_2d)\n",
        "print(\"Result of flipud:\\n\", flipped_ud)\n"
      ],
      "metadata": {
        "colab": {
          "base_uri": "https://localhost:8080/"
        },
        "id": "0Y5KP6EJlbA7",
        "outputId": "3b82d317-50dd-45fb-f9aa-022131beb87b"
      },
      "execution_count": 5,
      "outputs": [
        {
          "output_type": "stream",
          "name": "stdout",
          "text": [
            "Result of flipud:\n",
            " [[7 8 9]\n",
            " [4 5 6]\n",
            " [1 2 3]]\n"
          ]
        }
      ]
    },
    {
      "cell_type": "markdown",
      "source": [
        "9. ** Discuss the functionality of the array_split() method in NumPy. How does it handle uneven splits?**\n",
        "\n",
        "Ans: Array splitting in NumPy is like a slice of cake. Think of each element in a NumPy array as a slice of cake. Splitting divides this “cake” into smaller “slices” (sub-arrays), often along specific dimensions or based on certain criteria. We can split horizontally, vertically, or even diagonally depending on our needs.\n",
        "\n",
        "**key concept:**\n",
        "1. Axis: The dimension along which the array is split (e.g., rows, columns, depth).\n",
        "2. Sub-arrays: The smaller arrays resulting from the split.\n",
        "3. Splitting methods: Different functions in NumPy for splitting arrays (e.g., np.split(), np.vsplit(), np.hsplit(), etc.).\n",
        "4. Equal vs. Unequal splits: Whether the sub-arrays have the same size or not.\n"
      ],
      "metadata": {
        "id": "WQTO117llj_e"
      }
    },
    {
      "cell_type": "code",
      "source": [
        "import numpy as np\n",
        "Arr = np.array([1, 2, 3, 4, 5, 6])\n",
        "array = np.array_split(Arr, 3)\n",
        "print(array)"
      ],
      "metadata": {
        "colab": {
          "base_uri": "https://localhost:8080/"
        },
        "id": "IIs56AVkmFQ6",
        "outputId": "a1c31e6d-40cf-4246-b7d2-8253c1da9448"
      },
      "execution_count": 7,
      "outputs": [
        {
          "output_type": "stream",
          "name": "stdout",
          "text": [
            "[array([1, 2]), array([3, 4]), array([5, 6])]\n"
          ]
        }
      ]
    },
    {
      "cell_type": "markdown",
      "source": [
        "**Splitting NumPy Arrays in Python**\n",
        "a. Split numpy array using numpy.split()\n",
        "b. Split numpy array using numpy.array_split()\n",
        "c. Splitting NumPy 2D Arrays\n",
        "d. Split numpy array using numpy.vsplit()\n",
        "e. Split numpy array using numpyhsplit()\n",
        "f. Split numpy arrayusing numpy.dsplit()"
      ],
      "metadata": {
        "id": "jytn6j9qmNWJ"
      }
    },
    {
      "cell_type": "markdown",
      "source": [
        "9. **. Explain the concepts of vectorization and broadcasting in NumPy. How do they contribute to efficient array\n",
        "operations?**\n",
        "\n",
        "Ans:\n",
        "**Numpy array Broadcasting:**\n",
        "Broadcasting provides a means of vectorizing array operations, therefore eliminating the need for Python loops. This is because NumPy is implemented in C Programming, which is a very efficient language.\n",
        "It does this without making needless copies of data which leads to efficient algorithm implementations. But broadcasting over multiple arrays in NumPy extension can raise cases where broadcasting is a bad idea because it leads to inefficient use of memory that slows down the computation.\n",
        "\n",
        "**Array Broadcasting Examples**"
      ],
      "metadata": {
        "id": "lhjPooxPmh3H"
      }
    },
    {
      "cell_type": "code",
      "source": [
        "import numpy as np\n",
        "a = np.array([17, 11, 19]) # 1x3 Dimension array\n",
        "print(a)\n",
        "b = 3\n",
        "print(b)\n",
        "\n",
        "# Broadcasting happened because of\n",
        "# miss match in array Dimension.\n",
        "c = a + b\n",
        "print(c)"
      ],
      "metadata": {
        "colab": {
          "base_uri": "https://localhost:8080/"
        },
        "id": "SwAkwQErnANK",
        "outputId": "dfd9bb43-913f-48ad-cfff-3eb199c0ffa9"
      },
      "execution_count": 8,
      "outputs": [
        {
          "output_type": "stream",
          "name": "stdout",
          "text": [
            "[17 11 19]\n",
            "3\n",
            "[20 14 22]\n"
          ]
        }
      ]
    },
    {
      "cell_type": "markdown",
      "source": [
        "**Vectorized in Numpy:**\n",
        "Numpy arrays are homogeneous in nature means it is an array that contains data of a single type only. Python’s lists and tuples are unrestricted in the type of data they contain. The concept of vectorized operations on NumPy allows the use of more optimal and pre-compiled functions and mathematical operations on NumPy array objects and data sequences. The Output and Operations will speed up when compared to simple non-vectorized operations."
      ],
      "metadata": {
        "id": "gNecwtBbnHmL"
      }
    },
    {
      "cell_type": "code",
      "source": [
        "import numpy as np\n",
        "import timeit\n",
        "\n",
        "# vectorized sum\n",
        "print(np.sum(np.arange(15000)))\n",
        "\n",
        "print(\"Time taken by vectorized sum : \", end = \"\")\n",
        "%timeit np.sum(np.arange(15000))\n",
        "\n",
        "# iterative sum\n",
        "total = 0\n",
        "for item in range(0, 15000):\n",
        "    total += item\n",
        "a = total\n",
        "print(\"\\n\" + str(a))\n",
        "\n",
        "print(\"Time taken by iterative sum : \", end = \"\")\n",
        "%timeit a"
      ],
      "metadata": {
        "colab": {
          "base_uri": "https://localhost:8080/"
        },
        "id": "PnuUCseXnUfP",
        "outputId": "32fea7ba-c3c8-4625-ce6d-9b06782bca86"
      },
      "execution_count": 9,
      "outputs": [
        {
          "output_type": "stream",
          "name": "stdout",
          "text": [
            "112492500\n",
            "Time taken by vectorized sum : 15.4 µs ± 557 ns per loop (mean ± std. dev. of 7 runs, 10000 loops each)\n",
            "\n",
            "112492500\n",
            "Time taken by iterative sum : 33.5 ns ± 0.72 ns per loop (mean ± std. dev. of 7 runs, 10000000 loops each)\n"
          ]
        }
      ]
    },
    {
      "cell_type": "markdown",
      "source": [
        "# **Practical Questions:**"
      ],
      "metadata": {
        "id": "WFmjsoYGnq4H"
      }
    },
    {
      "cell_type": "markdown",
      "source": [
        "1. ** Create a 3x3 NumPy array with random integers between 1 and 100. Then, interchange its rows and columns.**"
      ],
      "metadata": {
        "id": "obkwz7aZnxHV"
      }
    },
    {
      "cell_type": "code",
      "source": [
        "import numpy as np\n",
        "\n",
        "# Step 1: Create a 3x3 array with random integers between 1 and 100\n",
        "array_3x3 = np.random.randint(1, 101, size=(3, 3))\n",
        "print(\"Original Array:\\n\", array_3x3)\n",
        "\n",
        "# Step 2: Interchange rows and columns (transpose)\n",
        "transposed_array = array_3x3.T\n",
        "print(\"\\nTransposed Array (Rows and Columns Interchanged):\\n\", transposed_array)\n"
      ],
      "metadata": {
        "colab": {
          "base_uri": "https://localhost:8080/"
        },
        "id": "4eBwNmdPoEhW",
        "outputId": "e9ff4f8a-9c72-431e-d411-71acf1ee9c17"
      },
      "execution_count": 10,
      "outputs": [
        {
          "output_type": "stream",
          "name": "stdout",
          "text": [
            "Original Array:\n",
            " [[ 4 60 92]\n",
            " [98 41 52]\n",
            " [84 66 67]]\n",
            "\n",
            "Transposed Array (Rows and Columns Interchanged):\n",
            " [[ 4 98 84]\n",
            " [60 41 66]\n",
            " [92 52 67]]\n"
          ]
        }
      ]
    },
    {
      "cell_type": "markdown",
      "source": [
        "2. **Generate a 1D NumPy array with 10 elements. Reshape it into a 2x5 array, then into a 5x2 array.**"
      ],
      "metadata": {
        "id": "mSjbZu7VoHtY"
      }
    },
    {
      "cell_type": "code",
      "source": [
        "import numpy as np\n",
        "\n",
        "# Step 1: Generate a 1D array with 10 elements\n",
        "array_1d = np.arange(10)\n",
        "print(\"Original 1D Array:\\n\", array_1d)\n",
        "\n",
        "# Step 2: Reshape it into a 2x5 array\n",
        "array_2x5 = array_1d.reshape(2, 5)\n",
        "print(\"\\nReshaped to 2x5 Array:\\n\", array_2x5)\n",
        "\n",
        "# Step 3: Reshape the 2x5 array into a 5x2 array\n",
        "array_5x2 = array_2x5.reshape(5, 2)\n",
        "print(\"\\nReshaped to 5x2 Array:\\n\", array_5x2)\n"
      ],
      "metadata": {
        "colab": {
          "base_uri": "https://localhost:8080/"
        },
        "id": "2UhmJhiQoUmN",
        "outputId": "adedf4fe-8a17-49ba-f9d4-7761a4cf7ebc"
      },
      "execution_count": 11,
      "outputs": [
        {
          "output_type": "stream",
          "name": "stdout",
          "text": [
            "Original 1D Array:\n",
            " [0 1 2 3 4 5 6 7 8 9]\n",
            "\n",
            "Reshaped to 2x5 Array:\n",
            " [[0 1 2 3 4]\n",
            " [5 6 7 8 9]]\n",
            "\n",
            "Reshaped to 5x2 Array:\n",
            " [[0 1]\n",
            " [2 3]\n",
            " [4 5]\n",
            " [6 7]\n",
            " [8 9]]\n"
          ]
        }
      ]
    },
    {
      "cell_type": "markdown",
      "source": [
        "3. ** Create a 4x4 NumPy array with random float values. Add a border of zeros around it, resulting in a 6x6 array.**"
      ],
      "metadata": {
        "id": "-QHJ6NLroZWC"
      }
    },
    {
      "cell_type": "code",
      "source": [
        "import numpy as np\n",
        "\n",
        "# Step 1: Create a 4x4 array with random float values\n",
        "array_4x4 = np.random.rand(4, 4)\n",
        "print(\"Original 4x4 Array:\\n\", array_4x4)\n",
        "\n",
        "# Step 2: Add a border of zeros to make it a 6x6 array\n",
        "array_6x6 = np.pad(array_4x4, pad_width=1, mode='constant', constant_values=0)\n",
        "print(\"\\n6x6 Array with Zero Border:\\n\", array_6x6)\n"
      ],
      "metadata": {
        "colab": {
          "base_uri": "https://localhost:8080/"
        },
        "id": "CruXL_Dsokkl",
        "outputId": "3f49f258-5c8f-4054-af7c-f2ef434ddb19"
      },
      "execution_count": 12,
      "outputs": [
        {
          "output_type": "stream",
          "name": "stdout",
          "text": [
            "Original 4x4 Array:\n",
            " [[0.0130501  0.17191684 0.45241517 0.85956703]\n",
            " [0.74143569 0.12585818 0.91296296 0.72766313]\n",
            " [0.27972072 0.93568837 0.30834397 0.85559401]\n",
            " [0.16382443 0.35783319 0.63906795 0.96490331]]\n",
            "\n",
            "6x6 Array with Zero Border:\n",
            " [[0.         0.         0.         0.         0.         0.        ]\n",
            " [0.         0.0130501  0.17191684 0.45241517 0.85956703 0.        ]\n",
            " [0.         0.74143569 0.12585818 0.91296296 0.72766313 0.        ]\n",
            " [0.         0.27972072 0.93568837 0.30834397 0.85559401 0.        ]\n",
            " [0.         0.16382443 0.35783319 0.63906795 0.96490331 0.        ]\n",
            " [0.         0.         0.         0.         0.         0.        ]]\n"
          ]
        }
      ]
    },
    {
      "cell_type": "markdown",
      "source": [
        "4. **Using NumPy, create an array of integers from 10 to 60 with a step of 5**\n",
        "\n",
        "Ans:"
      ],
      "metadata": {
        "id": "Blp4t14Topw4"
      }
    },
    {
      "cell_type": "code",
      "source": [
        "import numpy as np\n",
        "\n",
        "# Create an array of integers from 10 to 60 with a step of 5\n",
        "array = np.arange(10, 61, 5)\n",
        "print(\"Array:\", array)\n"
      ],
      "metadata": {
        "colab": {
          "base_uri": "https://localhost:8080/"
        },
        "id": "MxtsM_ZOo0c9",
        "outputId": "7d42d481-4eee-4d0f-df9e-65d3f4425822"
      },
      "execution_count": 13,
      "outputs": [
        {
          "output_type": "stream",
          "name": "stdout",
          "text": [
            "Array: [10 15 20 25 30 35 40 45 50 55 60]\n"
          ]
        }
      ]
    },
    {
      "cell_type": "markdown",
      "source": [
        "5. ** Create a NumPy array of strings ['python', 'numpy', 'pandas']. Apply different case transformations\n",
        "(uppercase, lowercase, title case, etc.) to each element.**"
      ],
      "metadata": {
        "id": "0vIOEOzFo3Oq"
      }
    },
    {
      "cell_type": "code",
      "source": [
        "import numpy as np\n",
        "\n",
        "# Create a NumPy array of strings\n",
        "array = np.array(['python', 'numpy', 'pandas'])\n",
        "\n",
        "# Apply uppercase transformation\n",
        "uppercase_array = np.char.upper(array)\n",
        "print(\"Uppercase:\", uppercase_array)\n",
        "\n",
        "# Apply lowercase transformation\n",
        "lowercase_array = np.char.lower(array)\n",
        "print(\"Lowercase:\", lowercase_array)\n",
        "\n",
        "# Apply title case transformation\n",
        "titlecase_array = np.char.title(array)\n",
        "print(\"Title Case:\", titlecase_array)\n",
        "\n",
        "# Capitalize the first letter only\n",
        "capitalize_array = np.char.capitalize(array)\n",
        "print(\"Capitalized:\", capitalize_array)\n"
      ],
      "metadata": {
        "colab": {
          "base_uri": "https://localhost:8080/"
        },
        "id": "QrBk9Xg2pEmW",
        "outputId": "d040659c-04e4-4a77-bb29-5b894db85564"
      },
      "execution_count": 14,
      "outputs": [
        {
          "output_type": "stream",
          "name": "stdout",
          "text": [
            "Uppercase: ['PYTHON' 'NUMPY' 'PANDAS']\n",
            "Lowercase: ['python' 'numpy' 'pandas']\n",
            "Title Case: ['Python' 'Numpy' 'Pandas']\n",
            "Capitalized: ['Python' 'Numpy' 'Pandas']\n"
          ]
        }
      ]
    },
    {
      "cell_type": "markdown",
      "source": [
        "6. ** Generate a NumPy array of words. Insert a space between each character of every word in the array.**"
      ],
      "metadata": {
        "id": "i_ujVV5spHX9"
      }
    },
    {
      "cell_type": "code",
      "source": [
        "import numpy as np\n",
        "\n",
        "# Create a NumPy array of words\n",
        "words = np.array(['python', 'numpy', 'pandas'])\n",
        "\n",
        "# Insert a space between each character of every word\n",
        "spaced_words = np.char.join(' ', words)\n",
        "print(\"Words with spaces:\", spaced_words)\n"
      ],
      "metadata": {
        "colab": {
          "base_uri": "https://localhost:8080/"
        },
        "id": "TJO3epZkpp2W",
        "outputId": "87b8e9fa-a44a-45fc-85ca-3521d05ba125"
      },
      "execution_count": 17,
      "outputs": [
        {
          "output_type": "stream",
          "name": "stdout",
          "text": [
            "Words with spaces: ['p y t h o n' 'n u m p y' 'p a n d a s']\n"
          ]
        }
      ]
    },
    {
      "cell_type": "markdown",
      "source": [
        "7. ** Create two 2D NumPy arrays and perform element-wise addition, subtraction, multiplication, and division.**"
      ],
      "metadata": {
        "id": "_-joqaTAqSJl"
      }
    },
    {
      "cell_type": "code",
      "source": [
        "import numpy as np\n",
        "\n",
        "# Create two 2D arrays\n",
        "array1 = np.array([[1, 2, 3], [4, 5, 6]])\n",
        "array2 = np.array([[7, 8, 9], [10, 11, 12]])\n",
        "\n",
        "# Element-wise addition\n",
        "addition = array1 + array2\n",
        "print(\"Element-wise Addition:\\n\", addition)\n",
        "\n",
        "# Element-wise subtraction\n",
        "subtraction = array1 - array2\n",
        "print(\"\\nElement-wise Subtraction:\\n\", subtraction)\n",
        "\n",
        "# Element-wise multiplication\n",
        "multiplication = array1 * array2\n",
        "print(\"\\nElement-wise Multiplication:\\n\", multiplication)\n",
        "\n",
        "# Element-wise division\n",
        "division = array1 / array2\n",
        "print(\"\\nElement-wise Division:\\n\", division)\n"
      ],
      "metadata": {
        "colab": {
          "base_uri": "https://localhost:8080/"
        },
        "id": "gwRXSQz-qcHI",
        "outputId": "f1e03d3a-6067-40f7-8ce4-0cac4cd70941"
      },
      "execution_count": 19,
      "outputs": [
        {
          "output_type": "stream",
          "name": "stdout",
          "text": [
            "Element-wise Addition:\n",
            " [[ 8 10 12]\n",
            " [14 16 18]]\n",
            "\n",
            "Element-wise Subtraction:\n",
            " [[-6 -6 -6]\n",
            " [-6 -6 -6]]\n",
            "\n",
            "Element-wise Multiplication:\n",
            " [[ 7 16 27]\n",
            " [40 55 72]]\n",
            "\n",
            "Element-wise Division:\n",
            " [[0.14285714 0.25       0.33333333]\n",
            " [0.4        0.45454545 0.5       ]]\n"
          ]
        }
      ]
    },
    {
      "cell_type": "markdown",
      "source": [
        "8. ** Use NumPy to create a 5x5 identity matrix, then extract its diagonal elements.**"
      ],
      "metadata": {
        "id": "7smwjUcgqnRA"
      }
    },
    {
      "cell_type": "code",
      "source": [
        "import numpy as np\n",
        "\n",
        "# Step 1: Create a 5x5 identity matrix\n",
        "identity_matrix = np.eye(5)\n",
        "print(\"5x5 Identity Matrix:\\n\", identity_matrix)\n",
        "\n",
        "# Step 2: Extract diagonal elements\n",
        "diagonal_elements = np.diagonal(identity_matrix)\n",
        "print(\"\\nDiagonal Elements:\", diagonal_elements)\n"
      ],
      "metadata": {
        "colab": {
          "base_uri": "https://localhost:8080/"
        },
        "id": "4thmQXmiq35n",
        "outputId": "eb3d1808-d316-4261-df3d-8246cb5e6c1c"
      },
      "execution_count": 20,
      "outputs": [
        {
          "output_type": "stream",
          "name": "stdout",
          "text": [
            "5x5 Identity Matrix:\n",
            " [[1. 0. 0. 0. 0.]\n",
            " [0. 1. 0. 0. 0.]\n",
            " [0. 0. 1. 0. 0.]\n",
            " [0. 0. 0. 1. 0.]\n",
            " [0. 0. 0. 0. 1.]]\n",
            "\n",
            "Diagonal Elements: [1. 1. 1. 1. 1.]\n"
          ]
        }
      ]
    },
    {
      "cell_type": "markdown",
      "source": [
        "9. ** Generate a NumPy array of 100 random integers between 0 and 1000. Find and display all prime numbers in\n",
        "this array**"
      ],
      "metadata": {
        "id": "K31pIVsVq8Fq"
      }
    },
    {
      "cell_type": "code",
      "source": [
        "import numpy as np\n",
        "\n",
        "# Step 1: Generate an array of 100 random integers between 0 and 1000\n",
        "array = np.random.randint(0, 1001, size=100)\n",
        "print(\"Random Array:\\n\", array)\n",
        "\n",
        "# Step 2: Define a function to check if a number is prime\n",
        "def is_prime(n):\n",
        "    if n <= 1:\n",
        "        return False\n",
        "    for i in range(2, int(n ** 0.5) + 1):\n",
        "        if n % i == 0:\n",
        "            return False\n",
        "    return True\n",
        "\n",
        "# Step 3: Apply the is_prime function to filter prime numbers\n",
        "prime_numbers = [num for num in array if is_prime(num)]\n",
        "\n",
        "print(\"\\nPrime Numbers in the Array:\", prime_numbers)\n"
      ],
      "metadata": {
        "colab": {
          "base_uri": "https://localhost:8080/"
        },
        "id": "3k7ssdIDrEHm",
        "outputId": "cf3e9e25-3175-4e42-c11e-01c622a5d856"
      },
      "execution_count": 21,
      "outputs": [
        {
          "output_type": "stream",
          "name": "stdout",
          "text": [
            "Random Array:\n",
            " [  8 606 300 781 412 829 848 397 737 289  96 506 112 130 144 399 815 539\n",
            " 339 917 659  10 669 781 948 375 772 338 122 887 859 102 427 369 695 622\n",
            " 600 514 777 269 801 338 286  75  23 514 788 603 752 107 362 242   4 981\n",
            "   0 192 213 430 845 433 478 825 263 121 893 302 431 784 692  97 615  21\n",
            " 158 497 486 849 606 960 364 904 638 165 735 393 471  49 410 790 190 424\n",
            " 865 720 239 369 670 608 382 534 303 181]\n",
            "\n",
            "Prime Numbers in the Array: [829, 397, 659, 887, 859, 269, 23, 107, 433, 263, 431, 97, 239, 181]\n"
          ]
        }
      ]
    },
    {
      "cell_type": "markdown",
      "source": [
        "10. ** Create a NumPy array representing daily temperatures for a month. Calculate and display the weekly\n",
        "averages.**"
      ],
      "metadata": {
        "id": "1rQ79-jMrG1d"
      }
    },
    {
      "cell_type": "code",
      "source": [
        "temperatures = [40, 42, 44, 40, 39, 46, 45]\n",
        "\n",
        "# Number of temperature readings\n",
        "n = len(temperatures)\n",
        "\n",
        "# Summation\n",
        "sum = 0.0\n",
        "for temp in temperatures:\n",
        "    sum += temp\n",
        "\n",
        "# Average Calculation\n",
        "average = sum / n\n",
        "\n",
        "# Output\n",
        "print(f\"Average Temperature: {average} degrees Celsius\")"
      ],
      "metadata": {
        "colab": {
          "base_uri": "https://localhost:8080/"
        },
        "id": "RcVDPWpgrcfM",
        "outputId": "e1dd9fe0-8573-481f-a823-5f8d1a271c5d"
      },
      "execution_count": 24,
      "outputs": [
        {
          "output_type": "stream",
          "name": "stdout",
          "text": [
            "Average Temperature: 42.285714285714285 degrees Celsius\n"
          ]
        }
      ]
    }
  ]
}